{
 "cells": [
  {
   "cell_type": "markdown",
   "id": "ecaab9f7",
   "metadata": {},
   "source": [
    "# Import Libraries"
   ]
  },
  {
   "cell_type": "code",
   "execution_count": 1,
   "id": "fccdd6dc",
   "metadata": {},
   "outputs": [
    {
     "name": "stdout",
     "output_type": "stream",
     "text": [
      "Setup Completed!\n"
     ]
    }
   ],
   "source": [
    "import numpy as np\n",
    "import pandas as pd\n",
    "print(\"Setup Completed!\")"
   ]
  },
  {
   "cell_type": "markdown",
   "id": "c44a6907",
   "metadata": {},
   "source": [
    "# Read & Check the datasets"
   ]
  },
  {
   "cell_type": "markdown",
   "id": "522ec148",
   "metadata": {},
   "source": [
    "### Training set"
   ]
  },
  {
   "cell_type": "code",
   "execution_count": 5,
   "id": "6737f42b",
   "metadata": {},
   "outputs": [
    {
     "data": {
      "text/html": [
       "<div>\n",
       "<style scoped>\n",
       "    .dataframe tbody tr th:only-of-type {\n",
       "        vertical-align: middle;\n",
       "    }\n",
       "\n",
       "    .dataframe tbody tr th {\n",
       "        vertical-align: top;\n",
       "    }\n",
       "\n",
       "    .dataframe thead th {\n",
       "        text-align: right;\n",
       "    }\n",
       "</style>\n",
       "<table border=\"1\" class=\"dataframe\">\n",
       "  <thead>\n",
       "    <tr style=\"text-align: right;\">\n",
       "      <th></th>\n",
       "      <th>class</th>\n",
       "      <th>cap-diameter</th>\n",
       "      <th>cap-shape</th>\n",
       "      <th>cap-surface</th>\n",
       "      <th>cap-color</th>\n",
       "      <th>does-bruise-or-bleed</th>\n",
       "      <th>gill-attachment</th>\n",
       "      <th>gill-spacing</th>\n",
       "      <th>gill-color</th>\n",
       "      <th>stem-height</th>\n",
       "      <th>...</th>\n",
       "      <th>stem-root</th>\n",
       "      <th>stem-surface</th>\n",
       "      <th>stem-color</th>\n",
       "      <th>veil-type</th>\n",
       "      <th>veil-color</th>\n",
       "      <th>has-ring</th>\n",
       "      <th>ring-type</th>\n",
       "      <th>spore-print-color</th>\n",
       "      <th>habitat</th>\n",
       "      <th>season</th>\n",
       "    </tr>\n",
       "    <tr>\n",
       "      <th>id</th>\n",
       "      <th></th>\n",
       "      <th></th>\n",
       "      <th></th>\n",
       "      <th></th>\n",
       "      <th></th>\n",
       "      <th></th>\n",
       "      <th></th>\n",
       "      <th></th>\n",
       "      <th></th>\n",
       "      <th></th>\n",
       "      <th></th>\n",
       "      <th></th>\n",
       "      <th></th>\n",
       "      <th></th>\n",
       "      <th></th>\n",
       "      <th></th>\n",
       "      <th></th>\n",
       "      <th></th>\n",
       "      <th></th>\n",
       "      <th></th>\n",
       "      <th></th>\n",
       "    </tr>\n",
       "  </thead>\n",
       "  <tbody>\n",
       "    <tr>\n",
       "      <th>0</th>\n",
       "      <td>e</td>\n",
       "      <td>8.80</td>\n",
       "      <td>f</td>\n",
       "      <td>s</td>\n",
       "      <td>u</td>\n",
       "      <td>f</td>\n",
       "      <td>a</td>\n",
       "      <td>c</td>\n",
       "      <td>w</td>\n",
       "      <td>4.51</td>\n",
       "      <td>...</td>\n",
       "      <td>NaN</td>\n",
       "      <td>NaN</td>\n",
       "      <td>w</td>\n",
       "      <td>NaN</td>\n",
       "      <td>NaN</td>\n",
       "      <td>f</td>\n",
       "      <td>f</td>\n",
       "      <td>NaN</td>\n",
       "      <td>d</td>\n",
       "      <td>a</td>\n",
       "    </tr>\n",
       "    <tr>\n",
       "      <th>1</th>\n",
       "      <td>p</td>\n",
       "      <td>4.51</td>\n",
       "      <td>x</td>\n",
       "      <td>h</td>\n",
       "      <td>o</td>\n",
       "      <td>f</td>\n",
       "      <td>a</td>\n",
       "      <td>c</td>\n",
       "      <td>n</td>\n",
       "      <td>4.79</td>\n",
       "      <td>...</td>\n",
       "      <td>NaN</td>\n",
       "      <td>y</td>\n",
       "      <td>o</td>\n",
       "      <td>NaN</td>\n",
       "      <td>NaN</td>\n",
       "      <td>t</td>\n",
       "      <td>z</td>\n",
       "      <td>NaN</td>\n",
       "      <td>d</td>\n",
       "      <td>w</td>\n",
       "    </tr>\n",
       "    <tr>\n",
       "      <th>2</th>\n",
       "      <td>e</td>\n",
       "      <td>6.94</td>\n",
       "      <td>f</td>\n",
       "      <td>s</td>\n",
       "      <td>b</td>\n",
       "      <td>f</td>\n",
       "      <td>x</td>\n",
       "      <td>c</td>\n",
       "      <td>w</td>\n",
       "      <td>6.85</td>\n",
       "      <td>...</td>\n",
       "      <td>NaN</td>\n",
       "      <td>s</td>\n",
       "      <td>n</td>\n",
       "      <td>NaN</td>\n",
       "      <td>NaN</td>\n",
       "      <td>f</td>\n",
       "      <td>f</td>\n",
       "      <td>NaN</td>\n",
       "      <td>l</td>\n",
       "      <td>w</td>\n",
       "    </tr>\n",
       "    <tr>\n",
       "      <th>3</th>\n",
       "      <td>e</td>\n",
       "      <td>3.88</td>\n",
       "      <td>f</td>\n",
       "      <td>y</td>\n",
       "      <td>g</td>\n",
       "      <td>f</td>\n",
       "      <td>s</td>\n",
       "      <td>NaN</td>\n",
       "      <td>g</td>\n",
       "      <td>4.16</td>\n",
       "      <td>...</td>\n",
       "      <td>NaN</td>\n",
       "      <td>NaN</td>\n",
       "      <td>w</td>\n",
       "      <td>NaN</td>\n",
       "      <td>NaN</td>\n",
       "      <td>f</td>\n",
       "      <td>f</td>\n",
       "      <td>NaN</td>\n",
       "      <td>d</td>\n",
       "      <td>u</td>\n",
       "    </tr>\n",
       "    <tr>\n",
       "      <th>4</th>\n",
       "      <td>e</td>\n",
       "      <td>5.85</td>\n",
       "      <td>x</td>\n",
       "      <td>l</td>\n",
       "      <td>w</td>\n",
       "      <td>f</td>\n",
       "      <td>d</td>\n",
       "      <td>NaN</td>\n",
       "      <td>w</td>\n",
       "      <td>3.37</td>\n",
       "      <td>...</td>\n",
       "      <td>NaN</td>\n",
       "      <td>NaN</td>\n",
       "      <td>w</td>\n",
       "      <td>NaN</td>\n",
       "      <td>NaN</td>\n",
       "      <td>f</td>\n",
       "      <td>f</td>\n",
       "      <td>NaN</td>\n",
       "      <td>g</td>\n",
       "      <td>a</td>\n",
       "    </tr>\n",
       "  </tbody>\n",
       "</table>\n",
       "<p>5 rows × 21 columns</p>\n",
       "</div>"
      ],
      "text/plain": [
       "   class  cap-diameter cap-shape cap-surface cap-color does-bruise-or-bleed  \\\n",
       "id                                                                            \n",
       "0      e          8.80         f           s         u                    f   \n",
       "1      p          4.51         x           h         o                    f   \n",
       "2      e          6.94         f           s         b                    f   \n",
       "3      e          3.88         f           y         g                    f   \n",
       "4      e          5.85         x           l         w                    f   \n",
       "\n",
       "   gill-attachment gill-spacing gill-color  stem-height  ...  stem-root  \\\n",
       "id                                                       ...              \n",
       "0                a            c          w         4.51  ...        NaN   \n",
       "1                a            c          n         4.79  ...        NaN   \n",
       "2                x            c          w         6.85  ...        NaN   \n",
       "3                s          NaN          g         4.16  ...        NaN   \n",
       "4                d          NaN          w         3.37  ...        NaN   \n",
       "\n",
       "   stem-surface stem-color veil-type veil-color has-ring ring-type  \\\n",
       "id                                                                   \n",
       "0           NaN          w       NaN        NaN        f         f   \n",
       "1             y          o       NaN        NaN        t         z   \n",
       "2             s          n       NaN        NaN        f         f   \n",
       "3           NaN          w       NaN        NaN        f         f   \n",
       "4           NaN          w       NaN        NaN        f         f   \n",
       "\n",
       "   spore-print-color habitat season  \n",
       "id                                   \n",
       "0                NaN       d      a  \n",
       "1                NaN       d      w  \n",
       "2                NaN       l      w  \n",
       "3                NaN       d      u  \n",
       "4                NaN       g      a  \n",
       "\n",
       "[5 rows x 21 columns]"
      ]
     },
     "execution_count": 5,
     "metadata": {},
     "output_type": "execute_result"
    }
   ],
   "source": [
    "training_set_path = 'dataset/train/train.csv'\n",
    "train_dataset = pd.read_csv(training_set_path, index_col = 'id')\n",
    "train_dataset.head()"
   ]
  },
  {
   "cell_type": "markdown",
   "id": "272879d1",
   "metadata": {},
   "source": [
    "### Testing set"
   ]
  },
  {
   "cell_type": "code",
   "execution_count": 4,
   "id": "6b242727",
   "metadata": {},
   "outputs": [
    {
     "data": {
      "text/html": [
       "<div>\n",
       "<style scoped>\n",
       "    .dataframe tbody tr th:only-of-type {\n",
       "        vertical-align: middle;\n",
       "    }\n",
       "\n",
       "    .dataframe tbody tr th {\n",
       "        vertical-align: top;\n",
       "    }\n",
       "\n",
       "    .dataframe thead th {\n",
       "        text-align: right;\n",
       "    }\n",
       "</style>\n",
       "<table border=\"1\" class=\"dataframe\">\n",
       "  <thead>\n",
       "    <tr style=\"text-align: right;\">\n",
       "      <th></th>\n",
       "      <th>cap-diameter</th>\n",
       "      <th>cap-shape</th>\n",
       "      <th>cap-surface</th>\n",
       "      <th>cap-color</th>\n",
       "      <th>does-bruise-or-bleed</th>\n",
       "      <th>gill-attachment</th>\n",
       "      <th>gill-spacing</th>\n",
       "      <th>gill-color</th>\n",
       "      <th>stem-height</th>\n",
       "      <th>stem-width</th>\n",
       "      <th>stem-root</th>\n",
       "      <th>stem-surface</th>\n",
       "      <th>stem-color</th>\n",
       "      <th>veil-type</th>\n",
       "      <th>veil-color</th>\n",
       "      <th>has-ring</th>\n",
       "      <th>ring-type</th>\n",
       "      <th>spore-print-color</th>\n",
       "      <th>habitat</th>\n",
       "      <th>season</th>\n",
       "    </tr>\n",
       "    <tr>\n",
       "      <th>id</th>\n",
       "      <th></th>\n",
       "      <th></th>\n",
       "      <th></th>\n",
       "      <th></th>\n",
       "      <th></th>\n",
       "      <th></th>\n",
       "      <th></th>\n",
       "      <th></th>\n",
       "      <th></th>\n",
       "      <th></th>\n",
       "      <th></th>\n",
       "      <th></th>\n",
       "      <th></th>\n",
       "      <th></th>\n",
       "      <th></th>\n",
       "      <th></th>\n",
       "      <th></th>\n",
       "      <th></th>\n",
       "      <th></th>\n",
       "      <th></th>\n",
       "    </tr>\n",
       "  </thead>\n",
       "  <tbody>\n",
       "    <tr>\n",
       "      <th>3116945</th>\n",
       "      <td>8.64</td>\n",
       "      <td>x</td>\n",
       "      <td>NaN</td>\n",
       "      <td>n</td>\n",
       "      <td>t</td>\n",
       "      <td>NaN</td>\n",
       "      <td>NaN</td>\n",
       "      <td>w</td>\n",
       "      <td>11.13</td>\n",
       "      <td>17.12</td>\n",
       "      <td>b</td>\n",
       "      <td>NaN</td>\n",
       "      <td>w</td>\n",
       "      <td>u</td>\n",
       "      <td>w</td>\n",
       "      <td>t</td>\n",
       "      <td>g</td>\n",
       "      <td>NaN</td>\n",
       "      <td>d</td>\n",
       "      <td>a</td>\n",
       "    </tr>\n",
       "    <tr>\n",
       "      <th>3116946</th>\n",
       "      <td>6.90</td>\n",
       "      <td>o</td>\n",
       "      <td>t</td>\n",
       "      <td>o</td>\n",
       "      <td>f</td>\n",
       "      <td>NaN</td>\n",
       "      <td>c</td>\n",
       "      <td>y</td>\n",
       "      <td>1.27</td>\n",
       "      <td>10.75</td>\n",
       "      <td>NaN</td>\n",
       "      <td>NaN</td>\n",
       "      <td>n</td>\n",
       "      <td>NaN</td>\n",
       "      <td>NaN</td>\n",
       "      <td>f</td>\n",
       "      <td>f</td>\n",
       "      <td>NaN</td>\n",
       "      <td>d</td>\n",
       "      <td>a</td>\n",
       "    </tr>\n",
       "    <tr>\n",
       "      <th>3116947</th>\n",
       "      <td>2.00</td>\n",
       "      <td>b</td>\n",
       "      <td>g</td>\n",
       "      <td>n</td>\n",
       "      <td>f</td>\n",
       "      <td>NaN</td>\n",
       "      <td>c</td>\n",
       "      <td>n</td>\n",
       "      <td>6.18</td>\n",
       "      <td>3.14</td>\n",
       "      <td>NaN</td>\n",
       "      <td>NaN</td>\n",
       "      <td>n</td>\n",
       "      <td>NaN</td>\n",
       "      <td>NaN</td>\n",
       "      <td>f</td>\n",
       "      <td>f</td>\n",
       "      <td>NaN</td>\n",
       "      <td>d</td>\n",
       "      <td>s</td>\n",
       "    </tr>\n",
       "    <tr>\n",
       "      <th>3116948</th>\n",
       "      <td>3.47</td>\n",
       "      <td>x</td>\n",
       "      <td>t</td>\n",
       "      <td>n</td>\n",
       "      <td>f</td>\n",
       "      <td>s</td>\n",
       "      <td>c</td>\n",
       "      <td>n</td>\n",
       "      <td>4.98</td>\n",
       "      <td>8.51</td>\n",
       "      <td>NaN</td>\n",
       "      <td>NaN</td>\n",
       "      <td>w</td>\n",
       "      <td>NaN</td>\n",
       "      <td>n</td>\n",
       "      <td>t</td>\n",
       "      <td>z</td>\n",
       "      <td>NaN</td>\n",
       "      <td>d</td>\n",
       "      <td>u</td>\n",
       "    </tr>\n",
       "    <tr>\n",
       "      <th>3116949</th>\n",
       "      <td>6.17</td>\n",
       "      <td>x</td>\n",
       "      <td>h</td>\n",
       "      <td>y</td>\n",
       "      <td>f</td>\n",
       "      <td>p</td>\n",
       "      <td>NaN</td>\n",
       "      <td>y</td>\n",
       "      <td>6.73</td>\n",
       "      <td>13.70</td>\n",
       "      <td>NaN</td>\n",
       "      <td>NaN</td>\n",
       "      <td>y</td>\n",
       "      <td>NaN</td>\n",
       "      <td>y</td>\n",
       "      <td>t</td>\n",
       "      <td>NaN</td>\n",
       "      <td>NaN</td>\n",
       "      <td>d</td>\n",
       "      <td>u</td>\n",
       "    </tr>\n",
       "  </tbody>\n",
       "</table>\n",
       "</div>"
      ],
      "text/plain": [
       "         cap-diameter cap-shape cap-surface cap-color does-bruise-or-bleed  \\\n",
       "id                                                                           \n",
       "3116945          8.64         x         NaN         n                    t   \n",
       "3116946          6.90         o           t         o                    f   \n",
       "3116947          2.00         b           g         n                    f   \n",
       "3116948          3.47         x           t         n                    f   \n",
       "3116949          6.17         x           h         y                    f   \n",
       "\n",
       "        gill-attachment gill-spacing gill-color  stem-height  stem-width  \\\n",
       "id                                                                         \n",
       "3116945             NaN          NaN          w        11.13       17.12   \n",
       "3116946             NaN            c          y         1.27       10.75   \n",
       "3116947             NaN            c          n         6.18        3.14   \n",
       "3116948               s            c          n         4.98        8.51   \n",
       "3116949               p          NaN          y         6.73       13.70   \n",
       "\n",
       "        stem-root stem-surface stem-color veil-type veil-color has-ring  \\\n",
       "id                                                                        \n",
       "3116945         b          NaN          w         u          w        t   \n",
       "3116946       NaN          NaN          n       NaN        NaN        f   \n",
       "3116947       NaN          NaN          n       NaN        NaN        f   \n",
       "3116948       NaN          NaN          w       NaN          n        t   \n",
       "3116949       NaN          NaN          y       NaN          y        t   \n",
       "\n",
       "        ring-type spore-print-color habitat season  \n",
       "id                                                  \n",
       "3116945         g               NaN       d      a  \n",
       "3116946         f               NaN       d      a  \n",
       "3116947         f               NaN       d      s  \n",
       "3116948         z               NaN       d      u  \n",
       "3116949       NaN               NaN       d      u  "
      ]
     },
     "execution_count": 4,
     "metadata": {},
     "output_type": "execute_result"
    }
   ],
   "source": [
    "testing_set_path = 'dataset/test/test.csv'\n",
    "test_dataset = pd.read_csv(testing_set_path, index_col = 'id')\n",
    "test_dataset.head()"
   ]
  },
  {
   "cell_type": "markdown",
   "id": "c64a5000",
   "metadata": {},
   "source": [
    "### Check the number of all records in the dataset "
   ]
  },
  {
   "cell_type": "code",
   "execution_count": 6,
   "id": "36520a41",
   "metadata": {},
   "outputs": [
    {
     "name": "stdout",
     "output_type": "stream",
     "text": [
      "The number of training examples:  3116945\n",
      "The number of testing examples:  2077964\n"
     ]
    }
   ],
   "source": [
    "print(\"The number of training examples: \", len(train_dataset))\n",
    "print(\"The number of testing examples: \", len(test_dataset))"
   ]
  },
  {
   "cell_type": "code",
   "execution_count": 7,
   "id": "305cf613",
   "metadata": {},
   "outputs": [
    {
     "name": "stdout",
     "output_type": "stream",
     "text": [
      "The shape of training examples:  (3116945, 21)\n",
      "The shape of testing examples:  (2077964, 20)\n"
     ]
    }
   ],
   "source": [
    "print(\"The shape of training examples: \", train_dataset.shape)\n",
    "print(\"The shape of testing examples: \", test_dataset.shape)"
   ]
  },
  {
   "cell_type": "markdown",
   "id": "d6754fc7",
   "metadata": {},
   "source": [
    "### View the information of the datasets (missing values, duplicates)"
   ]
  },
  {
   "cell_type": "code",
   "execution_count": 8,
   "id": "83045a50",
   "metadata": {},
   "outputs": [
    {
     "name": "stdout",
     "output_type": "stream",
     "text": [
      "<class 'pandas.core.frame.DataFrame'>\n",
      "Int64Index: 3116945 entries, 0 to 3116944\n",
      "Data columns (total 21 columns):\n",
      " #   Column                Dtype  \n",
      "---  ------                -----  \n",
      " 0   class                 object \n",
      " 1   cap-diameter          float64\n",
      " 2   cap-shape             object \n",
      " 3   cap-surface           object \n",
      " 4   cap-color             object \n",
      " 5   does-bruise-or-bleed  object \n",
      " 6   gill-attachment       object \n",
      " 7   gill-spacing          object \n",
      " 8   gill-color            object \n",
      " 9   stem-height           float64\n",
      " 10  stem-width            float64\n",
      " 11  stem-root             object \n",
      " 12  stem-surface          object \n",
      " 13  stem-color            object \n",
      " 14  veil-type             object \n",
      " 15  veil-color            object \n",
      " 16  has-ring              object \n",
      " 17  ring-type             object \n",
      " 18  spore-print-color     object \n",
      " 19  habitat               object \n",
      " 20  season                object \n",
      "dtypes: float64(3), object(18)\n",
      "memory usage: 523.2+ MB\n"
     ]
    }
   ],
   "source": [
    "# Check for the categorical features for training set\n",
    "train_dataset.info()"
   ]
  },
  {
   "cell_type": "markdown",
   "id": "4bafa992",
   "metadata": {},
   "source": [
    "#### The dataset contains many categorical features"
   ]
  },
  {
   "cell_type": "code",
   "execution_count": 9,
   "id": "41473981",
   "metadata": {},
   "outputs": [
    {
     "data": {
      "text/plain": [
       "class                         0\n",
       "cap-diameter                  4\n",
       "cap-shape                    40\n",
       "cap-surface              671023\n",
       "cap-color                    12\n",
       "does-bruise-or-bleed          8\n",
       "gill-attachment          523936\n",
       "gill-spacing            1258435\n",
       "gill-color                   57\n",
       "stem-height                   0\n",
       "stem-width                    0\n",
       "stem-root               2757023\n",
       "stem-surface            1980861\n",
       "stem-color                   38\n",
       "veil-type               2957493\n",
       "veil-color              2740947\n",
       "has-ring                     24\n",
       "ring-type                128880\n",
       "spore-print-color       2849682\n",
       "habitat                      45\n",
       "season                        0\n",
       "dtype: int64"
      ]
     },
     "execution_count": 9,
     "metadata": {},
     "output_type": "execute_result"
    }
   ],
   "source": [
    "# Check whether the dataset has missing values or not\n",
    "missing_values = train_dataset.isnull().sum()\n",
    "missing_values"
   ]
  },
  {
   "cell_type": "markdown",
   "id": "87fe09ea",
   "metadata": {},
   "source": [
    "#### There are many missing values in the training set"
   ]
  },
  {
   "cell_type": "code",
   "execution_count": 10,
   "id": "a686b63d",
   "metadata": {},
   "outputs": [
    {
     "data": {
      "text/plain": [
       "cap-diameter                  7\n",
       "cap-shape                    31\n",
       "cap-surface              446904\n",
       "cap-color                    13\n",
       "does-bruise-or-bleed         10\n",
       "gill-attachment          349821\n",
       "gill-spacing             839595\n",
       "gill-color                   49\n",
       "stem-height                   1\n",
       "stem-width                    0\n",
       "stem-root               1838012\n",
       "stem-surface            1321488\n",
       "stem-color                   21\n",
       "veil-type               1971545\n",
       "veil-color              1826124\n",
       "has-ring                     19\n",
       "ring-type                 86195\n",
       "spore-print-color       1899617\n",
       "habitat                      25\n",
       "season                        0\n",
       "dtype: int64"
      ]
     },
     "execution_count": 10,
     "metadata": {},
     "output_type": "execute_result"
    }
   ],
   "source": [
    "# Check the missing values of the testing values\n",
    "missing_values = test_dataset.isnull().sum()\n",
    "missing_values "
   ]
  },
  {
   "cell_type": "markdown",
   "id": "69ca0861",
   "metadata": {},
   "source": [
    "#### There are many missing values in the testing set"
   ]
  },
  {
   "cell_type": "code",
   "execution_count": 12,
   "id": "491d7335",
   "metadata": {},
   "outputs": [
    {
     "data": {
      "text/plain": [
       "False"
      ]
     },
     "execution_count": 12,
     "metadata": {},
     "output_type": "execute_result"
    }
   ],
   "source": [
    "# Check whether the training dataset has duplicates or not\n",
    "is_duplicated_train_dataset = train_dataset.duplicated().any()\n",
    "is_duplicated_train_dataset"
   ]
  },
  {
   "cell_type": "markdown",
   "id": "dff2a1bb",
   "metadata": {},
   "source": [
    "#### There is no duplicated values in the training set"
   ]
  },
  {
   "cell_type": "code",
   "execution_count": 13,
   "id": "d2b4bba0",
   "metadata": {},
   "outputs": [
    {
     "data": {
      "text/plain": [
       "False"
      ]
     },
     "execution_count": 13,
     "metadata": {},
     "output_type": "execute_result"
    }
   ],
   "source": [
    "# Check whether the testing datasets has duplicates or not\n",
    "is_duplicated_test_dataset = test_dataset.duplicated().any()\n",
    "is_duplicated_test_dataset"
   ]
  },
  {
   "cell_type": "markdown",
   "id": "6325274d",
   "metadata": {},
   "source": [
    "#### There is no duplicated values in the testing set"
   ]
  },
  {
   "cell_type": "code",
   "execution_count": 15,
   "id": "e1beffae",
   "metadata": {},
   "outputs": [],
   "source": [
    "# Next will handle missing values & Categorical features "
   ]
  }
 ],
 "metadata": {
  "kernelspec": {
   "display_name": "Python 3 (ipykernel)",
   "language": "python",
   "name": "python3"
  },
  "language_info": {
   "codemirror_mode": {
    "name": "ipython",
    "version": 3
   },
   "file_extension": ".py",
   "mimetype": "text/x-python",
   "name": "python",
   "nbconvert_exporter": "python",
   "pygments_lexer": "ipython3",
   "version": "3.9.13"
  }
 },
 "nbformat": 4,
 "nbformat_minor": 5
}
