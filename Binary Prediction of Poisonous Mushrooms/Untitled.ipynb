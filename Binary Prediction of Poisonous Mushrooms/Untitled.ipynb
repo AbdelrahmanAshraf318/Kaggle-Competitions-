{
 "cells": [
  {
   "cell_type": "markdown",
   "id": "ecaab9f7",
   "metadata": {},
   "source": [
    "# Import Libraries"
   ]
  },
  {
   "cell_type": "code",
   "execution_count": 1,
   "id": "fccdd6dc",
   "metadata": {},
   "outputs": [
    {
     "name": "stdout",
     "output_type": "stream",
     "text": [
      "Setup Completed!\n"
     ]
    }
   ],
   "source": [
    "import numpy as np\n",
    "import pandas as pd\n",
    "print(\"Setup Completed!\")"
   ]
  },
  {
   "cell_type": "markdown",
   "id": "c44a6907",
   "metadata": {},
   "source": [
    "# Read & Check the datasets"
   ]
  },
  {
   "cell_type": "markdown",
   "id": "522ec148",
   "metadata": {},
   "source": [
    "### Training set"
   ]
  },
  {
   "cell_type": "code",
   "execution_count": 2,
   "id": "6737f42b",
   "metadata": {},
   "outputs": [
    {
     "data": {
      "text/html": [
       "<div>\n",
       "<style scoped>\n",
       "    .dataframe tbody tr th:only-of-type {\n",
       "        vertical-align: middle;\n",
       "    }\n",
       "\n",
       "    .dataframe tbody tr th {\n",
       "        vertical-align: top;\n",
       "    }\n",
       "\n",
       "    .dataframe thead th {\n",
       "        text-align: right;\n",
       "    }\n",
       "</style>\n",
       "<table border=\"1\" class=\"dataframe\">\n",
       "  <thead>\n",
       "    <tr style=\"text-align: right;\">\n",
       "      <th></th>\n",
       "      <th>class</th>\n",
       "      <th>cap-diameter</th>\n",
       "      <th>cap-shape</th>\n",
       "      <th>cap-surface</th>\n",
       "      <th>cap-color</th>\n",
       "      <th>does-bruise-or-bleed</th>\n",
       "      <th>gill-attachment</th>\n",
       "      <th>gill-spacing</th>\n",
       "      <th>gill-color</th>\n",
       "      <th>stem-height</th>\n",
       "      <th>...</th>\n",
       "      <th>stem-root</th>\n",
       "      <th>stem-surface</th>\n",
       "      <th>stem-color</th>\n",
       "      <th>veil-type</th>\n",
       "      <th>veil-color</th>\n",
       "      <th>has-ring</th>\n",
       "      <th>ring-type</th>\n",
       "      <th>spore-print-color</th>\n",
       "      <th>habitat</th>\n",
       "      <th>season</th>\n",
       "    </tr>\n",
       "    <tr>\n",
       "      <th>id</th>\n",
       "      <th></th>\n",
       "      <th></th>\n",
       "      <th></th>\n",
       "      <th></th>\n",
       "      <th></th>\n",
       "      <th></th>\n",
       "      <th></th>\n",
       "      <th></th>\n",
       "      <th></th>\n",
       "      <th></th>\n",
       "      <th></th>\n",
       "      <th></th>\n",
       "      <th></th>\n",
       "      <th></th>\n",
       "      <th></th>\n",
       "      <th></th>\n",
       "      <th></th>\n",
       "      <th></th>\n",
       "      <th></th>\n",
       "      <th></th>\n",
       "      <th></th>\n",
       "    </tr>\n",
       "  </thead>\n",
       "  <tbody>\n",
       "    <tr>\n",
       "      <th>0</th>\n",
       "      <td>e</td>\n",
       "      <td>8.80</td>\n",
       "      <td>f</td>\n",
       "      <td>s</td>\n",
       "      <td>u</td>\n",
       "      <td>f</td>\n",
       "      <td>a</td>\n",
       "      <td>c</td>\n",
       "      <td>w</td>\n",
       "      <td>4.51</td>\n",
       "      <td>...</td>\n",
       "      <td>NaN</td>\n",
       "      <td>NaN</td>\n",
       "      <td>w</td>\n",
       "      <td>NaN</td>\n",
       "      <td>NaN</td>\n",
       "      <td>f</td>\n",
       "      <td>f</td>\n",
       "      <td>NaN</td>\n",
       "      <td>d</td>\n",
       "      <td>a</td>\n",
       "    </tr>\n",
       "    <tr>\n",
       "      <th>1</th>\n",
       "      <td>p</td>\n",
       "      <td>4.51</td>\n",
       "      <td>x</td>\n",
       "      <td>h</td>\n",
       "      <td>o</td>\n",
       "      <td>f</td>\n",
       "      <td>a</td>\n",
       "      <td>c</td>\n",
       "      <td>n</td>\n",
       "      <td>4.79</td>\n",
       "      <td>...</td>\n",
       "      <td>NaN</td>\n",
       "      <td>y</td>\n",
       "      <td>o</td>\n",
       "      <td>NaN</td>\n",
       "      <td>NaN</td>\n",
       "      <td>t</td>\n",
       "      <td>z</td>\n",
       "      <td>NaN</td>\n",
       "      <td>d</td>\n",
       "      <td>w</td>\n",
       "    </tr>\n",
       "    <tr>\n",
       "      <th>2</th>\n",
       "      <td>e</td>\n",
       "      <td>6.94</td>\n",
       "      <td>f</td>\n",
       "      <td>s</td>\n",
       "      <td>b</td>\n",
       "      <td>f</td>\n",
       "      <td>x</td>\n",
       "      <td>c</td>\n",
       "      <td>w</td>\n",
       "      <td>6.85</td>\n",
       "      <td>...</td>\n",
       "      <td>NaN</td>\n",
       "      <td>s</td>\n",
       "      <td>n</td>\n",
       "      <td>NaN</td>\n",
       "      <td>NaN</td>\n",
       "      <td>f</td>\n",
       "      <td>f</td>\n",
       "      <td>NaN</td>\n",
       "      <td>l</td>\n",
       "      <td>w</td>\n",
       "    </tr>\n",
       "    <tr>\n",
       "      <th>3</th>\n",
       "      <td>e</td>\n",
       "      <td>3.88</td>\n",
       "      <td>f</td>\n",
       "      <td>y</td>\n",
       "      <td>g</td>\n",
       "      <td>f</td>\n",
       "      <td>s</td>\n",
       "      <td>NaN</td>\n",
       "      <td>g</td>\n",
       "      <td>4.16</td>\n",
       "      <td>...</td>\n",
       "      <td>NaN</td>\n",
       "      <td>NaN</td>\n",
       "      <td>w</td>\n",
       "      <td>NaN</td>\n",
       "      <td>NaN</td>\n",
       "      <td>f</td>\n",
       "      <td>f</td>\n",
       "      <td>NaN</td>\n",
       "      <td>d</td>\n",
       "      <td>u</td>\n",
       "    </tr>\n",
       "    <tr>\n",
       "      <th>4</th>\n",
       "      <td>e</td>\n",
       "      <td>5.85</td>\n",
       "      <td>x</td>\n",
       "      <td>l</td>\n",
       "      <td>w</td>\n",
       "      <td>f</td>\n",
       "      <td>d</td>\n",
       "      <td>NaN</td>\n",
       "      <td>w</td>\n",
       "      <td>3.37</td>\n",
       "      <td>...</td>\n",
       "      <td>NaN</td>\n",
       "      <td>NaN</td>\n",
       "      <td>w</td>\n",
       "      <td>NaN</td>\n",
       "      <td>NaN</td>\n",
       "      <td>f</td>\n",
       "      <td>f</td>\n",
       "      <td>NaN</td>\n",
       "      <td>g</td>\n",
       "      <td>a</td>\n",
       "    </tr>\n",
       "  </tbody>\n",
       "</table>\n",
       "<p>5 rows × 21 columns</p>\n",
       "</div>"
      ],
      "text/plain": [
       "   class  cap-diameter cap-shape cap-surface cap-color does-bruise-or-bleed  \\\n",
       "id                                                                            \n",
       "0      e          8.80         f           s         u                    f   \n",
       "1      p          4.51         x           h         o                    f   \n",
       "2      e          6.94         f           s         b                    f   \n",
       "3      e          3.88         f           y         g                    f   \n",
       "4      e          5.85         x           l         w                    f   \n",
       "\n",
       "   gill-attachment gill-spacing gill-color  stem-height  ...  stem-root  \\\n",
       "id                                                       ...              \n",
       "0                a            c          w         4.51  ...        NaN   \n",
       "1                a            c          n         4.79  ...        NaN   \n",
       "2                x            c          w         6.85  ...        NaN   \n",
       "3                s          NaN          g         4.16  ...        NaN   \n",
       "4                d          NaN          w         3.37  ...        NaN   \n",
       "\n",
       "   stem-surface stem-color veil-type veil-color has-ring ring-type  \\\n",
       "id                                                                   \n",
       "0           NaN          w       NaN        NaN        f         f   \n",
       "1             y          o       NaN        NaN        t         z   \n",
       "2             s          n       NaN        NaN        f         f   \n",
       "3           NaN          w       NaN        NaN        f         f   \n",
       "4           NaN          w       NaN        NaN        f         f   \n",
       "\n",
       "   spore-print-color habitat season  \n",
       "id                                   \n",
       "0                NaN       d      a  \n",
       "1                NaN       d      w  \n",
       "2                NaN       l      w  \n",
       "3                NaN       d      u  \n",
       "4                NaN       g      a  \n",
       "\n",
       "[5 rows x 21 columns]"
      ]
     },
     "execution_count": 2,
     "metadata": {},
     "output_type": "execute_result"
    }
   ],
   "source": [
    "training_set_path = 'dataset/train/train.csv'\n",
    "train_dataset = pd.read_csv(training_set_path, index_col = 'id')\n",
    "train_dataset.head()"
   ]
  },
  {
   "cell_type": "markdown",
   "id": "272879d1",
   "metadata": {},
   "source": [
    "### Testing set"
   ]
  },
  {
   "cell_type": "code",
   "execution_count": 3,
   "id": "6b242727",
   "metadata": {},
   "outputs": [
    {
     "data": {
      "text/html": [
       "<div>\n",
       "<style scoped>\n",
       "    .dataframe tbody tr th:only-of-type {\n",
       "        vertical-align: middle;\n",
       "    }\n",
       "\n",
       "    .dataframe tbody tr th {\n",
       "        vertical-align: top;\n",
       "    }\n",
       "\n",
       "    .dataframe thead th {\n",
       "        text-align: right;\n",
       "    }\n",
       "</style>\n",
       "<table border=\"1\" class=\"dataframe\">\n",
       "  <thead>\n",
       "    <tr style=\"text-align: right;\">\n",
       "      <th></th>\n",
       "      <th>cap-diameter</th>\n",
       "      <th>cap-shape</th>\n",
       "      <th>cap-surface</th>\n",
       "      <th>cap-color</th>\n",
       "      <th>does-bruise-or-bleed</th>\n",
       "      <th>gill-attachment</th>\n",
       "      <th>gill-spacing</th>\n",
       "      <th>gill-color</th>\n",
       "      <th>stem-height</th>\n",
       "      <th>stem-width</th>\n",
       "      <th>stem-root</th>\n",
       "      <th>stem-surface</th>\n",
       "      <th>stem-color</th>\n",
       "      <th>veil-type</th>\n",
       "      <th>veil-color</th>\n",
       "      <th>has-ring</th>\n",
       "      <th>ring-type</th>\n",
       "      <th>spore-print-color</th>\n",
       "      <th>habitat</th>\n",
       "      <th>season</th>\n",
       "    </tr>\n",
       "    <tr>\n",
       "      <th>id</th>\n",
       "      <th></th>\n",
       "      <th></th>\n",
       "      <th></th>\n",
       "      <th></th>\n",
       "      <th></th>\n",
       "      <th></th>\n",
       "      <th></th>\n",
       "      <th></th>\n",
       "      <th></th>\n",
       "      <th></th>\n",
       "      <th></th>\n",
       "      <th></th>\n",
       "      <th></th>\n",
       "      <th></th>\n",
       "      <th></th>\n",
       "      <th></th>\n",
       "      <th></th>\n",
       "      <th></th>\n",
       "      <th></th>\n",
       "      <th></th>\n",
       "    </tr>\n",
       "  </thead>\n",
       "  <tbody>\n",
       "    <tr>\n",
       "      <th>3116945</th>\n",
       "      <td>8.64</td>\n",
       "      <td>x</td>\n",
       "      <td>NaN</td>\n",
       "      <td>n</td>\n",
       "      <td>t</td>\n",
       "      <td>NaN</td>\n",
       "      <td>NaN</td>\n",
       "      <td>w</td>\n",
       "      <td>11.13</td>\n",
       "      <td>17.12</td>\n",
       "      <td>b</td>\n",
       "      <td>NaN</td>\n",
       "      <td>w</td>\n",
       "      <td>u</td>\n",
       "      <td>w</td>\n",
       "      <td>t</td>\n",
       "      <td>g</td>\n",
       "      <td>NaN</td>\n",
       "      <td>d</td>\n",
       "      <td>a</td>\n",
       "    </tr>\n",
       "    <tr>\n",
       "      <th>3116946</th>\n",
       "      <td>6.90</td>\n",
       "      <td>o</td>\n",
       "      <td>t</td>\n",
       "      <td>o</td>\n",
       "      <td>f</td>\n",
       "      <td>NaN</td>\n",
       "      <td>c</td>\n",
       "      <td>y</td>\n",
       "      <td>1.27</td>\n",
       "      <td>10.75</td>\n",
       "      <td>NaN</td>\n",
       "      <td>NaN</td>\n",
       "      <td>n</td>\n",
       "      <td>NaN</td>\n",
       "      <td>NaN</td>\n",
       "      <td>f</td>\n",
       "      <td>f</td>\n",
       "      <td>NaN</td>\n",
       "      <td>d</td>\n",
       "      <td>a</td>\n",
       "    </tr>\n",
       "    <tr>\n",
       "      <th>3116947</th>\n",
       "      <td>2.00</td>\n",
       "      <td>b</td>\n",
       "      <td>g</td>\n",
       "      <td>n</td>\n",
       "      <td>f</td>\n",
       "      <td>NaN</td>\n",
       "      <td>c</td>\n",
       "      <td>n</td>\n",
       "      <td>6.18</td>\n",
       "      <td>3.14</td>\n",
       "      <td>NaN</td>\n",
       "      <td>NaN</td>\n",
       "      <td>n</td>\n",
       "      <td>NaN</td>\n",
       "      <td>NaN</td>\n",
       "      <td>f</td>\n",
       "      <td>f</td>\n",
       "      <td>NaN</td>\n",
       "      <td>d</td>\n",
       "      <td>s</td>\n",
       "    </tr>\n",
       "    <tr>\n",
       "      <th>3116948</th>\n",
       "      <td>3.47</td>\n",
       "      <td>x</td>\n",
       "      <td>t</td>\n",
       "      <td>n</td>\n",
       "      <td>f</td>\n",
       "      <td>s</td>\n",
       "      <td>c</td>\n",
       "      <td>n</td>\n",
       "      <td>4.98</td>\n",
       "      <td>8.51</td>\n",
       "      <td>NaN</td>\n",
       "      <td>NaN</td>\n",
       "      <td>w</td>\n",
       "      <td>NaN</td>\n",
       "      <td>n</td>\n",
       "      <td>t</td>\n",
       "      <td>z</td>\n",
       "      <td>NaN</td>\n",
       "      <td>d</td>\n",
       "      <td>u</td>\n",
       "    </tr>\n",
       "    <tr>\n",
       "      <th>3116949</th>\n",
       "      <td>6.17</td>\n",
       "      <td>x</td>\n",
       "      <td>h</td>\n",
       "      <td>y</td>\n",
       "      <td>f</td>\n",
       "      <td>p</td>\n",
       "      <td>NaN</td>\n",
       "      <td>y</td>\n",
       "      <td>6.73</td>\n",
       "      <td>13.70</td>\n",
       "      <td>NaN</td>\n",
       "      <td>NaN</td>\n",
       "      <td>y</td>\n",
       "      <td>NaN</td>\n",
       "      <td>y</td>\n",
       "      <td>t</td>\n",
       "      <td>NaN</td>\n",
       "      <td>NaN</td>\n",
       "      <td>d</td>\n",
       "      <td>u</td>\n",
       "    </tr>\n",
       "  </tbody>\n",
       "</table>\n",
       "</div>"
      ],
      "text/plain": [
       "         cap-diameter cap-shape cap-surface cap-color does-bruise-or-bleed  \\\n",
       "id                                                                           \n",
       "3116945          8.64         x         NaN         n                    t   \n",
       "3116946          6.90         o           t         o                    f   \n",
       "3116947          2.00         b           g         n                    f   \n",
       "3116948          3.47         x           t         n                    f   \n",
       "3116949          6.17         x           h         y                    f   \n",
       "\n",
       "        gill-attachment gill-spacing gill-color  stem-height  stem-width  \\\n",
       "id                                                                         \n",
       "3116945             NaN          NaN          w        11.13       17.12   \n",
       "3116946             NaN            c          y         1.27       10.75   \n",
       "3116947             NaN            c          n         6.18        3.14   \n",
       "3116948               s            c          n         4.98        8.51   \n",
       "3116949               p          NaN          y         6.73       13.70   \n",
       "\n",
       "        stem-root stem-surface stem-color veil-type veil-color has-ring  \\\n",
       "id                                                                        \n",
       "3116945         b          NaN          w         u          w        t   \n",
       "3116946       NaN          NaN          n       NaN        NaN        f   \n",
       "3116947       NaN          NaN          n       NaN        NaN        f   \n",
       "3116948       NaN          NaN          w       NaN          n        t   \n",
       "3116949       NaN          NaN          y       NaN          y        t   \n",
       "\n",
       "        ring-type spore-print-color habitat season  \n",
       "id                                                  \n",
       "3116945         g               NaN       d      a  \n",
       "3116946         f               NaN       d      a  \n",
       "3116947         f               NaN       d      s  \n",
       "3116948         z               NaN       d      u  \n",
       "3116949       NaN               NaN       d      u  "
      ]
     },
     "execution_count": 3,
     "metadata": {},
     "output_type": "execute_result"
    }
   ],
   "source": [
    "testing_set_path = 'dataset/test/test.csv'\n",
    "test_dataset = pd.read_csv(testing_set_path, index_col = 'id')\n",
    "test_dataset.head()"
   ]
  },
  {
   "cell_type": "code",
   "execution_count": 4,
   "id": "82eb3a4d",
   "metadata": {},
   "outputs": [
    {
     "data": {
      "text/plain": [
       "(2077964, 20)"
      ]
     },
     "execution_count": 4,
     "metadata": {},
     "output_type": "execute_result"
    }
   ],
   "source": [
    "test_dataset.shape"
   ]
  },
  {
   "cell_type": "markdown",
   "id": "c64a5000",
   "metadata": {},
   "source": [
    "### Check the number of all records in the dataset "
   ]
  },
  {
   "cell_type": "code",
   "execution_count": 5,
   "id": "36520a41",
   "metadata": {},
   "outputs": [
    {
     "name": "stdout",
     "output_type": "stream",
     "text": [
      "The number of training examples:  3116945\n",
      "The number of testing examples:  2077964\n"
     ]
    }
   ],
   "source": [
    "print(\"The number of training examples: \", len(train_dataset))\n",
    "print(\"The number of testing examples: \", len(test_dataset))"
   ]
  },
  {
   "cell_type": "code",
   "execution_count": 6,
   "id": "305cf613",
   "metadata": {},
   "outputs": [
    {
     "name": "stdout",
     "output_type": "stream",
     "text": [
      "The shape of training examples:  (3116945, 21)\n",
      "The shape of testing examples:  (2077964, 20)\n"
     ]
    }
   ],
   "source": [
    "print(\"The shape of training examples: \", train_dataset.shape)\n",
    "print(\"The shape of testing examples: \", test_dataset.shape)"
   ]
  },
  {
   "cell_type": "markdown",
   "id": "d6754fc7",
   "metadata": {},
   "source": [
    "### View the information of the datasets (missing values, duplicates)"
   ]
  },
  {
   "cell_type": "code",
   "execution_count": 7,
   "id": "83045a50",
   "metadata": {},
   "outputs": [
    {
     "name": "stdout",
     "output_type": "stream",
     "text": [
      "<class 'pandas.core.frame.DataFrame'>\n",
      "Int64Index: 3116945 entries, 0 to 3116944\n",
      "Data columns (total 21 columns):\n",
      " #   Column                Dtype  \n",
      "---  ------                -----  \n",
      " 0   class                 object \n",
      " 1   cap-diameter          float64\n",
      " 2   cap-shape             object \n",
      " 3   cap-surface           object \n",
      " 4   cap-color             object \n",
      " 5   does-bruise-or-bleed  object \n",
      " 6   gill-attachment       object \n",
      " 7   gill-spacing          object \n",
      " 8   gill-color            object \n",
      " 9   stem-height           float64\n",
      " 10  stem-width            float64\n",
      " 11  stem-root             object \n",
      " 12  stem-surface          object \n",
      " 13  stem-color            object \n",
      " 14  veil-type             object \n",
      " 15  veil-color            object \n",
      " 16  has-ring              object \n",
      " 17  ring-type             object \n",
      " 18  spore-print-color     object \n",
      " 19  habitat               object \n",
      " 20  season                object \n",
      "dtypes: float64(3), object(18)\n",
      "memory usage: 523.2+ MB\n"
     ]
    }
   ],
   "source": [
    "# Check for the categorical features for training set\n",
    "train_dataset.info()"
   ]
  },
  {
   "cell_type": "markdown",
   "id": "4bafa992",
   "metadata": {},
   "source": [
    "#### The dataset contains many categorical features"
   ]
  },
  {
   "cell_type": "code",
   "execution_count": 8,
   "id": "41473981",
   "metadata": {},
   "outputs": [
    {
     "data": {
      "text/plain": [
       "class                         0\n",
       "cap-diameter                  4\n",
       "cap-shape                    40\n",
       "cap-surface              671023\n",
       "cap-color                    12\n",
       "does-bruise-or-bleed          8\n",
       "gill-attachment          523936\n",
       "gill-spacing            1258435\n",
       "gill-color                   57\n",
       "stem-height                   0\n",
       "stem-width                    0\n",
       "stem-root               2757023\n",
       "stem-surface            1980861\n",
       "stem-color                   38\n",
       "veil-type               2957493\n",
       "veil-color              2740947\n",
       "has-ring                     24\n",
       "ring-type                128880\n",
       "spore-print-color       2849682\n",
       "habitat                      45\n",
       "season                        0\n",
       "dtype: int64"
      ]
     },
     "execution_count": 8,
     "metadata": {},
     "output_type": "execute_result"
    }
   ],
   "source": [
    "# Check whether the dataset has missing values or not\n",
    "missing_values = train_dataset.isnull().sum()\n",
    "missing_values"
   ]
  },
  {
   "cell_type": "markdown",
   "id": "87fe09ea",
   "metadata": {},
   "source": [
    "#### There are many missing values in the training set"
   ]
  },
  {
   "cell_type": "code",
   "execution_count": 9,
   "id": "a686b63d",
   "metadata": {},
   "outputs": [
    {
     "data": {
      "text/plain": [
       "cap-diameter                  7\n",
       "cap-shape                    31\n",
       "cap-surface              446904\n",
       "cap-color                    13\n",
       "does-bruise-or-bleed         10\n",
       "gill-attachment          349821\n",
       "gill-spacing             839595\n",
       "gill-color                   49\n",
       "stem-height                   1\n",
       "stem-width                    0\n",
       "stem-root               1838012\n",
       "stem-surface            1321488\n",
       "stem-color                   21\n",
       "veil-type               1971545\n",
       "veil-color              1826124\n",
       "has-ring                     19\n",
       "ring-type                 86195\n",
       "spore-print-color       1899617\n",
       "habitat                      25\n",
       "season                        0\n",
       "dtype: int64"
      ]
     },
     "execution_count": 9,
     "metadata": {},
     "output_type": "execute_result"
    }
   ],
   "source": [
    "# Check the missing values of the testing values\n",
    "missing_values = test_dataset.isnull().sum()\n",
    "missing_values "
   ]
  },
  {
   "cell_type": "markdown",
   "id": "69ca0861",
   "metadata": {},
   "source": [
    "#### There are many missing values in the testing set"
   ]
  },
  {
   "cell_type": "code",
   "execution_count": 10,
   "id": "48455b7a",
   "metadata": {},
   "outputs": [],
   "source": [
    "#let's get the missing values' precentage at each feature\n",
    "def get_missing_values_precentage(dataset):\n",
    "    m = len(dataset)\n",
    "    for i in dataset.columns:\n",
    "        print(f'The missing values precentage of {i} feature is {(dataset[i].isnull().any() / m) * 100} %')"
   ]
  },
  {
   "cell_type": "code",
   "execution_count": 11,
   "id": "78817c37",
   "metadata": {},
   "outputs": [
    {
     "name": "stdout",
     "output_type": "stream",
     "text": [
      "The missing values precentage of class feature is 0.0 %\n",
      "The missing values precentage of cap-diameter feature is 3.208269635813272e-05 %\n",
      "The missing values precentage of cap-shape feature is 3.208269635813272e-05 %\n",
      "The missing values precentage of cap-surface feature is 3.208269635813272e-05 %\n",
      "The missing values precentage of cap-color feature is 3.208269635813272e-05 %\n",
      "The missing values precentage of does-bruise-or-bleed feature is 3.208269635813272e-05 %\n",
      "The missing values precentage of gill-attachment feature is 3.208269635813272e-05 %\n",
      "The missing values precentage of gill-spacing feature is 3.208269635813272e-05 %\n",
      "The missing values precentage of gill-color feature is 3.208269635813272e-05 %\n",
      "The missing values precentage of stem-height feature is 0.0 %\n",
      "The missing values precentage of stem-width feature is 0.0 %\n",
      "The missing values precentage of stem-root feature is 3.208269635813272e-05 %\n",
      "The missing values precentage of stem-surface feature is 3.208269635813272e-05 %\n",
      "The missing values precentage of stem-color feature is 3.208269635813272e-05 %\n",
      "The missing values precentage of veil-type feature is 3.208269635813272e-05 %\n",
      "The missing values precentage of veil-color feature is 3.208269635813272e-05 %\n",
      "The missing values precentage of has-ring feature is 3.208269635813272e-05 %\n",
      "The missing values precentage of ring-type feature is 3.208269635813272e-05 %\n",
      "The missing values precentage of spore-print-color feature is 3.208269635813272e-05 %\n",
      "The missing values precentage of habitat feature is 3.208269635813272e-05 %\n",
      "The missing values precentage of season feature is 0.0 %\n"
     ]
    }
   ],
   "source": [
    "get_missing_values_precentage(train_dataset)"
   ]
  },
  {
   "cell_type": "code",
   "execution_count": 12,
   "id": "491d7335",
   "metadata": {},
   "outputs": [
    {
     "data": {
      "text/plain": [
       "False"
      ]
     },
     "execution_count": 12,
     "metadata": {},
     "output_type": "execute_result"
    }
   ],
   "source": [
    "# Check whether the training dataset has duplicates or not\n",
    "is_duplicated_train_dataset = train_dataset.duplicated().any()\n",
    "is_duplicated_train_dataset"
   ]
  },
  {
   "cell_type": "markdown",
   "id": "dff2a1bb",
   "metadata": {},
   "source": [
    "#### There is no duplicated values in the training set"
   ]
  },
  {
   "cell_type": "code",
   "execution_count": 13,
   "id": "d2b4bba0",
   "metadata": {},
   "outputs": [
    {
     "data": {
      "text/plain": [
       "False"
      ]
     },
     "execution_count": 13,
     "metadata": {},
     "output_type": "execute_result"
    }
   ],
   "source": [
    "# Check whether the testing datasets has duplicates or not\n",
    "is_duplicated_test_dataset = test_dataset.duplicated().any()\n",
    "is_duplicated_test_dataset"
   ]
  },
  {
   "cell_type": "code",
   "execution_count": 14,
   "id": "58e94964",
   "metadata": {},
   "outputs": [
    {
     "data": {
      "text/plain": [
       "(2077964, 20)"
      ]
     },
     "execution_count": 14,
     "metadata": {},
     "output_type": "execute_result"
    }
   ],
   "source": [
    "test_dataset.shape"
   ]
  },
  {
   "cell_type": "markdown",
   "id": "6325274d",
   "metadata": {},
   "source": [
    "#### There is no duplicated values in the testing set"
   ]
  },
  {
   "cell_type": "code",
   "execution_count": 15,
   "id": "95779409",
   "metadata": {},
   "outputs": [],
   "source": [
    "y = train_dataset['class']"
   ]
  },
  {
   "cell_type": "code",
   "execution_count": 16,
   "id": "d19fe507",
   "metadata": {},
   "outputs": [],
   "source": [
    "X = train_dataset.drop(['class'], axis='columns')"
   ]
  },
  {
   "cell_type": "code",
   "execution_count": 17,
   "id": "e5800002",
   "metadata": {},
   "outputs": [
    {
     "data": {
      "text/plain": [
       "(2077964, 20)"
      ]
     },
     "execution_count": 17,
     "metadata": {},
     "output_type": "execute_result"
    }
   ],
   "source": [
    "test_dataset.shape"
   ]
  },
  {
   "cell_type": "markdown",
   "id": "c762b604",
   "metadata": {},
   "source": [
    "# Handle the dataset"
   ]
  },
  {
   "cell_type": "markdown",
   "id": "cf70b328",
   "metadata": {},
   "source": [
    "### 1. Handle Missing values in the categorical features using mode method"
   ]
  },
  {
   "cell_type": "code",
   "execution_count": 18,
   "id": "ba8a098d",
   "metadata": {},
   "outputs": [],
   "source": [
    "def handle_missing_val_in_cat(dataset):\n",
    "    # first we need to get all categorical features\n",
    "    cols = dataset.columns\n",
    "    num_cols = dataset._get_numeric_data().columns\n",
    "    cat_features = list(set(cols) - set(num_cols))\n",
    "    \n",
    "    for i in cat_features:\n",
    "        missing = dataset[i].isnull().any()\n",
    "        if missing != 0: #contain missing values\n",
    "            mode_value = dataset[i].mode()[0]\n",
    "            # Fill the missing values with mode\n",
    "            dataset[i].fillna(mode_value, inplace=True)\n",
    "            \n",
    "    return dataset"
   ]
  },
  {
   "cell_type": "markdown",
   "id": "a0bfa531",
   "metadata": {},
   "source": [
    "### 2. Handle missing values in numerical features"
   ]
  },
  {
   "cell_type": "code",
   "execution_count": 19,
   "id": "d3f2b59c",
   "metadata": {},
   "outputs": [],
   "source": [
    "def handle_missing_val_in_num(dataset):\n",
    "    return dataset.interpolate()"
   ]
  },
  {
   "cell_type": "markdown",
   "id": "d88c7062",
   "metadata": {},
   "source": [
    "### 3. Handle Categorical Features"
   ]
  },
  {
   "cell_type": "code",
   "execution_count": 20,
   "id": "c1174731",
   "metadata": {},
   "outputs": [],
   "source": [
    "# List of categorical columns to process\n",
    "categorical_columns = ['cap-shape', 'cap-surface', 'cap-color','does-bruise-or-bleed', 'gill-attachment', 'gill-spacing'\n",
    "                      ,'gill-color', 'stem-root', 'stem-surface','stem-color','veil-type','veil-color','has-ring',\n",
    "                       'ring-type','spore-print-color','habitat'\n",
    "                      ] "
   ]
  },
  {
   "cell_type": "code",
   "execution_count": 21,
   "id": "0d0dda42",
   "metadata": {},
   "outputs": [],
   "source": [
    "numerical_columns = ['cap-diameter', 'stem-height', 'stem-width']  "
   ]
  },
  {
   "cell_type": "code",
   "execution_count": 22,
   "id": "b0ffb7bf",
   "metadata": {},
   "outputs": [],
   "source": [
    "columns_to_clean = [\n",
    "    'cap-shape', 'cap-surface', 'cap-color', 'does-bruise-or-bleed',\n",
    "    'gill-attachment', 'gill-spacing', 'gill-color', 'stem-root',\n",
    "    'stem-surface', 'stem-color', 'veil-type', 'veil-color', 'has-ring',\n",
    "    'ring-type', 'spore-print-color', 'habitat'\n",
    "]"
   ]
  },
  {
   "cell_type": "code",
   "execution_count": 23,
   "id": "07b0a78e",
   "metadata": {},
   "outputs": [],
   "source": [
    "valid_categories = {\n",
    "    'cap-shape': ['f', 'x', 'p', 'b', 'o', 'c', 's'],\n",
    "    'cap-surface': ['s', 'h', 'y', 'l'],\n",
    "    'cap-color': ['u', 'o', 'b', 'g', 'w', 'n', 'e', 'y', 'r', 'p', 'k'],\n",
    "    'does-bruise-or-bleed': ['f', 't'],\n",
    "    'gill-attachment': ['a', 'x', 's', 'd'],\n",
    "    'gill-spacing': ['c', 'd'],\n",
    "    'gill-color': ['w', 'n', 'g', 'k'],\n",
    "    'stem-root': ['b', 'c', 'r', 's', 'f'],\n",
    "    'stem-surface': ['y', 's', 't', 'g'],\n",
    "    'stem-color': ['w', 'o', 'n', 'y', 'e'],\n",
    "    'veil-type': ['u', 'd'],\n",
    "    'veil-color': ['n', 'w', 'k', 'y'],\n",
    "    'has-ring': ['f', 't'],\n",
    "    'ring-type': ['f', 'z', 'e', 'p'],\n",
    "    'spore-print-color': ['k', 'w', 'p', 'n'],\n",
    "    'habitat': ['d', 'l', 'g', 'h', 'p', 'm', 'u']\n",
    "}"
   ]
  },
  {
   "cell_type": "code",
   "execution_count": 24,
   "id": "8737cc04",
   "metadata": {},
   "outputs": [],
   "source": [
    "# Replace unexpected values with NaN\n",
    "for column in columns_to_clean:\n",
    "    X[column] = X[column].apply(lambda x: x if x in valid_categories[column] else np.nan)\n",
    "    test_dataset[column] = test_dataset[column].apply(lambda x: x if x in valid_categories[column] else np.nan)"
   ]
  },
  {
   "cell_type": "code",
   "execution_count": 25,
   "id": "c6b47e8a",
   "metadata": {},
   "outputs": [],
   "source": [
    "X = handle_missing_val_in_cat(X)"
   ]
  },
  {
   "cell_type": "code",
   "execution_count": 26,
   "id": "d32b6189",
   "metadata": {},
   "outputs": [],
   "source": [
    "X = handle_missing_val_in_num(X)"
   ]
  },
  {
   "cell_type": "code",
   "execution_count": 27,
   "id": "3df2ca98",
   "metadata": {},
   "outputs": [
    {
     "data": {
      "text/plain": [
       "cap-diameter            False\n",
       "cap-shape               False\n",
       "cap-surface             False\n",
       "cap-color               False\n",
       "does-bruise-or-bleed    False\n",
       "gill-attachment         False\n",
       "gill-spacing            False\n",
       "gill-color              False\n",
       "stem-height             False\n",
       "stem-width              False\n",
       "stem-root               False\n",
       "stem-surface            False\n",
       "stem-color              False\n",
       "veil-type               False\n",
       "veil-color              False\n",
       "has-ring                False\n",
       "ring-type               False\n",
       "spore-print-color       False\n",
       "habitat                 False\n",
       "season                  False\n",
       "dtype: bool"
      ]
     },
     "execution_count": 27,
     "metadata": {},
     "output_type": "execute_result"
    }
   ],
   "source": [
    "X.isnull().any()"
   ]
  },
  {
   "cell_type": "code",
   "execution_count": 28,
   "id": "21c09cea",
   "metadata": {},
   "outputs": [],
   "source": [
    "test_dataset = handle_missing_val_in_cat(test_dataset)"
   ]
  },
  {
   "cell_type": "code",
   "execution_count": 29,
   "id": "a2d69001",
   "metadata": {},
   "outputs": [],
   "source": [
    "test_dataset = handle_missing_val_in_num(test_dataset)"
   ]
  },
  {
   "cell_type": "code",
   "execution_count": 30,
   "id": "5e0fe0f3",
   "metadata": {},
   "outputs": [
    {
     "data": {
      "text/plain": [
       "cap-diameter            False\n",
       "cap-shape               False\n",
       "cap-surface             False\n",
       "cap-color               False\n",
       "does-bruise-or-bleed    False\n",
       "gill-attachment         False\n",
       "gill-spacing            False\n",
       "gill-color              False\n",
       "stem-height             False\n",
       "stem-width              False\n",
       "stem-root               False\n",
       "stem-surface            False\n",
       "stem-color              False\n",
       "veil-type               False\n",
       "veil-color              False\n",
       "has-ring                False\n",
       "ring-type               False\n",
       "spore-print-color       False\n",
       "habitat                 False\n",
       "season                  False\n",
       "dtype: bool"
      ]
     },
     "execution_count": 30,
     "metadata": {},
     "output_type": "execute_result"
    }
   ],
   "source": [
    "test_dataset.isnull().any()"
   ]
  },
  {
   "cell_type": "code",
   "execution_count": 31,
   "id": "2b7414ec",
   "metadata": {},
   "outputs": [
    {
     "data": {
      "text/plain": [
       "((3116945, 20), (2077964, 20))"
      ]
     },
     "execution_count": 31,
     "metadata": {},
     "output_type": "execute_result"
    }
   ],
   "source": [
    "# X, test\n",
    "X.shape, test_dataset.shape"
   ]
  },
  {
   "cell_type": "code",
   "execution_count": 32,
   "id": "0d26571e",
   "metadata": {},
   "outputs": [],
   "source": [
    "from sklearn.preprocessing import LabelEncoder\n",
    "categorical_columns_encoded = [value+\"_encoded\" for value in categorical_columns]"
   ]
  },
  {
   "cell_type": "code",
   "execution_count": 33,
   "id": "3e98fcc8",
   "metadata": {},
   "outputs": [],
   "source": [
    "label_encoder = LabelEncoder()\n",
    "\n",
    "# Process each categorical column\n",
    "for column in categorical_columns:\n",
    "    # Convert the column to string to handle mixed types\n",
    "    X[column] = X[column].astype(str)\n",
    "    \n",
    "    # Apply Label Encoding\n",
    "    X[column + '_encoded'] = label_encoder.fit_transform(X[column])\n",
    "    \n",
    "    # Convert the column to string to handle mixed types\n",
    "    test_dataset[column] = test_dataset[column].astype(str)\n",
    "    \n",
    "    # Apply Label Encoding\n",
    "    test_dataset[column + '_encoded'] = label_encoder.fit_transform(test_dataset[column])"
   ]
  },
  {
   "cell_type": "code",
   "execution_count": 34,
   "id": "46a47eb3",
   "metadata": {},
   "outputs": [
    {
     "data": {
      "text/plain": [
       "((3116945, 36), (2077964, 36))"
      ]
     },
     "execution_count": 34,
     "metadata": {},
     "output_type": "execute_result"
    }
   ],
   "source": [
    "X.shape, test_dataset.shape"
   ]
  },
  {
   "cell_type": "markdown",
   "id": "6f1c1b78",
   "metadata": {},
   "source": [
    "#### Encoding the label (class) "
   ]
  },
  {
   "cell_type": "code",
   "execution_count": 35,
   "id": "4e1b6483",
   "metadata": {},
   "outputs": [],
   "source": [
    "le = LabelEncoder()\n",
    "y = le.fit_transform(y)"
   ]
  },
  {
   "cell_type": "code",
   "execution_count": 36,
   "id": "88ee3cca",
   "metadata": {},
   "outputs": [
    {
     "data": {
      "text/plain": [
       "(3116945,)"
      ]
     },
     "execution_count": 36,
     "metadata": {},
     "output_type": "execute_result"
    }
   ],
   "source": [
    "y.shape"
   ]
  },
  {
   "cell_type": "code",
   "execution_count": 37,
   "id": "92386579",
   "metadata": {},
   "outputs": [],
   "source": [
    "columns = numerical_columns + categorical_columns_encoded\n",
    "X = X[columns]"
   ]
  },
  {
   "cell_type": "code",
   "execution_count": 38,
   "id": "7e19ba92",
   "metadata": {},
   "outputs": [],
   "source": [
    "test_dataset = test_dataset[columns]"
   ]
  },
  {
   "cell_type": "code",
   "execution_count": 39,
   "id": "fe2d9d78",
   "metadata": {},
   "outputs": [
    {
     "data": {
      "text/html": [
       "<div>\n",
       "<style scoped>\n",
       "    .dataframe tbody tr th:only-of-type {\n",
       "        vertical-align: middle;\n",
       "    }\n",
       "\n",
       "    .dataframe tbody tr th {\n",
       "        vertical-align: top;\n",
       "    }\n",
       "\n",
       "    .dataframe thead th {\n",
       "        text-align: right;\n",
       "    }\n",
       "</style>\n",
       "<table border=\"1\" class=\"dataframe\">\n",
       "  <thead>\n",
       "    <tr style=\"text-align: right;\">\n",
       "      <th></th>\n",
       "      <th>cap-diameter</th>\n",
       "      <th>stem-height</th>\n",
       "      <th>stem-width</th>\n",
       "      <th>cap-shape_encoded</th>\n",
       "      <th>cap-surface_encoded</th>\n",
       "      <th>cap-color_encoded</th>\n",
       "      <th>does-bruise-or-bleed_encoded</th>\n",
       "      <th>gill-attachment_encoded</th>\n",
       "      <th>gill-spacing_encoded</th>\n",
       "      <th>gill-color_encoded</th>\n",
       "      <th>stem-root_encoded</th>\n",
       "      <th>stem-surface_encoded</th>\n",
       "      <th>stem-color_encoded</th>\n",
       "      <th>veil-type_encoded</th>\n",
       "      <th>veil-color_encoded</th>\n",
       "      <th>has-ring_encoded</th>\n",
       "      <th>ring-type_encoded</th>\n",
       "      <th>spore-print-color_encoded</th>\n",
       "      <th>habitat_encoded</th>\n",
       "    </tr>\n",
       "    <tr>\n",
       "      <th>id</th>\n",
       "      <th></th>\n",
       "      <th></th>\n",
       "      <th></th>\n",
       "      <th></th>\n",
       "      <th></th>\n",
       "      <th></th>\n",
       "      <th></th>\n",
       "      <th></th>\n",
       "      <th></th>\n",
       "      <th></th>\n",
       "      <th></th>\n",
       "      <th></th>\n",
       "      <th></th>\n",
       "      <th></th>\n",
       "      <th></th>\n",
       "      <th></th>\n",
       "      <th></th>\n",
       "      <th></th>\n",
       "      <th></th>\n",
       "    </tr>\n",
       "  </thead>\n",
       "  <tbody>\n",
       "    <tr>\n",
       "      <th>0</th>\n",
       "      <td>8.80</td>\n",
       "      <td>4.51</td>\n",
       "      <td>15.39</td>\n",
       "      <td>2</td>\n",
       "      <td>2</td>\n",
       "      <td>8</td>\n",
       "      <td>0</td>\n",
       "      <td>0</td>\n",
       "      <td>0</td>\n",
       "      <td>3</td>\n",
       "      <td>0</td>\n",
       "      <td>1</td>\n",
       "      <td>3</td>\n",
       "      <td>1</td>\n",
       "      <td>2</td>\n",
       "      <td>0</td>\n",
       "      <td>1</td>\n",
       "      <td>0</td>\n",
       "      <td>0</td>\n",
       "    </tr>\n",
       "    <tr>\n",
       "      <th>1</th>\n",
       "      <td>4.51</td>\n",
       "      <td>4.79</td>\n",
       "      <td>6.48</td>\n",
       "      <td>6</td>\n",
       "      <td>0</td>\n",
       "      <td>5</td>\n",
       "      <td>0</td>\n",
       "      <td>0</td>\n",
       "      <td>0</td>\n",
       "      <td>2</td>\n",
       "      <td>0</td>\n",
       "      <td>3</td>\n",
       "      <td>2</td>\n",
       "      <td>1</td>\n",
       "      <td>2</td>\n",
       "      <td>1</td>\n",
       "      <td>3</td>\n",
       "      <td>0</td>\n",
       "      <td>0</td>\n",
       "    </tr>\n",
       "    <tr>\n",
       "      <th>2</th>\n",
       "      <td>6.94</td>\n",
       "      <td>6.85</td>\n",
       "      <td>9.93</td>\n",
       "      <td>2</td>\n",
       "      <td>2</td>\n",
       "      <td>0</td>\n",
       "      <td>0</td>\n",
       "      <td>3</td>\n",
       "      <td>0</td>\n",
       "      <td>3</td>\n",
       "      <td>0</td>\n",
       "      <td>1</td>\n",
       "      <td>1</td>\n",
       "      <td>1</td>\n",
       "      <td>2</td>\n",
       "      <td>0</td>\n",
       "      <td>1</td>\n",
       "      <td>0</td>\n",
       "      <td>3</td>\n",
       "    </tr>\n",
       "    <tr>\n",
       "      <th>3</th>\n",
       "      <td>3.88</td>\n",
       "      <td>4.16</td>\n",
       "      <td>6.53</td>\n",
       "      <td>2</td>\n",
       "      <td>3</td>\n",
       "      <td>2</td>\n",
       "      <td>0</td>\n",
       "      <td>2</td>\n",
       "      <td>0</td>\n",
       "      <td>0</td>\n",
       "      <td>0</td>\n",
       "      <td>1</td>\n",
       "      <td>3</td>\n",
       "      <td>1</td>\n",
       "      <td>2</td>\n",
       "      <td>0</td>\n",
       "      <td>1</td>\n",
       "      <td>0</td>\n",
       "      <td>0</td>\n",
       "    </tr>\n",
       "    <tr>\n",
       "      <th>4</th>\n",
       "      <td>5.85</td>\n",
       "      <td>3.37</td>\n",
       "      <td>8.36</td>\n",
       "      <td>6</td>\n",
       "      <td>1</td>\n",
       "      <td>9</td>\n",
       "      <td>0</td>\n",
       "      <td>1</td>\n",
       "      <td>0</td>\n",
       "      <td>3</td>\n",
       "      <td>0</td>\n",
       "      <td>1</td>\n",
       "      <td>3</td>\n",
       "      <td>1</td>\n",
       "      <td>2</td>\n",
       "      <td>0</td>\n",
       "      <td>1</td>\n",
       "      <td>0</td>\n",
       "      <td>1</td>\n",
       "    </tr>\n",
       "  </tbody>\n",
       "</table>\n",
       "</div>"
      ],
      "text/plain": [
       "    cap-diameter  stem-height  stem-width  cap-shape_encoded  \\\n",
       "id                                                             \n",
       "0           8.80         4.51       15.39                  2   \n",
       "1           4.51         4.79        6.48                  6   \n",
       "2           6.94         6.85        9.93                  2   \n",
       "3           3.88         4.16        6.53                  2   \n",
       "4           5.85         3.37        8.36                  6   \n",
       "\n",
       "    cap-surface_encoded  cap-color_encoded  does-bruise-or-bleed_encoded  \\\n",
       "id                                                                         \n",
       "0                     2                  8                             0   \n",
       "1                     0                  5                             0   \n",
       "2                     2                  0                             0   \n",
       "3                     3                  2                             0   \n",
       "4                     1                  9                             0   \n",
       "\n",
       "    gill-attachment_encoded  gill-spacing_encoded  gill-color_encoded  \\\n",
       "id                                                                      \n",
       "0                         0                     0                   3   \n",
       "1                         0                     0                   2   \n",
       "2                         3                     0                   3   \n",
       "3                         2                     0                   0   \n",
       "4                         1                     0                   3   \n",
       "\n",
       "    stem-root_encoded  stem-surface_encoded  stem-color_encoded  \\\n",
       "id                                                                \n",
       "0                   0                     1                   3   \n",
       "1                   0                     3                   2   \n",
       "2                   0                     1                   1   \n",
       "3                   0                     1                   3   \n",
       "4                   0                     1                   3   \n",
       "\n",
       "    veil-type_encoded  veil-color_encoded  has-ring_encoded  \\\n",
       "id                                                            \n",
       "0                   1                   2                 0   \n",
       "1                   1                   2                 1   \n",
       "2                   1                   2                 0   \n",
       "3                   1                   2                 0   \n",
       "4                   1                   2                 0   \n",
       "\n",
       "    ring-type_encoded  spore-print-color_encoded  habitat_encoded  \n",
       "id                                                                 \n",
       "0                   1                          0                0  \n",
       "1                   3                          0                0  \n",
       "2                   1                          0                3  \n",
       "3                   1                          0                0  \n",
       "4                   1                          0                1  "
      ]
     },
     "execution_count": 39,
     "metadata": {},
     "output_type": "execute_result"
    }
   ],
   "source": [
    "X.head()"
   ]
  },
  {
   "cell_type": "code",
   "execution_count": 40,
   "id": "73f9c1f3",
   "metadata": {},
   "outputs": [
    {
     "data": {
      "text/html": [
       "<div>\n",
       "<style scoped>\n",
       "    .dataframe tbody tr th:only-of-type {\n",
       "        vertical-align: middle;\n",
       "    }\n",
       "\n",
       "    .dataframe tbody tr th {\n",
       "        vertical-align: top;\n",
       "    }\n",
       "\n",
       "    .dataframe thead th {\n",
       "        text-align: right;\n",
       "    }\n",
       "</style>\n",
       "<table border=\"1\" class=\"dataframe\">\n",
       "  <thead>\n",
       "    <tr style=\"text-align: right;\">\n",
       "      <th></th>\n",
       "      <th>cap-diameter</th>\n",
       "      <th>stem-height</th>\n",
       "      <th>stem-width</th>\n",
       "      <th>cap-shape_encoded</th>\n",
       "      <th>cap-surface_encoded</th>\n",
       "      <th>cap-color_encoded</th>\n",
       "      <th>does-bruise-or-bleed_encoded</th>\n",
       "      <th>gill-attachment_encoded</th>\n",
       "      <th>gill-spacing_encoded</th>\n",
       "      <th>gill-color_encoded</th>\n",
       "      <th>stem-root_encoded</th>\n",
       "      <th>stem-surface_encoded</th>\n",
       "      <th>stem-color_encoded</th>\n",
       "      <th>veil-type_encoded</th>\n",
       "      <th>veil-color_encoded</th>\n",
       "      <th>has-ring_encoded</th>\n",
       "      <th>ring-type_encoded</th>\n",
       "      <th>spore-print-color_encoded</th>\n",
       "      <th>habitat_encoded</th>\n",
       "    </tr>\n",
       "    <tr>\n",
       "      <th>id</th>\n",
       "      <th></th>\n",
       "      <th></th>\n",
       "      <th></th>\n",
       "      <th></th>\n",
       "      <th></th>\n",
       "      <th></th>\n",
       "      <th></th>\n",
       "      <th></th>\n",
       "      <th></th>\n",
       "      <th></th>\n",
       "      <th></th>\n",
       "      <th></th>\n",
       "      <th></th>\n",
       "      <th></th>\n",
       "      <th></th>\n",
       "      <th></th>\n",
       "      <th></th>\n",
       "      <th></th>\n",
       "      <th></th>\n",
       "    </tr>\n",
       "  </thead>\n",
       "  <tbody>\n",
       "    <tr>\n",
       "      <th>3116945</th>\n",
       "      <td>8.64</td>\n",
       "      <td>11.13</td>\n",
       "      <td>17.12</td>\n",
       "      <td>6</td>\n",
       "      <td>2</td>\n",
       "      <td>4</td>\n",
       "      <td>1</td>\n",
       "      <td>0</td>\n",
       "      <td>0</td>\n",
       "      <td>3</td>\n",
       "      <td>0</td>\n",
       "      <td>1</td>\n",
       "      <td>3</td>\n",
       "      <td>0</td>\n",
       "      <td>2</td>\n",
       "      <td>1</td>\n",
       "      <td>1</td>\n",
       "      <td>0</td>\n",
       "      <td>0</td>\n",
       "    </tr>\n",
       "    <tr>\n",
       "      <th>3116946</th>\n",
       "      <td>6.90</td>\n",
       "      <td>1.27</td>\n",
       "      <td>10.75</td>\n",
       "      <td>3</td>\n",
       "      <td>2</td>\n",
       "      <td>5</td>\n",
       "      <td>0</td>\n",
       "      <td>0</td>\n",
       "      <td>0</td>\n",
       "      <td>3</td>\n",
       "      <td>0</td>\n",
       "      <td>1</td>\n",
       "      <td>1</td>\n",
       "      <td>0</td>\n",
       "      <td>2</td>\n",
       "      <td>0</td>\n",
       "      <td>1</td>\n",
       "      <td>0</td>\n",
       "      <td>0</td>\n",
       "    </tr>\n",
       "    <tr>\n",
       "      <th>3116947</th>\n",
       "      <td>2.00</td>\n",
       "      <td>6.18</td>\n",
       "      <td>3.14</td>\n",
       "      <td>0</td>\n",
       "      <td>2</td>\n",
       "      <td>4</td>\n",
       "      <td>0</td>\n",
       "      <td>0</td>\n",
       "      <td>0</td>\n",
       "      <td>2</td>\n",
       "      <td>0</td>\n",
       "      <td>1</td>\n",
       "      <td>1</td>\n",
       "      <td>0</td>\n",
       "      <td>2</td>\n",
       "      <td>0</td>\n",
       "      <td>1</td>\n",
       "      <td>0</td>\n",
       "      <td>0</td>\n",
       "    </tr>\n",
       "    <tr>\n",
       "      <th>3116948</th>\n",
       "      <td>3.47</td>\n",
       "      <td>4.98</td>\n",
       "      <td>8.51</td>\n",
       "      <td>6</td>\n",
       "      <td>2</td>\n",
       "      <td>4</td>\n",
       "      <td>0</td>\n",
       "      <td>2</td>\n",
       "      <td>0</td>\n",
       "      <td>2</td>\n",
       "      <td>0</td>\n",
       "      <td>1</td>\n",
       "      <td>3</td>\n",
       "      <td>0</td>\n",
       "      <td>1</td>\n",
       "      <td>1</td>\n",
       "      <td>3</td>\n",
       "      <td>0</td>\n",
       "      <td>0</td>\n",
       "    </tr>\n",
       "    <tr>\n",
       "      <th>3116949</th>\n",
       "      <td>6.17</td>\n",
       "      <td>6.73</td>\n",
       "      <td>13.70</td>\n",
       "      <td>6</td>\n",
       "      <td>0</td>\n",
       "      <td>10</td>\n",
       "      <td>0</td>\n",
       "      <td>0</td>\n",
       "      <td>0</td>\n",
       "      <td>3</td>\n",
       "      <td>0</td>\n",
       "      <td>1</td>\n",
       "      <td>4</td>\n",
       "      <td>0</td>\n",
       "      <td>3</td>\n",
       "      <td>1</td>\n",
       "      <td>1</td>\n",
       "      <td>0</td>\n",
       "      <td>0</td>\n",
       "    </tr>\n",
       "  </tbody>\n",
       "</table>\n",
       "</div>"
      ],
      "text/plain": [
       "         cap-diameter  stem-height  stem-width  cap-shape_encoded  \\\n",
       "id                                                                  \n",
       "3116945          8.64        11.13       17.12                  6   \n",
       "3116946          6.90         1.27       10.75                  3   \n",
       "3116947          2.00         6.18        3.14                  0   \n",
       "3116948          3.47         4.98        8.51                  6   \n",
       "3116949          6.17         6.73       13.70                  6   \n",
       "\n",
       "         cap-surface_encoded  cap-color_encoded  does-bruise-or-bleed_encoded  \\\n",
       "id                                                                              \n",
       "3116945                    2                  4                             1   \n",
       "3116946                    2                  5                             0   \n",
       "3116947                    2                  4                             0   \n",
       "3116948                    2                  4                             0   \n",
       "3116949                    0                 10                             0   \n",
       "\n",
       "         gill-attachment_encoded  gill-spacing_encoded  gill-color_encoded  \\\n",
       "id                                                                           \n",
       "3116945                        0                     0                   3   \n",
       "3116946                        0                     0                   3   \n",
       "3116947                        0                     0                   2   \n",
       "3116948                        2                     0                   2   \n",
       "3116949                        0                     0                   3   \n",
       "\n",
       "         stem-root_encoded  stem-surface_encoded  stem-color_encoded  \\\n",
       "id                                                                     \n",
       "3116945                  0                     1                   3   \n",
       "3116946                  0                     1                   1   \n",
       "3116947                  0                     1                   1   \n",
       "3116948                  0                     1                   3   \n",
       "3116949                  0                     1                   4   \n",
       "\n",
       "         veil-type_encoded  veil-color_encoded  has-ring_encoded  \\\n",
       "id                                                                 \n",
       "3116945                  0                   2                 1   \n",
       "3116946                  0                   2                 0   \n",
       "3116947                  0                   2                 0   \n",
       "3116948                  0                   1                 1   \n",
       "3116949                  0                   3                 1   \n",
       "\n",
       "         ring-type_encoded  spore-print-color_encoded  habitat_encoded  \n",
       "id                                                                      \n",
       "3116945                  1                          0                0  \n",
       "3116946                  1                          0                0  \n",
       "3116947                  1                          0                0  \n",
       "3116948                  3                          0                0  \n",
       "3116949                  1                          0                0  "
      ]
     },
     "execution_count": 40,
     "metadata": {},
     "output_type": "execute_result"
    }
   ],
   "source": [
    "test_dataset.head()"
   ]
  },
  {
   "cell_type": "markdown",
   "id": "c5d143b8",
   "metadata": {},
   "source": [
    "# Build the model"
   ]
  },
  {
   "cell_type": "code",
   "execution_count": 41,
   "id": "c05a4eb0",
   "metadata": {},
   "outputs": [],
   "source": [
    "from sklearn.preprocessing import StandardScaler, MinMaxScaler\n",
    "scaler = StandardScaler()\n",
    "X_new = scaler.fit_transform(X)\n",
    "test_dataset_new = scaler.fit_transform(test_dataset)"
   ]
  },
  {
   "cell_type": "code",
   "execution_count": 42,
   "id": "25fb9676",
   "metadata": {},
   "outputs": [],
   "source": [
    "from sklearn.model_selection import train_test_split"
   ]
  },
  {
   "cell_type": "code",
   "execution_count": 43,
   "id": "9a7f3397",
   "metadata": {},
   "outputs": [],
   "source": [
    "X_train, X_test, y_train, y_test = train_test_split(X_new, y, test_size=0.2, random_state=42)"
   ]
  },
  {
   "cell_type": "code",
   "execution_count": 44,
   "id": "9c01309a",
   "metadata": {},
   "outputs": [
    {
     "data": {
      "text/plain": [
       "array([[-8.00752197e-01, -1.28838882e+00, -6.74918347e-01, ...,\n",
       "        -1.24756520e-01, -2.07212493e-01, -5.26611250e-01],\n",
       "       [-9.61767995e-01, -3.66082693e-01, -1.04426043e+00, ...,\n",
       "        -1.24756520e-01, -2.07212493e-01,  2.87138691e+00],\n",
       "       [-2.33976590e-01,  3.59909280e-01, -4.62454003e-01, ...,\n",
       "        -1.24756520e-01, -2.07212493e-01,  2.87138691e+00],\n",
       "       ...,\n",
       "       [ 2.24566669e+00, -5.49432758e-02,  3.41749078e+00, ...,\n",
       "        -1.24756520e-01, -2.07212493e-01, -5.26611250e-01],\n",
       "       [-4.26071917e-03, -3.69786734e-01, -4.25396269e-01, ...,\n",
       "        -1.24756520e-01, -2.07212493e-01, -5.26611250e-01],\n",
       "       [ 1.29889380e+00,  1.72299625e+00,  7.81450613e-01, ...,\n",
       "        -1.24756520e-01,  6.05042894e+00, -5.26611250e-01]])"
      ]
     },
     "execution_count": 44,
     "metadata": {},
     "output_type": "execute_result"
    }
   ],
   "source": [
    "X_train"
   ]
  },
  {
   "cell_type": "markdown",
   "id": "ed00a5af",
   "metadata": {},
   "source": [
    "#### 1. Neural Network"
   ]
  },
  {
   "cell_type": "code",
   "execution_count": 45,
   "id": "dc7164f5",
   "metadata": {},
   "outputs": [],
   "source": [
    "import tensorflow as tf \n",
    "from tensorflow import keras\n",
    "from tensorflow.keras.initializers import RandomNormal"
   ]
  },
  {
   "cell_type": "code",
   "execution_count": 46,
   "id": "ba7cc154",
   "metadata": {},
   "outputs": [],
   "source": [
    "model = tf.keras.models.Sequential()\n",
    "\n",
    "# Neurons, dropouts\n",
    "model.add(tf.keras.layers.Dense(units=64, kernel_initializer=RandomNormal(mean=0.0, stddev=0.01),  input_dim=X_train.shape[1] ))\n",
    "#model.add(tf.keras.layers.BatchNormalization()),\n",
    "model.add(tf.keras.layers.Dense(units=128, kernel_initializer=RandomNormal(mean=0.0, stddev=0.01), activation='relu'))\n",
    "#model.add(tf.keras.layers.Dropout(0.2))\n",
    "#model.add(tf.keras.layers.BatchNormalization()),\n",
    "model.add(tf.keras.layers.Dense(units=32, kernel_initializer=RandomNormal(mean=0.0, stddev=0.01),  activation='relu'))\n",
    "#model.add(tf.keras.layers.Dropout(0.2))\n",
    "#model.add(tf.keras.layers.BatchNormalization()),\n",
    "model.add(tf.keras.layers.Dense(units=16,kernel_initializer=RandomNormal(mean=0.0, stddev=0.01), activation='relu'))\n",
    "#model.add(tf.keras.layers.Dropout(0.2))\n",
    "#model.add(tf.keras.layers.BatchNormalization()),\n",
    "model.add(tf.keras.layers.Dense(units=1, activation='sigmoid'))"
   ]
  },
  {
   "cell_type": "code",
   "execution_count": 47,
   "id": "b72dffe8",
   "metadata": {},
   "outputs": [
    {
     "name": "stdout",
     "output_type": "stream",
     "text": [
      "Model: \"sequential\"\n",
      "_________________________________________________________________\n",
      " Layer (type)                Output Shape              Param #   \n",
      "=================================================================\n",
      " dense (Dense)               (None, 64)                1280      \n",
      "                                                                 \n",
      " dense_1 (Dense)             (None, 128)               8320      \n",
      "                                                                 \n",
      " dense_2 (Dense)             (None, 32)                4128      \n",
      "                                                                 \n",
      " dense_3 (Dense)             (None, 16)                528       \n",
      "                                                                 \n",
      " dense_4 (Dense)             (None, 1)                 17        \n",
      "                                                                 \n",
      "=================================================================\n",
      "Total params: 14273 (55.75 KB)\n",
      "Trainable params: 14273 (55.75 KB)\n",
      "Non-trainable params: 0 (0.00 Byte)\n",
      "_________________________________________________________________\n"
     ]
    }
   ],
   "source": [
    "model.summary()\n"
   ]
  },
  {
   "cell_type": "code",
   "execution_count": 48,
   "id": "072eff37",
   "metadata": {},
   "outputs": [],
   "source": [
    "model.compile(\n",
    "    loss=tf.keras.losses.BinaryCrossentropy(),\n",
    "    optimizer=tf.keras.optimizers.Adam(0.01),\n",
    "    metrics=['accuracy'],\n",
    ")"
   ]
  },
  {
   "cell_type": "code",
   "execution_count": 49,
   "id": "10fd7a09",
   "metadata": {},
   "outputs": [
    {
     "name": "stdout",
     "output_type": "stream",
     "text": [
      "Epoch 1/10\n",
      "499/499 [==============================] - 9s 15ms/step - loss: 0.2242 - accuracy: 0.8988 - val_loss: 0.0873 - val_accuracy: 0.9734\n",
      "Epoch 2/10\n",
      "499/499 [==============================] - 8s 16ms/step - loss: 0.0765 - accuracy: 0.9790 - val_loss: 0.0696 - val_accuracy: 0.9814\n",
      "Epoch 3/10\n",
      "499/499 [==============================] - 11s 21ms/step - loss: 0.0677 - accuracy: 0.9820 - val_loss: 0.0940 - val_accuracy: 0.9740\n",
      "Epoch 4/10\n",
      "499/499 [==============================] - 9s 17ms/step - loss: 0.0695 - accuracy: 0.9815 - val_loss: 0.0659 - val_accuracy: 0.9828\n",
      "Epoch 5/10\n",
      "499/499 [==============================] - 11s 22ms/step - loss: 0.0717 - accuracy: 0.9820 - val_loss: 0.0640 - val_accuracy: 0.9831\n",
      "Epoch 6/10\n",
      "499/499 [==============================] - 8s 17ms/step - loss: 0.0638 - accuracy: 0.9834 - val_loss: 0.0633 - val_accuracy: 0.9833\n",
      "Epoch 7/10\n",
      "499/499 [==============================] - 8s 15ms/step - loss: 0.0629 - accuracy: 0.9838 - val_loss: 0.0618 - val_accuracy: 0.9836\n",
      "Epoch 8/10\n",
      "499/499 [==============================] - 7s 14ms/step - loss: 0.0603 - accuracy: 0.9844 - val_loss: 0.0597 - val_accuracy: 0.9847\n",
      "Epoch 9/10\n",
      "499/499 [==============================] - 8s 16ms/step - loss: 0.0590 - accuracy: 0.9846 - val_loss: 0.0609 - val_accuracy: 0.9839\n",
      "Epoch 10/10\n",
      "499/499 [==============================] - 8s 15ms/step - loss: 0.0581 - accuracy: 0.9849 - val_loss: 0.0590 - val_accuracy: 0.9846\n"
     ]
    }
   ],
   "source": [
    "history = model.fit(\n",
    "    X_train,\n",
    "    y_train,\n",
    "    batch_size=5000,\n",
    "    epochs=10,\n",
    "    validation_data=(X_test, y_test),\n",
    "    \n",
    ")"
   ]
  },
  {
   "cell_type": "code",
   "execution_count": 50,
   "id": "410cf79e",
   "metadata": {},
   "outputs": [],
   "source": [
    "import matplotlib.pyplot as plt"
   ]
  },
  {
   "cell_type": "code",
   "execution_count": 51,
   "id": "a318ae1b",
   "metadata": {},
   "outputs": [
    {
     "data": {
      "image/png": "[encoded data removed]",
      "text/plain": [
       "<Figure size 800x800 with 2 Axes>"
      ]
     },
     "metadata": {},
     "output_type": "display_data"
    }
   ],
   "source": [
    "acc = history.history['accuracy']\n",
    "val_acc = history.history['val_accuracy']\n",
    "\n",
    "loss = history.history['loss']\n",
    "val_loss = history.history['val_loss']\n",
    "\n",
    "epochs_range = range(10)\n",
    "\n",
    "plt.figure(figsize=(8, 8))\n",
    "plt.subplot(1, 2, 1)\n",
    "plt.plot(epochs_range, acc, label='Training Accuracy')\n",
    "plt.plot(epochs_range, val_acc, label='Validation Accuracy')\n",
    "plt.legend(loc='lower right')\n",
    "plt.title('Training and Validation Accuracy')\n",
    "\n",
    "plt.subplot(1, 2, 2)\n",
    "plt.plot(epochs_range, loss, label='Training Loss')\n",
    "plt.plot(epochs_range, val_loss, label='Validation Loss')\n",
    "plt.legend(loc='upper right')\n",
    "plt.title('Training and Validation Loss')\n",
    "plt.show()"
   ]
  },
  {
   "cell_type": "code",
   "execution_count": 52,
   "id": "ded1823a",
   "metadata": {},
   "outputs": [
    {
     "name": "stdout",
     "output_type": "stream",
     "text": [
      "64937/64937 [==============================] - 81s 1ms/step\n"
     ]
    }
   ],
   "source": [
    "prediction = model.predict(test_dataset_new)"
   ]
  },
  {
   "cell_type": "code",
   "execution_count": 53,
   "id": "484f26d1",
   "metadata": {
    "scrolled": true
   },
   "outputs": [
    {
     "data": {
      "text/plain": [
       "array([[0.00256234],\n",
       "       [0.9846422 ],\n",
       "       [0.99477774],\n",
       "       ...,\n",
       "       [0.9988146 ],\n",
       "       [0.00712325],\n",
       "       [0.01667844]], dtype=float32)"
      ]
     },
     "execution_count": 53,
     "metadata": {},
     "output_type": "execute_result"
    }
   ],
   "source": [
    "prediction"
   ]
  },
  {
   "cell_type": "code",
   "execution_count": 54,
   "id": "bf4d6278",
   "metadata": {},
   "outputs": [],
   "source": [
    "for i in range(len(prediction)):\n",
    "    if prediction[i] >= 0.5:\n",
    "        prediction[i] = int(1)\n",
    "    else:\n",
    "        prediction[i] = int(0)"
   ]
  },
  {
   "cell_type": "code",
   "execution_count": 55,
   "id": "21d359f0",
   "metadata": {},
   "outputs": [
    {
     "data": {
      "text/plain": [
       "array([[0.],\n",
       "       [1.],\n",
       "       [1.],\n",
       "       ...,\n",
       "       [1.],\n",
       "       [0.],\n",
       "       [0.]], dtype=float32)"
      ]
     },
     "execution_count": 55,
     "metadata": {},
     "output_type": "execute_result"
    }
   ],
   "source": [
    "prediction"
   ]
  },
  {
   "cell_type": "code",
   "execution_count": 56,
   "id": "07062ea8",
   "metadata": {},
   "outputs": [],
   "source": [
    "y_pred = prediction.astype(np.int32)"
   ]
  },
  {
   "cell_type": "code",
   "execution_count": 57,
   "id": "ce115fab",
   "metadata": {},
   "outputs": [
    {
     "data": {
      "text/plain": [
       "array([[0],\n",
       "       [1],\n",
       "       [1],\n",
       "       ...,\n",
       "       [1],\n",
       "       [0],\n",
       "       [0]])"
      ]
     },
     "execution_count": 57,
     "metadata": {},
     "output_type": "execute_result"
    }
   ],
   "source": [
    "y_pred"
   ]
  },
  {
   "cell_type": "code",
   "execution_count": 58,
   "id": "2a00852d",
   "metadata": {},
   "outputs": [
    {
     "name": "stderr",
     "output_type": "stream",
     "text": [
      "C:\\Users\\Ashraf\\anaconda3\\lib\\site-packages\\sklearn\\preprocessing\\_label.py:154: DataConversionWarning: A column-vector y was passed when a 1d array was expected. Please change the shape of y to (n_samples, ), for example using ravel().\n",
      "  y = column_or_1d(y, warn=True)\n"
     ]
    }
   ],
   "source": [
    "test_pred_class = le.inverse_transform(y_pred)"
   ]
  },
  {
   "cell_type": "code",
   "execution_count": 59,
   "id": "78fc6cd4",
   "metadata": {},
   "outputs": [
    {
     "data": {
      "text/plain": [
       "array(['e', 'p', 'p', ..., 'p', 'e', 'e'], dtype=object)"
      ]
     },
     "execution_count": 59,
     "metadata": {},
     "output_type": "execute_result"
    }
   ],
   "source": [
    "test_pred_class"
   ]
  },
  {
   "cell_type": "code",
   "execution_count": 60,
   "id": "670ccb97",
   "metadata": {},
   "outputs": [
    {
     "data": {
      "text/plain": [
       "2077964"
      ]
     },
     "execution_count": 60,
     "metadata": {},
     "output_type": "execute_result"
    }
   ],
   "source": [
    "len(test_pred_class)"
   ]
  },
  {
   "cell_type": "code",
   "execution_count": 61,
   "id": "420682ea",
   "metadata": {},
   "outputs": [],
   "source": [
    "submit = pd.read_csv('dataset/sample_submission/sample_submission.csv')\n"
   ]
  },
  {
   "cell_type": "code",
   "execution_count": 62,
   "id": "fc37cf3a",
   "metadata": {},
   "outputs": [
    {
     "data": {
      "text/plain": [
       "(2077964, 2)"
      ]
     },
     "execution_count": 62,
     "metadata": {},
     "output_type": "execute_result"
    }
   ],
   "source": [
    "submit.shape"
   ]
  },
  {
   "cell_type": "code",
   "execution_count": 63,
   "id": "60149d11",
   "metadata": {},
   "outputs": [],
   "source": [
    "submit['class'] = test_pred_class"
   ]
  },
  {
   "cell_type": "code",
   "execution_count": 64,
   "id": "bab0fc64",
   "metadata": {},
   "outputs": [],
   "source": [
    "submit.to_csv('dataset/submit/submit.csv', index = False)\n"
   ]
  },
  {
   "cell_type": "code",
   "execution_count": 65,
   "id": "9d219928",
   "metadata": {},
   "outputs": [
    {
     "data": {
      "text/html": [
       "<div>\n",
       "<style scoped>\n",
       "    .dataframe tbody tr th:only-of-type {\n",
       "        vertical-align: middle;\n",
       "    }\n",
       "\n",
       "    .dataframe tbody tr th {\n",
       "        vertical-align: top;\n",
       "    }\n",
       "\n",
       "    .dataframe thead th {\n",
       "        text-align: right;\n",
       "    }\n",
       "</style>\n",
       "<table border=\"1\" class=\"dataframe\">\n",
       "  <thead>\n",
       "    <tr style=\"text-align: right;\">\n",
       "      <th></th>\n",
       "      <th>id</th>\n",
       "      <th>class</th>\n",
       "    </tr>\n",
       "  </thead>\n",
       "  <tbody>\n",
       "    <tr>\n",
       "      <th>0</th>\n",
       "      <td>3116945</td>\n",
       "      <td>e</td>\n",
       "    </tr>\n",
       "    <tr>\n",
       "      <th>1</th>\n",
       "      <td>3116946</td>\n",
       "      <td>p</td>\n",
       "    </tr>\n",
       "    <tr>\n",
       "      <th>2</th>\n",
       "      <td>3116947</td>\n",
       "      <td>p</td>\n",
       "    </tr>\n",
       "    <tr>\n",
       "      <th>3</th>\n",
       "      <td>3116948</td>\n",
       "      <td>p</td>\n",
       "    </tr>\n",
       "    <tr>\n",
       "      <th>4</th>\n",
       "      <td>3116949</td>\n",
       "      <td>e</td>\n",
       "    </tr>\n",
       "    <tr>\n",
       "      <th>...</th>\n",
       "      <td>...</td>\n",
       "      <td>...</td>\n",
       "    </tr>\n",
       "    <tr>\n",
       "      <th>2077959</th>\n",
       "      <td>5194904</td>\n",
       "      <td>p</td>\n",
       "    </tr>\n",
       "    <tr>\n",
       "      <th>2077960</th>\n",
       "      <td>5194905</td>\n",
       "      <td>p</td>\n",
       "    </tr>\n",
       "    <tr>\n",
       "      <th>2077961</th>\n",
       "      <td>5194906</td>\n",
       "      <td>p</td>\n",
       "    </tr>\n",
       "    <tr>\n",
       "      <th>2077962</th>\n",
       "      <td>5194907</td>\n",
       "      <td>e</td>\n",
       "    </tr>\n",
       "    <tr>\n",
       "      <th>2077963</th>\n",
       "      <td>5194908</td>\n",
       "      <td>e</td>\n",
       "    </tr>\n",
       "  </tbody>\n",
       "</table>\n",
       "<p>2077964 rows × 2 columns</p>\n",
       "</div>"
      ],
      "text/plain": [
       "              id class\n",
       "0        3116945     e\n",
       "1        3116946     p\n",
       "2        3116947     p\n",
       "3        3116948     p\n",
       "4        3116949     e\n",
       "...          ...   ...\n",
       "2077959  5194904     p\n",
       "2077960  5194905     p\n",
       "2077961  5194906     p\n",
       "2077962  5194907     e\n",
       "2077963  5194908     e\n",
       "\n",
       "[2077964 rows x 2 columns]"
      ]
     },
     "execution_count": 65,
     "metadata": {},
     "output_type": "execute_result"
    }
   ],
   "source": [
    "pd.read_csv('dataset/submit/submit.csv')\n"
   ]
  },
  {
   "cell_type": "code",
   "execution_count": null,
   "id": "859630c0",
   "metadata": {},
   "outputs": [],
   "source": []
  }
 ],
 "metadata": {
  "kernelspec": {
   "display_name": "Python 3 (ipykernel)",
   "language": "python",
   "name": "python3"
  },
  "language_info": {
   "codemirror_mode": {
    "name": "ipython",
    "version": 3
   },
   "file_extension": ".py",
   "mimetype": "text/x-python",
   "name": "python",
   "nbconvert_exporter": "python",
   "pygments_lexer": "ipython3",
   "version": "3.9.13"
  }
 },
 "nbformat": 4,
 "nbformat_minor": 5
}
