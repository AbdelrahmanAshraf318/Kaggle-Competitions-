{
 "cells": [
  {
   "cell_type": "markdown",
   "metadata": {
    "_cell_guid": "b1076dfc-b9ad-4769-8c92-a6c4dae69d19",
    "_uuid": "8f2839f25d086af736a60e9eeb907d3b93b6e0e5"
   },
   "source": [
    "# Import Libraries"
   ]
  },
  {
   "cell_type": "code",
   "execution_count": 1,
   "metadata": {
    "execution": {
     "iopub.execute_input": "2024-07-10T12:16:36.265790Z",
     "iopub.status.busy": "2024-07-10T12:16:36.265198Z",
     "iopub.status.idle": "2024-07-10T12:16:39.814696Z",
     "shell.execute_reply": "2024-07-10T12:16:39.812945Z",
     "shell.execute_reply.started": "2024-07-10T12:16:36.265741Z"
    }
   },
   "outputs": [
    {
     "name": "stdout",
     "output_type": "stream",
     "text": [
      "Setup Complete\n"
     ]
    }
   ],
   "source": [
    "import pandas as pd\n",
    "import numpy as np\n",
    "pd.plotting.register_matplotlib_converters()\n",
    "import matplotlib.pyplot as plt\n",
    "%matplotlib inline\n",
    "import seaborn as sns\n",
    "print(\"Setup Complete\")"
   ]
  },
  {
   "cell_type": "markdown",
   "metadata": {},
   "source": [
    "### First thing we should do is to see our dataset and answer some questions "
   ]
  },
  {
   "cell_type": "code",
   "execution_count": 4,
   "metadata": {
    "execution": {
     "iopub.execute_input": "2024-07-10T12:16:49.782536Z",
     "iopub.status.busy": "2024-07-10T12:16:49.781893Z",
     "iopub.status.idle": "2024-07-10T12:17:15.514990Z",
     "shell.execute_reply": "2024-07-10T12:17:15.513760Z",
     "shell.execute_reply.started": "2024-07-10T12:16:49.782499Z"
    }
   },
   "outputs": [],
   "source": [
    "insurance_train_filepath = \"./kaggle/train/train.csv\"\n",
    "\n",
    "# Read the file into a variable insurance_data_train\n",
    "insurance_data_train = pd.read_csv(insurance_train_filepath, index_col=\"id\")"
   ]
  },
  {
   "cell_type": "code",
   "execution_count": 5,
   "metadata": {
    "execution": {
     "iopub.execute_input": "2024-07-10T12:17:15.517587Z",
     "iopub.status.busy": "2024-07-10T12:17:15.517183Z",
     "iopub.status.idle": "2024-07-10T12:17:31.701373Z",
     "shell.execute_reply": "2024-07-10T12:17:31.699839Z",
     "shell.execute_reply.started": "2024-07-10T12:17:15.517555Z"
    }
   },
   "outputs": [],
   "source": [
    "insurance_test_filepath = \"./kaggle/test/test.csv\"\n",
    "\n",
    "# Read the file into a variable insurance_data_train\n",
    "insurance_data_test = pd.read_csv(insurance_test_filepath)"
   ]
  },
  {
   "cell_type": "markdown",
   "metadata": {},
   "source": [
    "### The best start you need to do on your project is to see you dataset and the shape of it "
   ]
  },
  {
   "cell_type": "code",
   "execution_count": 6,
   "metadata": {
    "execution": {
     "iopub.execute_input": "2024-07-10T12:17:31.703498Z",
     "iopub.status.busy": "2024-07-10T12:17:31.703080Z",
     "iopub.status.idle": "2024-07-10T12:17:31.735567Z",
     "shell.execute_reply": "2024-07-10T12:17:31.733682Z",
     "shell.execute_reply.started": "2024-07-10T12:17:31.703460Z"
    }
   },
   "outputs": [
    {
     "data": {
      "text/html": [
       "<div>\n",
       "<style scoped>\n",
       "    .dataframe tbody tr th:only-of-type {\n",
       "        vertical-align: middle;\n",
       "    }\n",
       "\n",
       "    .dataframe tbody tr th {\n",
       "        vertical-align: top;\n",
       "    }\n",
       "\n",
       "    .dataframe thead th {\n",
       "        text-align: right;\n",
       "    }\n",
       "</style>\n",
       "<table border=\"1\" class=\"dataframe\">\n",
       "  <thead>\n",
       "    <tr style=\"text-align: right;\">\n",
       "      <th></th>\n",
       "      <th>Gender</th>\n",
       "      <th>Age</th>\n",
       "      <th>Driving_License</th>\n",
       "      <th>Region_Code</th>\n",
       "      <th>Previously_Insured</th>\n",
       "      <th>Vehicle_Age</th>\n",
       "      <th>Vehicle_Damage</th>\n",
       "      <th>Annual_Premium</th>\n",
       "      <th>Policy_Sales_Channel</th>\n",
       "      <th>Vintage</th>\n",
       "      <th>Response</th>\n",
       "    </tr>\n",
       "    <tr>\n",
       "      <th>id</th>\n",
       "      <th></th>\n",
       "      <th></th>\n",
       "      <th></th>\n",
       "      <th></th>\n",
       "      <th></th>\n",
       "      <th></th>\n",
       "      <th></th>\n",
       "      <th></th>\n",
       "      <th></th>\n",
       "      <th></th>\n",
       "      <th></th>\n",
       "    </tr>\n",
       "  </thead>\n",
       "  <tbody>\n",
       "    <tr>\n",
       "      <th>0</th>\n",
       "      <td>Male</td>\n",
       "      <td>21</td>\n",
       "      <td>1</td>\n",
       "      <td>35.0</td>\n",
       "      <td>0</td>\n",
       "      <td>1-2 Year</td>\n",
       "      <td>Yes</td>\n",
       "      <td>65101.0</td>\n",
       "      <td>124.0</td>\n",
       "      <td>187</td>\n",
       "      <td>0</td>\n",
       "    </tr>\n",
       "    <tr>\n",
       "      <th>1</th>\n",
       "      <td>Male</td>\n",
       "      <td>43</td>\n",
       "      <td>1</td>\n",
       "      <td>28.0</td>\n",
       "      <td>0</td>\n",
       "      <td>&gt; 2 Years</td>\n",
       "      <td>Yes</td>\n",
       "      <td>58911.0</td>\n",
       "      <td>26.0</td>\n",
       "      <td>288</td>\n",
       "      <td>1</td>\n",
       "    </tr>\n",
       "    <tr>\n",
       "      <th>2</th>\n",
       "      <td>Female</td>\n",
       "      <td>25</td>\n",
       "      <td>1</td>\n",
       "      <td>14.0</td>\n",
       "      <td>1</td>\n",
       "      <td>&lt; 1 Year</td>\n",
       "      <td>No</td>\n",
       "      <td>38043.0</td>\n",
       "      <td>152.0</td>\n",
       "      <td>254</td>\n",
       "      <td>0</td>\n",
       "    </tr>\n",
       "    <tr>\n",
       "      <th>3</th>\n",
       "      <td>Female</td>\n",
       "      <td>35</td>\n",
       "      <td>1</td>\n",
       "      <td>1.0</td>\n",
       "      <td>0</td>\n",
       "      <td>1-2 Year</td>\n",
       "      <td>Yes</td>\n",
       "      <td>2630.0</td>\n",
       "      <td>156.0</td>\n",
       "      <td>76</td>\n",
       "      <td>0</td>\n",
       "    </tr>\n",
       "    <tr>\n",
       "      <th>4</th>\n",
       "      <td>Female</td>\n",
       "      <td>36</td>\n",
       "      <td>1</td>\n",
       "      <td>15.0</td>\n",
       "      <td>1</td>\n",
       "      <td>1-2 Year</td>\n",
       "      <td>No</td>\n",
       "      <td>31951.0</td>\n",
       "      <td>152.0</td>\n",
       "      <td>294</td>\n",
       "      <td>0</td>\n",
       "    </tr>\n",
       "  </tbody>\n",
       "</table>\n",
       "</div>"
      ],
      "text/plain": [
       "    Gender  Age  Driving_License  Region_Code  Previously_Insured Vehicle_Age  \\\n",
       "id                                                                              \n",
       "0     Male   21                1         35.0                   0    1-2 Year   \n",
       "1     Male   43                1         28.0                   0   > 2 Years   \n",
       "2   Female   25                1         14.0                   1    < 1 Year   \n",
       "3   Female   35                1          1.0                   0    1-2 Year   \n",
       "4   Female   36                1         15.0                   1    1-2 Year   \n",
       "\n",
       "   Vehicle_Damage  Annual_Premium  Policy_Sales_Channel  Vintage  Response  \n",
       "id                                                                          \n",
       "0             Yes         65101.0                 124.0      187         0  \n",
       "1             Yes         58911.0                  26.0      288         1  \n",
       "2              No         38043.0                 152.0      254         0  \n",
       "3             Yes          2630.0                 156.0       76         0  \n",
       "4              No         31951.0                 152.0      294         0  "
      ]
     },
     "execution_count": 6,
     "metadata": {},
     "output_type": "execute_result"
    }
   ],
   "source": [
    "insurance_data_train.head()"
   ]
  },
  {
   "cell_type": "code",
   "execution_count": 7,
   "metadata": {
    "execution": {
     "iopub.execute_input": "2024-07-10T12:17:31.739013Z",
     "iopub.status.busy": "2024-07-10T12:17:31.738594Z",
     "iopub.status.idle": "2024-07-10T12:17:31.749456Z",
     "shell.execute_reply": "2024-07-10T12:17:31.747097Z",
     "shell.execute_reply.started": "2024-07-10T12:17:31.738977Z"
    }
   },
   "outputs": [
    {
     "data": {
      "text/plain": [
       "(11504798, 11)"
      ]
     },
     "execution_count": 7,
     "metadata": {},
     "output_type": "execute_result"
    }
   ],
   "source": [
    "insurance_data_train.shape"
   ]
  },
  {
   "cell_type": "code",
   "execution_count": 8,
   "metadata": {
    "execution": {
     "iopub.execute_input": "2024-07-10T12:17:31.752110Z",
     "iopub.status.busy": "2024-07-10T12:17:31.751544Z",
     "iopub.status.idle": "2024-07-10T12:17:31.791414Z",
     "shell.execute_reply": "2024-07-10T12:17:31.789754Z",
     "shell.execute_reply.started": "2024-07-10T12:17:31.752070Z"
    }
   },
   "outputs": [
    {
     "name": "stdout",
     "output_type": "stream",
     "text": [
      "<class 'pandas.core.frame.DataFrame'>\n",
      "Int64Index: 11504798 entries, 0 to 11504797\n",
      "Data columns (total 11 columns):\n",
      " #   Column                Dtype  \n",
      "---  ------                -----  \n",
      " 0   Gender                object \n",
      " 1   Age                   int64  \n",
      " 2   Driving_License       int64  \n",
      " 3   Region_Code           float64\n",
      " 4   Previously_Insured    int64  \n",
      " 5   Vehicle_Age           object \n",
      " 6   Vehicle_Damage        object \n",
      " 7   Annual_Premium        float64\n",
      " 8   Policy_Sales_Channel  float64\n",
      " 9   Vintage               int64  \n",
      " 10  Response              int64  \n",
      "dtypes: float64(3), int64(5), object(3)\n",
      "memory usage: 1.0+ GB\n"
     ]
    }
   ],
   "source": [
    "insurance_data_train.info()"
   ]
  },
  {
   "cell_type": "markdown",
   "metadata": {},
   "source": [
    "### It seems that there are some features which are categorical"
   ]
  },
  {
   "cell_type": "markdown",
   "metadata": {},
   "source": [
    "### Checking the missing values in this dataset "
   ]
  },
  {
   "cell_type": "code",
   "execution_count": 9,
   "metadata": {
    "execution": {
     "iopub.execute_input": "2024-07-10T12:17:31.793667Z",
     "iopub.status.busy": "2024-07-10T12:17:31.793206Z",
     "iopub.status.idle": "2024-07-10T12:17:35.637707Z",
     "shell.execute_reply": "2024-07-10T12:17:35.636366Z",
     "shell.execute_reply.started": "2024-07-10T12:17:31.793631Z"
    }
   },
   "outputs": [
    {
     "data": {
      "text/plain": [
       "Gender                  0\n",
       "Age                     0\n",
       "Driving_License         0\n",
       "Region_Code             0\n",
       "Previously_Insured      0\n",
       "Vehicle_Age             0\n",
       "Vehicle_Damage          0\n",
       "Annual_Premium          0\n",
       "Policy_Sales_Channel    0\n",
       "Vintage                 0\n",
       "Response                0\n",
       "dtype: int64"
      ]
     },
     "execution_count": 9,
     "metadata": {},
     "output_type": "execute_result"
    }
   ],
   "source": [
    "missing_values = insurance_data_train.isnull().sum()\n",
    "missing_values"
   ]
  },
  {
   "cell_type": "markdown",
   "metadata": {},
   "source": [
    "### Good! There are no missing values"
   ]
  },
  {
   "cell_type": "markdown",
   "metadata": {},
   "source": [
    "# Exploratory Data Analysis(EDA)"
   ]
  },
  {
   "cell_type": "code",
   "execution_count": 10,
   "metadata": {
    "execution": {
     "iopub.execute_input": "2024-07-10T12:17:35.639435Z",
     "iopub.status.busy": "2024-07-10T12:17:35.639047Z",
     "iopub.status.idle": "2024-07-10T12:17:35.647810Z",
     "shell.execute_reply": "2024-07-10T12:17:35.646448Z",
     "shell.execute_reply.started": "2024-07-10T12:17:35.639402Z"
    }
   },
   "outputs": [
    {
     "data": {
      "text/plain": [
       "Index(['Gender', 'Age', 'Driving_License', 'Region_Code', 'Previously_Insured',\n",
       "       'Vehicle_Age', 'Vehicle_Damage', 'Annual_Premium',\n",
       "       'Policy_Sales_Channel', 'Vintage', 'Response'],\n",
       "      dtype='object')"
      ]
     },
     "execution_count": 10,
     "metadata": {},
     "output_type": "execute_result"
    }
   ],
   "source": [
    "insurance_data_train.columns"
   ]
  },
  {
   "cell_type": "code",
   "execution_count": 10,
   "metadata": {
    "execution": {
     "iopub.execute_input": "2024-07-09T16:00:52.626403Z",
     "iopub.status.busy": "2024-07-09T16:00:52.625633Z",
     "iopub.status.idle": "2024-07-09T16:00:58.497019Z",
     "shell.execute_reply": "2024-07-09T16:00:58.495544Z",
     "shell.execute_reply.started": "2024-07-09T16:00:52.626188Z"
    }
   },
   "outputs": [
    {
     "data": {
      "image/png": "[encoded data removed]",
      "text/plain": [
       "<Figure size 700x400 with 1 Axes>"
      ]
     },
     "metadata": {},
     "output_type": "display_data"
    }
   ],
   "source": [
    "plt.figure(figsize=(7, 4))\n",
    "sns.boxplot(x=insurance_data_train['Annual_Premium'])\n",
    "plt.title('Distribution of Annual_Premium')\n",
    "plt.xlabel('Annual_Premium')\n",
    "plt.ylabel('Frequency')\n",
    "plt.show()"
   ]
  },
  {
   "cell_type": "code",
   "execution_count": 10,
   "metadata": {
    "execution": {
     "iopub.execute_input": "2024-07-07T12:14:10.490371Z",
     "iopub.status.busy": "2024-07-07T12:14:10.489993Z",
     "iopub.status.idle": "2024-07-07T12:14:19.159967Z",
     "shell.execute_reply": "2024-07-07T12:14:19.158803Z",
     "shell.execute_reply.started": "2024-07-07T12:14:10.490341Z"
    }
   },
   "outputs": [
    {
     "name": "stderr",
     "output_type": "stream",
     "text": [
      "/opt/conda/lib/python3.10/site-packages/seaborn/_oldcore.py:1119: FutureWarning: use_inf_as_na option is deprecated and will be removed in a future version. Convert inf values to NaN before operating instead.\n",
      "  with pd.option_context('mode.use_inf_as_na', True):\n"
     ]
    },
    {
     "data": {
      "image/png": "[encoded data removed]",
      "text/plain": [
       "<Figure size 1000x600 with 1 Axes>"
      ]
     },
     "metadata": {},
     "output_type": "display_data"
    }
   ],
   "source": [
    "plt.figure(figsize=(10, 6))\n",
    "sns.histplot(insurance_data_train['Age'], kde=False, bins=10)\n",
    "plt.title('Distribution of Age')\n",
    "plt.xlabel('Age')\n",
    "plt.ylabel('Frequency')\n",
    "plt.show()"
   ]
  },
  {
   "cell_type": "code",
   "execution_count": 11,
   "metadata": {
    "execution": {
     "iopub.execute_input": "2024-07-07T12:14:30.053155Z",
     "iopub.status.busy": "2024-07-07T12:14:30.052770Z",
     "iopub.status.idle": "2024-07-07T12:14:39.084568Z",
     "shell.execute_reply": "2024-07-07T12:14:39.083439Z",
     "shell.execute_reply.started": "2024-07-07T12:14:30.053125Z"
    }
   },
   "outputs": [
    {
     "name": "stderr",
     "output_type": "stream",
     "text": [
      "/opt/conda/lib/python3.10/site-packages/seaborn/_oldcore.py:1119: FutureWarning: use_inf_as_na option is deprecated and will be removed in a future version. Convert inf values to NaN before operating instead.\n",
      "  with pd.option_context('mode.use_inf_as_na', True):\n"
     ]
    },
    {
     "data": {
      "image/png": "[encoded data removed]",
      "text/plain": [
       "<Figure size 1000x600 with 1 Axes>"
      ]
     },
     "metadata": {},
     "output_type": "display_data"
    }
   ],
   "source": [
    "plt.figure(figsize=(10, 6))\n",
    "sns.histplot(insurance_data_train['Region_Code'], kde=False, bins=12)\n",
    "plt.title('Distribution of Region_Code')\n",
    "plt.xlabel('Region_Code')\n",
    "plt.ylabel('Frequency')\n",
    "plt.show()"
   ]
  },
  {
   "cell_type": "code",
   "execution_count": 12,
   "metadata": {
    "execution": {
     "iopub.execute_input": "2024-07-07T12:14:44.516993Z",
     "iopub.status.busy": "2024-07-07T12:14:44.516052Z",
     "iopub.status.idle": "2024-07-07T12:15:02.510609Z",
     "shell.execute_reply": "2024-07-07T12:15:02.509384Z",
     "shell.execute_reply.started": "2024-07-07T12:14:44.516957Z"
    }
   },
   "outputs": [
    {
     "name": "stderr",
     "output_type": "stream",
     "text": [
      "/opt/conda/lib/python3.10/site-packages/seaborn/_oldcore.py:1119: FutureWarning: use_inf_as_na option is deprecated and will be removed in a future version. Convert inf values to NaN before operating instead.\n",
      "  with pd.option_context('mode.use_inf_as_na', True):\n"
     ]
    },
    {
     "data": {
      "image/png": "[encoded data removed]",
      "text/plain": [
       "<Figure size 1000x600 with 1 Axes>"
      ]
     },
     "metadata": {},
     "output_type": "display_data"
    }
   ],
   "source": [
    "plt.figure(figsize=(10, 6))\n",
    "sns.histplot(insurance_data_train['Vehicle_Age'], kde=False, bins=10)\n",
    "plt.title('Distribution of Vehicle_Age')\n",
    "plt.xlabel('Vehicle_Age')\n",
    "plt.ylabel('Frequency')\n",
    "plt.show()"
   ]
  },
  {
   "cell_type": "code",
   "execution_count": 13,
   "metadata": {
    "execution": {
     "iopub.execute_input": "2024-07-07T12:15:19.993395Z",
     "iopub.status.busy": "2024-07-07T12:15:19.993030Z",
     "iopub.status.idle": "2024-07-07T12:15:20.253417Z",
     "shell.execute_reply": "2024-07-07T12:15:20.251986Z",
     "shell.execute_reply.started": "2024-07-07T12:15:19.993368Z"
    }
   },
   "outputs": [
    {
     "data": {
      "text/plain": [
       "Text(0.5, 1.0, 'Checking Imbalance in Training Data Or Response')"
      ]
     },
     "execution_count": 13,
     "metadata": {},
     "output_type": "execute_result"
    },
    {
     "data": {
      "text/plain": [
       "<Figure size 600x600 with 0 Axes>"
      ]
     },
     "metadata": {},
     "output_type": "display_data"
    },
    {
     "data": {
      "image/png": "[encoded data removed]",
      "text/plain": [
       "<Figure size 640x480 with 1 Axes>"
      ]
     },
     "metadata": {},
     "output_type": "display_data"
    }
   ],
   "source": [
    "response_data = insurance_data_train['Response'].value_counts()\n",
    "plt.figure(figsize=(6,6))\n",
    "fig, ax = plt.subplots()\n",
    "ax.pie(response_data, labels = [0,1])\n",
    "ax.set_title('Checking Imbalance in Training Data Or Response')"
   ]
  },
  {
   "cell_type": "markdown",
   "metadata": {},
   "source": [
    "### It seems that the data is imbalanced "
   ]
  },
  {
   "cell_type": "markdown",
   "metadata": {},
   "source": [
    "# Feature Engineering"
   ]
  },
  {
   "cell_type": "code",
   "execution_count": 11,
   "metadata": {
    "execution": {
     "iopub.execute_input": "2024-07-10T12:17:41.638831Z",
     "iopub.status.busy": "2024-07-10T12:17:41.638384Z",
     "iopub.status.idle": "2024-07-10T12:17:41.660795Z",
     "shell.execute_reply": "2024-07-10T12:17:41.659363Z",
     "shell.execute_reply.started": "2024-07-10T12:17:41.638796Z"
    }
   },
   "outputs": [
    {
     "data": {
      "text/html": [
       "<div>\n",
       "<style scoped>\n",
       "    .dataframe tbody tr th:only-of-type {\n",
       "        vertical-align: middle;\n",
       "    }\n",
       "\n",
       "    .dataframe tbody tr th {\n",
       "        vertical-align: top;\n",
       "    }\n",
       "\n",
       "    .dataframe thead th {\n",
       "        text-align: right;\n",
       "    }\n",
       "</style>\n",
       "<table border=\"1\" class=\"dataframe\">\n",
       "  <thead>\n",
       "    <tr style=\"text-align: right;\">\n",
       "      <th></th>\n",
       "      <th>Gender</th>\n",
       "      <th>Age</th>\n",
       "      <th>Driving_License</th>\n",
       "      <th>Region_Code</th>\n",
       "      <th>Previously_Insured</th>\n",
       "      <th>Vehicle_Age</th>\n",
       "      <th>Vehicle_Damage</th>\n",
       "      <th>Annual_Premium</th>\n",
       "      <th>Policy_Sales_Channel</th>\n",
       "      <th>Vintage</th>\n",
       "      <th>Response</th>\n",
       "    </tr>\n",
       "    <tr>\n",
       "      <th>id</th>\n",
       "      <th></th>\n",
       "      <th></th>\n",
       "      <th></th>\n",
       "      <th></th>\n",
       "      <th></th>\n",
       "      <th></th>\n",
       "      <th></th>\n",
       "      <th></th>\n",
       "      <th></th>\n",
       "      <th></th>\n",
       "      <th></th>\n",
       "    </tr>\n",
       "  </thead>\n",
       "  <tbody>\n",
       "    <tr>\n",
       "      <th>0</th>\n",
       "      <td>Male</td>\n",
       "      <td>21</td>\n",
       "      <td>1</td>\n",
       "      <td>35.0</td>\n",
       "      <td>0</td>\n",
       "      <td>1-2 Year</td>\n",
       "      <td>Yes</td>\n",
       "      <td>65101.0</td>\n",
       "      <td>124.0</td>\n",
       "      <td>187</td>\n",
       "      <td>0</td>\n",
       "    </tr>\n",
       "    <tr>\n",
       "      <th>1</th>\n",
       "      <td>Male</td>\n",
       "      <td>43</td>\n",
       "      <td>1</td>\n",
       "      <td>28.0</td>\n",
       "      <td>0</td>\n",
       "      <td>&gt; 2 Years</td>\n",
       "      <td>Yes</td>\n",
       "      <td>58911.0</td>\n",
       "      <td>26.0</td>\n",
       "      <td>288</td>\n",
       "      <td>1</td>\n",
       "    </tr>\n",
       "    <tr>\n",
       "      <th>2</th>\n",
       "      <td>Female</td>\n",
       "      <td>25</td>\n",
       "      <td>1</td>\n",
       "      <td>14.0</td>\n",
       "      <td>1</td>\n",
       "      <td>&lt; 1 Year</td>\n",
       "      <td>No</td>\n",
       "      <td>38043.0</td>\n",
       "      <td>152.0</td>\n",
       "      <td>254</td>\n",
       "      <td>0</td>\n",
       "    </tr>\n",
       "    <tr>\n",
       "      <th>3</th>\n",
       "      <td>Female</td>\n",
       "      <td>35</td>\n",
       "      <td>1</td>\n",
       "      <td>1.0</td>\n",
       "      <td>0</td>\n",
       "      <td>1-2 Year</td>\n",
       "      <td>Yes</td>\n",
       "      <td>2630.0</td>\n",
       "      <td>156.0</td>\n",
       "      <td>76</td>\n",
       "      <td>0</td>\n",
       "    </tr>\n",
       "    <tr>\n",
       "      <th>4</th>\n",
       "      <td>Female</td>\n",
       "      <td>36</td>\n",
       "      <td>1</td>\n",
       "      <td>15.0</td>\n",
       "      <td>1</td>\n",
       "      <td>1-2 Year</td>\n",
       "      <td>No</td>\n",
       "      <td>31951.0</td>\n",
       "      <td>152.0</td>\n",
       "      <td>294</td>\n",
       "      <td>0</td>\n",
       "    </tr>\n",
       "  </tbody>\n",
       "</table>\n",
       "</div>"
      ],
      "text/plain": [
       "    Gender  Age  Driving_License  Region_Code  Previously_Insured Vehicle_Age  \\\n",
       "id                                                                              \n",
       "0     Male   21                1         35.0                   0    1-2 Year   \n",
       "1     Male   43                1         28.0                   0   > 2 Years   \n",
       "2   Female   25                1         14.0                   1    < 1 Year   \n",
       "3   Female   35                1          1.0                   0    1-2 Year   \n",
       "4   Female   36                1         15.0                   1    1-2 Year   \n",
       "\n",
       "   Vehicle_Damage  Annual_Premium  Policy_Sales_Channel  Vintage  Response  \n",
       "id                                                                          \n",
       "0             Yes         65101.0                 124.0      187         0  \n",
       "1             Yes         58911.0                  26.0      288         1  \n",
       "2              No         38043.0                 152.0      254         0  \n",
       "3             Yes          2630.0                 156.0       76         0  \n",
       "4              No         31951.0                 152.0      294         0  "
      ]
     },
     "execution_count": 11,
     "metadata": {},
     "output_type": "execute_result"
    }
   ],
   "source": [
    "insurance_data_train.head()"
   ]
  },
  {
   "cell_type": "markdown",
   "metadata": {},
   "source": [
    "### Handle Categorical Data"
   ]
  },
  {
   "cell_type": "markdown",
   "metadata": {},
   "source": [
    "### For Training"
   ]
  },
  {
   "cell_type": "code",
   "execution_count": 12,
   "metadata": {
    "execution": {
     "iopub.execute_input": "2024-07-10T12:17:42.481926Z",
     "iopub.status.busy": "2024-07-10T12:17:42.480515Z",
     "iopub.status.idle": "2024-07-10T12:17:46.659301Z",
     "shell.execute_reply": "2024-07-10T12:17:46.658081Z",
     "shell.execute_reply.started": "2024-07-10T12:17:42.481848Z"
    }
   },
   "outputs": [
    {
     "data": {
      "text/html": [
       "<div>\n",
       "<style scoped>\n",
       "    .dataframe tbody tr th:only-of-type {\n",
       "        vertical-align: middle;\n",
       "    }\n",
       "\n",
       "    .dataframe tbody tr th {\n",
       "        vertical-align: top;\n",
       "    }\n",
       "\n",
       "    .dataframe thead th {\n",
       "        text-align: right;\n",
       "    }\n",
       "</style>\n",
       "<table border=\"1\" class=\"dataframe\">\n",
       "  <thead>\n",
       "    <tr style=\"text-align: right;\">\n",
       "      <th></th>\n",
       "      <th>Gender</th>\n",
       "      <th>Age</th>\n",
       "      <th>Driving_License</th>\n",
       "      <th>Region_Code</th>\n",
       "      <th>Previously_Insured</th>\n",
       "      <th>Vehicle_Damage</th>\n",
       "      <th>Annual_Premium</th>\n",
       "      <th>Policy_Sales_Channel</th>\n",
       "      <th>Vintage</th>\n",
       "      <th>Response</th>\n",
       "      <th>Vehicle_Age_1-2 Year</th>\n",
       "      <th>Vehicle_Age_&lt; 1 Year</th>\n",
       "      <th>Vehicle_Age_&gt; 2 Years</th>\n",
       "    </tr>\n",
       "    <tr>\n",
       "      <th>id</th>\n",
       "      <th></th>\n",
       "      <th></th>\n",
       "      <th></th>\n",
       "      <th></th>\n",
       "      <th></th>\n",
       "      <th></th>\n",
       "      <th></th>\n",
       "      <th></th>\n",
       "      <th></th>\n",
       "      <th></th>\n",
       "      <th></th>\n",
       "      <th></th>\n",
       "      <th></th>\n",
       "    </tr>\n",
       "  </thead>\n",
       "  <tbody>\n",
       "    <tr>\n",
       "      <th>0</th>\n",
       "      <td>Male</td>\n",
       "      <td>21</td>\n",
       "      <td>1</td>\n",
       "      <td>35.0</td>\n",
       "      <td>0</td>\n",
       "      <td>Yes</td>\n",
       "      <td>65101.0</td>\n",
       "      <td>124.0</td>\n",
       "      <td>187</td>\n",
       "      <td>0</td>\n",
       "      <td>1</td>\n",
       "      <td>0</td>\n",
       "      <td>0</td>\n",
       "    </tr>\n",
       "    <tr>\n",
       "      <th>1</th>\n",
       "      <td>Male</td>\n",
       "      <td>43</td>\n",
       "      <td>1</td>\n",
       "      <td>28.0</td>\n",
       "      <td>0</td>\n",
       "      <td>Yes</td>\n",
       "      <td>58911.0</td>\n",
       "      <td>26.0</td>\n",
       "      <td>288</td>\n",
       "      <td>1</td>\n",
       "      <td>0</td>\n",
       "      <td>0</td>\n",
       "      <td>1</td>\n",
       "    </tr>\n",
       "    <tr>\n",
       "      <th>2</th>\n",
       "      <td>Female</td>\n",
       "      <td>25</td>\n",
       "      <td>1</td>\n",
       "      <td>14.0</td>\n",
       "      <td>1</td>\n",
       "      <td>No</td>\n",
       "      <td>38043.0</td>\n",
       "      <td>152.0</td>\n",
       "      <td>254</td>\n",
       "      <td>0</td>\n",
       "      <td>0</td>\n",
       "      <td>1</td>\n",
       "      <td>0</td>\n",
       "    </tr>\n",
       "    <tr>\n",
       "      <th>3</th>\n",
       "      <td>Female</td>\n",
       "      <td>35</td>\n",
       "      <td>1</td>\n",
       "      <td>1.0</td>\n",
       "      <td>0</td>\n",
       "      <td>Yes</td>\n",
       "      <td>2630.0</td>\n",
       "      <td>156.0</td>\n",
       "      <td>76</td>\n",
       "      <td>0</td>\n",
       "      <td>1</td>\n",
       "      <td>0</td>\n",
       "      <td>0</td>\n",
       "    </tr>\n",
       "    <tr>\n",
       "      <th>4</th>\n",
       "      <td>Female</td>\n",
       "      <td>36</td>\n",
       "      <td>1</td>\n",
       "      <td>15.0</td>\n",
       "      <td>1</td>\n",
       "      <td>No</td>\n",
       "      <td>31951.0</td>\n",
       "      <td>152.0</td>\n",
       "      <td>294</td>\n",
       "      <td>0</td>\n",
       "      <td>1</td>\n",
       "      <td>0</td>\n",
       "      <td>0</td>\n",
       "    </tr>\n",
       "  </tbody>\n",
       "</table>\n",
       "</div>"
      ],
      "text/plain": [
       "    Gender  Age  Driving_License  Region_Code  Previously_Insured  \\\n",
       "id                                                                  \n",
       "0     Male   21                1         35.0                   0   \n",
       "1     Male   43                1         28.0                   0   \n",
       "2   Female   25                1         14.0                   1   \n",
       "3   Female   35                1          1.0                   0   \n",
       "4   Female   36                1         15.0                   1   \n",
       "\n",
       "   Vehicle_Damage  Annual_Premium  Policy_Sales_Channel  Vintage  Response  \\\n",
       "id                                                                           \n",
       "0             Yes         65101.0                 124.0      187         0   \n",
       "1             Yes         58911.0                  26.0      288         1   \n",
       "2              No         38043.0                 152.0      254         0   \n",
       "3             Yes          2630.0                 156.0       76         0   \n",
       "4              No         31951.0                 152.0      294         0   \n",
       "\n",
       "    Vehicle_Age_1-2 Year  Vehicle_Age_< 1 Year  Vehicle_Age_> 2 Years  \n",
       "id                                                                     \n",
       "0                      1                     0                      0  \n",
       "1                      0                     0                      1  \n",
       "2                      0                     1                      0  \n",
       "3                      1                     0                      0  \n",
       "4                      1                     0                      0  "
      ]
     },
     "execution_count": 12,
     "metadata": {},
     "output_type": "execute_result"
    }
   ],
   "source": [
    "insurance_data_train['Vehicle_Age'] = insurance_data_train['Vehicle_Age'].astype('category')\n",
    "insurance_data_train = pd.get_dummies(insurance_data_train, columns=['Vehicle_Age'])\n",
    "insurance_data_train.head()"
   ]
  },
  {
   "cell_type": "markdown",
   "metadata": {},
   "source": [
    "### For Testing "
   ]
  },
  {
   "cell_type": "code",
   "execution_count": 13,
   "metadata": {
    "execution": {
     "iopub.execute_input": "2024-07-10T12:17:46.661674Z",
     "iopub.status.busy": "2024-07-10T12:17:46.661242Z",
     "iopub.status.idle": "2024-07-10T12:17:49.239913Z",
     "shell.execute_reply": "2024-07-10T12:17:49.238280Z",
     "shell.execute_reply.started": "2024-07-10T12:17:46.661638Z"
    }
   },
   "outputs": [
    {
     "data": {
      "text/html": [
       "<div>\n",
       "<style scoped>\n",
       "    .dataframe tbody tr th:only-of-type {\n",
       "        vertical-align: middle;\n",
       "    }\n",
       "\n",
       "    .dataframe tbody tr th {\n",
       "        vertical-align: top;\n",
       "    }\n",
       "\n",
       "    .dataframe thead th {\n",
       "        text-align: right;\n",
       "    }\n",
       "</style>\n",
       "<table border=\"1\" class=\"dataframe\">\n",
       "  <thead>\n",
       "    <tr style=\"text-align: right;\">\n",
       "      <th></th>\n",
       "      <th>id</th>\n",
       "      <th>Gender</th>\n",
       "      <th>Age</th>\n",
       "      <th>Driving_License</th>\n",
       "      <th>Region_Code</th>\n",
       "      <th>Previously_Insured</th>\n",
       "      <th>Vehicle_Damage</th>\n",
       "      <th>Annual_Premium</th>\n",
       "      <th>Policy_Sales_Channel</th>\n",
       "      <th>Vintage</th>\n",
       "      <th>Vehicle_Age_1-2 Year</th>\n",
       "      <th>Vehicle_Age_&lt; 1 Year</th>\n",
       "      <th>Vehicle_Age_&gt; 2 Years</th>\n",
       "    </tr>\n",
       "  </thead>\n",
       "  <tbody>\n",
       "    <tr>\n",
       "      <th>0</th>\n",
       "      <td>11504798</td>\n",
       "      <td>Female</td>\n",
       "      <td>20</td>\n",
       "      <td>1</td>\n",
       "      <td>47.0</td>\n",
       "      <td>0</td>\n",
       "      <td>No</td>\n",
       "      <td>2630.0</td>\n",
       "      <td>160.0</td>\n",
       "      <td>228</td>\n",
       "      <td>0</td>\n",
       "      <td>1</td>\n",
       "      <td>0</td>\n",
       "    </tr>\n",
       "    <tr>\n",
       "      <th>1</th>\n",
       "      <td>11504799</td>\n",
       "      <td>Male</td>\n",
       "      <td>47</td>\n",
       "      <td>1</td>\n",
       "      <td>28.0</td>\n",
       "      <td>0</td>\n",
       "      <td>Yes</td>\n",
       "      <td>37483.0</td>\n",
       "      <td>124.0</td>\n",
       "      <td>123</td>\n",
       "      <td>1</td>\n",
       "      <td>0</td>\n",
       "      <td>0</td>\n",
       "    </tr>\n",
       "    <tr>\n",
       "      <th>2</th>\n",
       "      <td>11504800</td>\n",
       "      <td>Male</td>\n",
       "      <td>47</td>\n",
       "      <td>1</td>\n",
       "      <td>43.0</td>\n",
       "      <td>0</td>\n",
       "      <td>Yes</td>\n",
       "      <td>2630.0</td>\n",
       "      <td>26.0</td>\n",
       "      <td>271</td>\n",
       "      <td>1</td>\n",
       "      <td>0</td>\n",
       "      <td>0</td>\n",
       "    </tr>\n",
       "    <tr>\n",
       "      <th>3</th>\n",
       "      <td>11504801</td>\n",
       "      <td>Female</td>\n",
       "      <td>22</td>\n",
       "      <td>1</td>\n",
       "      <td>47.0</td>\n",
       "      <td>1</td>\n",
       "      <td>No</td>\n",
       "      <td>24502.0</td>\n",
       "      <td>152.0</td>\n",
       "      <td>115</td>\n",
       "      <td>0</td>\n",
       "      <td>1</td>\n",
       "      <td>0</td>\n",
       "    </tr>\n",
       "    <tr>\n",
       "      <th>4</th>\n",
       "      <td>11504802</td>\n",
       "      <td>Male</td>\n",
       "      <td>51</td>\n",
       "      <td>1</td>\n",
       "      <td>19.0</td>\n",
       "      <td>0</td>\n",
       "      <td>No</td>\n",
       "      <td>34115.0</td>\n",
       "      <td>124.0</td>\n",
       "      <td>148</td>\n",
       "      <td>1</td>\n",
       "      <td>0</td>\n",
       "      <td>0</td>\n",
       "    </tr>\n",
       "  </tbody>\n",
       "</table>\n",
       "</div>"
      ],
      "text/plain": [
       "         id  Gender  Age  Driving_License  Region_Code  Previously_Insured  \\\n",
       "0  11504798  Female   20                1         47.0                   0   \n",
       "1  11504799    Male   47                1         28.0                   0   \n",
       "2  11504800    Male   47                1         43.0                   0   \n",
       "3  11504801  Female   22                1         47.0                   1   \n",
       "4  11504802    Male   51                1         19.0                   0   \n",
       "\n",
       "  Vehicle_Damage  Annual_Premium  Policy_Sales_Channel  Vintage  \\\n",
       "0             No          2630.0                 160.0      228   \n",
       "1            Yes         37483.0                 124.0      123   \n",
       "2            Yes          2630.0                  26.0      271   \n",
       "3             No         24502.0                 152.0      115   \n",
       "4             No         34115.0                 124.0      148   \n",
       "\n",
       "   Vehicle_Age_1-2 Year  Vehicle_Age_< 1 Year  Vehicle_Age_> 2 Years  \n",
       "0                     0                     1                      0  \n",
       "1                     1                     0                      0  \n",
       "2                     1                     0                      0  \n",
       "3                     0                     1                      0  \n",
       "4                     1                     0                      0  "
      ]
     },
     "execution_count": 13,
     "metadata": {},
     "output_type": "execute_result"
    }
   ],
   "source": [
    "insurance_data_test['Vehicle_Age'] = insurance_data_test['Vehicle_Age'].astype('category')\n",
    "insurance_data_test = pd.get_dummies(insurance_data_test, columns=['Vehicle_Age'])\n",
    "insurance_data_test.head()"
   ]
  },
  {
   "cell_type": "code",
   "execution_count": 14,
   "metadata": {
    "execution": {
     "iopub.execute_input": "2024-07-10T12:17:49.242450Z",
     "iopub.status.busy": "2024-07-10T12:17:49.242051Z",
     "iopub.status.idle": "2024-07-10T12:17:49.249410Z",
     "shell.execute_reply": "2024-07-10T12:17:49.247761Z",
     "shell.execute_reply.started": "2024-07-10T12:17:49.242415Z"
    }
   },
   "outputs": [],
   "source": [
    "def vehicle_damage(Vehicle_Damage):\n",
    "    if Vehicle_Damage == 'Yes':\n",
    "        return 1\n",
    "    return 0"
   ]
  },
  {
   "cell_type": "code",
   "execution_count": 15,
   "metadata": {
    "execution": {
     "iopub.execute_input": "2024-07-10T12:17:49.251807Z",
     "iopub.status.busy": "2024-07-10T12:17:49.251204Z",
     "iopub.status.idle": "2024-07-10T12:17:58.856423Z",
     "shell.execute_reply": "2024-07-10T12:17:58.855327Z",
     "shell.execute_reply.started": "2024-07-10T12:17:49.251763Z"
    }
   },
   "outputs": [],
   "source": [
    "insurance_data_train['Vehicle_Damages'] = insurance_data_train['Vehicle_Damage'].apply(vehicle_damage)\n",
    "insurance_data_train.drop(['Vehicle_Damage'],axis=1, inplace=True)"
   ]
  },
  {
   "cell_type": "code",
   "execution_count": 16,
   "metadata": {
    "execution": {
     "iopub.execute_input": "2024-07-10T12:18:00.877193Z",
     "iopub.status.busy": "2024-07-10T12:18:00.876779Z",
     "iopub.status.idle": "2024-07-10T12:18:07.421916Z",
     "shell.execute_reply": "2024-07-10T12:18:07.420309Z",
     "shell.execute_reply.started": "2024-07-10T12:18:00.877159Z"
    }
   },
   "outputs": [],
   "source": [
    "insurance_data_test['Vehicle_Damages'] = insurance_data_test['Vehicle_Damage'].apply(vehicle_damage)\n",
    "insurance_data_test.drop(['Vehicle_Damage'],axis=1, inplace=True)"
   ]
  },
  {
   "cell_type": "code",
   "execution_count": 17,
   "metadata": {
    "execution": {
     "iopub.execute_input": "2024-07-10T12:18:07.424623Z",
     "iopub.status.busy": "2024-07-10T12:18:07.424194Z",
     "iopub.status.idle": "2024-07-10T12:18:07.445257Z",
     "shell.execute_reply": "2024-07-10T12:18:07.444024Z",
     "shell.execute_reply.started": "2024-07-10T12:18:07.424591Z"
    }
   },
   "outputs": [
    {
     "data": {
      "text/html": [
       "<div>\n",
       "<style scoped>\n",
       "    .dataframe tbody tr th:only-of-type {\n",
       "        vertical-align: middle;\n",
       "    }\n",
       "\n",
       "    .dataframe tbody tr th {\n",
       "        vertical-align: top;\n",
       "    }\n",
       "\n",
       "    .dataframe thead th {\n",
       "        text-align: right;\n",
       "    }\n",
       "</style>\n",
       "<table border=\"1\" class=\"dataframe\">\n",
       "  <thead>\n",
       "    <tr style=\"text-align: right;\">\n",
       "      <th></th>\n",
       "      <th>Gender</th>\n",
       "      <th>Age</th>\n",
       "      <th>Driving_License</th>\n",
       "      <th>Region_Code</th>\n",
       "      <th>Previously_Insured</th>\n",
       "      <th>Annual_Premium</th>\n",
       "      <th>Policy_Sales_Channel</th>\n",
       "      <th>Vintage</th>\n",
       "      <th>Response</th>\n",
       "      <th>Vehicle_Age_1-2 Year</th>\n",
       "      <th>Vehicle_Age_&lt; 1 Year</th>\n",
       "      <th>Vehicle_Age_&gt; 2 Years</th>\n",
       "      <th>Vehicle_Damages</th>\n",
       "    </tr>\n",
       "    <tr>\n",
       "      <th>id</th>\n",
       "      <th></th>\n",
       "      <th></th>\n",
       "      <th></th>\n",
       "      <th></th>\n",
       "      <th></th>\n",
       "      <th></th>\n",
       "      <th></th>\n",
       "      <th></th>\n",
       "      <th></th>\n",
       "      <th></th>\n",
       "      <th></th>\n",
       "      <th></th>\n",
       "      <th></th>\n",
       "    </tr>\n",
       "  </thead>\n",
       "  <tbody>\n",
       "    <tr>\n",
       "      <th>0</th>\n",
       "      <td>Male</td>\n",
       "      <td>21</td>\n",
       "      <td>1</td>\n",
       "      <td>35.0</td>\n",
       "      <td>0</td>\n",
       "      <td>65101.0</td>\n",
       "      <td>124.0</td>\n",
       "      <td>187</td>\n",
       "      <td>0</td>\n",
       "      <td>1</td>\n",
       "      <td>0</td>\n",
       "      <td>0</td>\n",
       "      <td>1</td>\n",
       "    </tr>\n",
       "    <tr>\n",
       "      <th>1</th>\n",
       "      <td>Male</td>\n",
       "      <td>43</td>\n",
       "      <td>1</td>\n",
       "      <td>28.0</td>\n",
       "      <td>0</td>\n",
       "      <td>58911.0</td>\n",
       "      <td>26.0</td>\n",
       "      <td>288</td>\n",
       "      <td>1</td>\n",
       "      <td>0</td>\n",
       "      <td>0</td>\n",
       "      <td>1</td>\n",
       "      <td>1</td>\n",
       "    </tr>\n",
       "    <tr>\n",
       "      <th>2</th>\n",
       "      <td>Female</td>\n",
       "      <td>25</td>\n",
       "      <td>1</td>\n",
       "      <td>14.0</td>\n",
       "      <td>1</td>\n",
       "      <td>38043.0</td>\n",
       "      <td>152.0</td>\n",
       "      <td>254</td>\n",
       "      <td>0</td>\n",
       "      <td>0</td>\n",
       "      <td>1</td>\n",
       "      <td>0</td>\n",
       "      <td>0</td>\n",
       "    </tr>\n",
       "    <tr>\n",
       "      <th>3</th>\n",
       "      <td>Female</td>\n",
       "      <td>35</td>\n",
       "      <td>1</td>\n",
       "      <td>1.0</td>\n",
       "      <td>0</td>\n",
       "      <td>2630.0</td>\n",
       "      <td>156.0</td>\n",
       "      <td>76</td>\n",
       "      <td>0</td>\n",
       "      <td>1</td>\n",
       "      <td>0</td>\n",
       "      <td>0</td>\n",
       "      <td>1</td>\n",
       "    </tr>\n",
       "    <tr>\n",
       "      <th>4</th>\n",
       "      <td>Female</td>\n",
       "      <td>36</td>\n",
       "      <td>1</td>\n",
       "      <td>15.0</td>\n",
       "      <td>1</td>\n",
       "      <td>31951.0</td>\n",
       "      <td>152.0</td>\n",
       "      <td>294</td>\n",
       "      <td>0</td>\n",
       "      <td>1</td>\n",
       "      <td>0</td>\n",
       "      <td>0</td>\n",
       "      <td>0</td>\n",
       "    </tr>\n",
       "  </tbody>\n",
       "</table>\n",
       "</div>"
      ],
      "text/plain": [
       "    Gender  Age  Driving_License  Region_Code  Previously_Insured  \\\n",
       "id                                                                  \n",
       "0     Male   21                1         35.0                   0   \n",
       "1     Male   43                1         28.0                   0   \n",
       "2   Female   25                1         14.0                   1   \n",
       "3   Female   35                1          1.0                   0   \n",
       "4   Female   36                1         15.0                   1   \n",
       "\n",
       "    Annual_Premium  Policy_Sales_Channel  Vintage  Response  \\\n",
       "id                                                            \n",
       "0          65101.0                 124.0      187         0   \n",
       "1          58911.0                  26.0      288         1   \n",
       "2          38043.0                 152.0      254         0   \n",
       "3           2630.0                 156.0       76         0   \n",
       "4          31951.0                 152.0      294         0   \n",
       "\n",
       "    Vehicle_Age_1-2 Year  Vehicle_Age_< 1 Year  Vehicle_Age_> 2 Years  \\\n",
       "id                                                                      \n",
       "0                      1                     0                      0   \n",
       "1                      0                     0                      1   \n",
       "2                      0                     1                      0   \n",
       "3                      1                     0                      0   \n",
       "4                      1                     0                      0   \n",
       "\n",
       "    Vehicle_Damages  \n",
       "id                   \n",
       "0                 1  \n",
       "1                 1  \n",
       "2                 0  \n",
       "3                 1  \n",
       "4                 0  "
      ]
     },
     "execution_count": 17,
     "metadata": {},
     "output_type": "execute_result"
    }
   ],
   "source": [
    "insurance_data_train.head()"
   ]
  },
  {
   "cell_type": "code",
   "execution_count": 18,
   "metadata": {
    "execution": {
     "iopub.execute_input": "2024-07-10T12:18:07.447464Z",
     "iopub.status.busy": "2024-07-10T12:18:07.447090Z",
     "iopub.status.idle": "2024-07-10T12:18:12.103205Z",
     "shell.execute_reply": "2024-07-10T12:18:12.102054Z",
     "shell.execute_reply.started": "2024-07-10T12:18:07.447430Z"
    }
   },
   "outputs": [],
   "source": [
    "insurance_data_test['Gender'] = insurance_data_test['Gender'].astype('category')\n",
    "insurance_data_test = pd.get_dummies(insurance_data_test, columns=['Gender'],drop_first=True)\n",
    "\n",
    "insurance_data_train['Gender'] = insurance_data_train['Gender'].astype('category')\n",
    "insurance_data_train = pd.get_dummies(insurance_data_train, columns=['Gender'],drop_first=True)"
   ]
  },
  {
   "cell_type": "markdown",
   "metadata": {},
   "source": [
    "### Split the dataset"
   ]
  },
  {
   "cell_type": "code",
   "execution_count": 19,
   "metadata": {
    "execution": {
     "iopub.execute_input": "2024-07-10T12:18:12.106213Z",
     "iopub.status.busy": "2024-07-10T12:18:12.105851Z",
     "iopub.status.idle": "2024-07-10T12:18:12.647750Z",
     "shell.execute_reply": "2024-07-10T12:18:12.646510Z",
     "shell.execute_reply.started": "2024-07-10T12:18:12.106183Z"
    }
   },
   "outputs": [],
   "source": [
    "X_train = insurance_data_train[['Age', 'Driving_License', \n",
    "                                'Region_Code', \n",
    "              'Previously_Insured', 'Annual_Premium', \n",
    "              'Policy_Sales_Channel', 'Vintage', \n",
    "              'Vehicle_Damages', 'Vehicle_Age_1-2 Year',\n",
    "              'Vehicle_Age_< 1 Year', 'Vehicle_Age_> 2 Years',\n",
    "              'Gender_Male']]\n",
    "y_train = insurance_data_train['Response']\n",
    "\n",
    "X_test = insurance_data_test[['Age', 'Driving_License', \n",
    "                              'Region_Code', 'Previously_Insured',\n",
    "                              'Annual_Premium', \n",
    "                              'Policy_Sales_Channel', 'Vintage', \n",
    "                              'Vehicle_Damages',\n",
    "                              'Vehicle_Age_1-2 Year',\n",
    "                              'Vehicle_Age_< 1 Year',\n",
    "                              'Vehicle_Age_> 2 Years', \n",
    "                              'Gender_Male']]"
   ]
  },
  {
   "cell_type": "markdown",
   "metadata": {},
   "source": [
    "### Using Smote To Handle Imblanced Data"
   ]
  },
  {
   "cell_type": "code",
   "execution_count": 20,
   "metadata": {
    "execution": {
     "iopub.execute_input": "2024-07-10T12:18:12.649464Z",
     "iopub.status.busy": "2024-07-10T12:18:12.649063Z",
     "iopub.status.idle": "2024-07-10T12:19:54.876999Z",
     "shell.execute_reply": "2024-07-10T12:19:54.875691Z",
     "shell.execute_reply.started": "2024-07-10T12:18:12.649430Z"
    }
   },
   "outputs": [
    {
     "name": "stdout",
     "output_type": "stream",
     "text": [
      "0    10089739\n",
      "1     1415059\n",
      "Name: Response, dtype: int64\n",
      "\n",
      "0    10089739\n",
      "1    10089739\n",
      "Name: Response, dtype: int64\n"
     ]
    }
   ],
   "source": [
    "import imblearn\n",
    "from imblearn.over_sampling import SMOTE\n",
    "smote = SMOTE()\n",
    "X_train_smote, y_train_smote = smote.fit_resample(X_train, y_train)\n",
    "print(y_train.value_counts())\n",
    "print()\n",
    "print(y_train_smote.value_counts())"
   ]
  },
  {
   "cell_type": "markdown",
   "metadata": {},
   "source": [
    "### Scaling the dataset"
   ]
  },
  {
   "cell_type": "code",
   "execution_count": 21,
   "metadata": {
    "execution": {
     "iopub.execute_input": "2024-07-10T12:20:06.146038Z",
     "iopub.status.busy": "2024-07-10T12:20:06.145467Z",
     "iopub.status.idle": "2024-07-10T12:20:06.151986Z",
     "shell.execute_reply": "2024-07-10T12:20:06.150547Z",
     "shell.execute_reply.started": "2024-07-10T12:20:06.146005Z"
    }
   },
   "outputs": [],
   "source": [
    "from sklearn.preprocessing import StandardScaler, MinMaxScaler\n",
    "scaler = StandardScaler()"
   ]
  },
  {
   "cell_type": "code",
   "execution_count": 22,
   "metadata": {
    "execution": {
     "iopub.execute_input": "2024-07-10T12:20:06.303483Z",
     "iopub.status.busy": "2024-07-10T12:20:06.303017Z",
     "iopub.status.idle": "2024-07-10T12:20:39.129895Z",
     "shell.execute_reply": "2024-07-10T12:20:39.128584Z",
     "shell.execute_reply.started": "2024-07-10T12:20:06.303439Z"
    }
   },
   "outputs": [],
   "source": [
    "X_train_scaled = scaler.fit_transform(X_train_smote)\n",
    "data_scaled = scaler.fit_transform(insurance_data_train)"
   ]
  },
  {
   "cell_type": "code",
   "execution_count": 23,
   "metadata": {
    "execution": {
     "iopub.execute_input": "2024-07-10T12:20:39.132352Z",
     "iopub.status.busy": "2024-07-10T12:20:39.131890Z",
     "iopub.status.idle": "2024-07-10T12:20:47.540621Z",
     "shell.execute_reply": "2024-07-10T12:20:47.539320Z",
     "shell.execute_reply.started": "2024-07-10T12:20:39.132314Z"
    }
   },
   "outputs": [],
   "source": [
    "test_dataset = scaler.fit_transform(insurance_data_test)"
   ]
  },
  {
   "cell_type": "markdown",
   "metadata": {},
   "source": [
    "# Apply the neural network model"
   ]
  },
  {
   "cell_type": "markdown",
   "metadata": {},
   "source": [
    "### Split the dataset"
   ]
  },
  {
   "cell_type": "code",
   "execution_count": 24,
   "metadata": {
    "execution": {
     "iopub.execute_input": "2024-07-10T12:20:47.542424Z",
     "iopub.status.busy": "2024-07-10T12:20:47.542041Z",
     "iopub.status.idle": "2024-07-10T12:20:53.504981Z",
     "shell.execute_reply": "2024-07-10T12:20:53.503586Z",
     "shell.execute_reply.started": "2024-07-10T12:20:47.542388Z"
    }
   },
   "outputs": [],
   "source": [
    "from sklearn.model_selection import train_test_split\n",
    "X_train, X_test, y_train, y_test = train_test_split(X_train_scaled, y_train_smote, \n",
    "                                                    test_size=0.3, random_state=42)"
   ]
  },
  {
   "cell_type": "code",
   "execution_count": 25,
   "metadata": {
    "execution": {
     "iopub.execute_input": "2024-07-10T12:20:53.507753Z",
     "iopub.status.busy": "2024-07-10T12:20:53.507342Z",
     "iopub.status.idle": "2024-07-10T12:20:53.514716Z",
     "shell.execute_reply": "2024-07-10T12:20:53.513327Z",
     "shell.execute_reply.started": "2024-07-10T12:20:53.507718Z"
    }
   },
   "outputs": [
    {
     "name": "stdout",
     "output_type": "stream",
     "text": [
      "(14125634, 12) (14125634,) (6053844, 12) (6053844,)\n"
     ]
    }
   ],
   "source": [
    "print(X_train.shape, y_train.shape, X_test.shape, y_test.shape)\n"
   ]
  },
  {
   "cell_type": "code",
   "execution_count": 26,
   "metadata": {
    "execution": {
     "iopub.execute_input": "2024-07-10T12:20:53.517511Z",
     "iopub.status.busy": "2024-07-10T12:20:53.516958Z",
     "iopub.status.idle": "2024-07-10T12:21:11.010084Z",
     "shell.execute_reply": "2024-07-10T12:21:11.008623Z",
     "shell.execute_reply.started": "2024-07-10T12:20:53.517464Z"
    }
   },
   "outputs": [
    {
     "name": "stdout",
     "output_type": "stream",
     "text": [
      "Setup Completed!\n"
     ]
    }
   ],
   "source": [
    "from sklearn import metrics\n",
    "from sklearn.metrics import *\n",
    "from sklearn.metrics import accuracy_score\n",
    "from sklearn.metrics import precision_score\n",
    "from sklearn.metrics import recall_score\n",
    "from sklearn.metrics import f1_score\n",
    "from sklearn.metrics import confusion_matrix\n",
    "from sklearn.metrics import classification_report\n",
    "import tensorflow as tf\n",
    "from tensorflow.keras.models import Sequential\n",
    "from tensorflow.keras.layers import Dense\n",
    "from tensorflow.keras.activations import linear, relu, sigmoid\n",
    "import logging\n",
    "logging.getLogger(\"tensorflow\").setLevel(logging.ERROR)\n",
    "tf.autograph.set_verbosity(0)\n",
    "print(\"Setup Completed!\")"
   ]
  },
  {
   "cell_type": "code",
   "execution_count": 27,
   "metadata": {
    "execution": {
     "iopub.execute_input": "2024-07-10T12:24:51.252540Z",
     "iopub.status.busy": "2024-07-10T12:24:51.252106Z",
     "iopub.status.idle": "2024-07-10T12:24:51.305684Z",
     "shell.execute_reply": "2024-07-10T12:24:51.303909Z",
     "shell.execute_reply.started": "2024-07-10T12:24:51.252501Z"
    }
   },
   "outputs": [],
   "source": [
    "model = Sequential(\n",
    "    [               \n",
    "        tf.keras.Input(shape=(12,)),    #specify input size\n",
    "        ### START CODE HERE ### \n",
    "        Dense(units = 35, activation='sigmoid'),#layer-1\n",
    "        Dense(units = 25, activation='sigmoid'),#layer-2\n",
    "        Dense(units = 15, activation='sigmoid'), #layer-3\n",
    "        Dense(units = 1, activation='sigmoid')#output layer\n",
    "        \n",
    "        ### END CODE HERE ### \n",
    "    ], name = \"nn_model\" \n",
    ")                            \n"
   ]
  },
  {
   "cell_type": "code",
   "execution_count": 28,
   "metadata": {
    "execution": {
     "iopub.execute_input": "2024-07-10T12:25:00.161886Z",
     "iopub.status.busy": "2024-07-10T12:25:00.161378Z",
     "iopub.status.idle": "2024-07-10T12:25:00.190682Z",
     "shell.execute_reply": "2024-07-10T12:25:00.189245Z",
     "shell.execute_reply.started": "2024-07-10T12:25:00.161847Z"
    }
   },
   "outputs": [
    {
     "name": "stdout",
     "output_type": "stream",
     "text": [
      "Model: \"nn_model\"\n",
      "_________________________________________________________________\n",
      " Layer (type)                Output Shape              Param #   \n",
      "=================================================================\n",
      " dense (Dense)               (None, 35)                455       \n",
      "                                                                 \n",
      " dense_1 (Dense)             (None, 25)                900       \n",
      "                                                                 \n",
      " dense_2 (Dense)             (None, 15)                390       \n",
      "                                                                 \n",
      " dense_3 (Dense)             (None, 1)                 16        \n",
      "                                                                 \n",
      "=================================================================\n",
      "Total params: 1761 (6.88 KB)\n",
      "Trainable params: 1761 (6.88 KB)\n",
      "Non-trainable params: 0 (0.00 Byte)\n",
      "_________________________________________________________________\n"
     ]
    }
   ],
   "source": [
    "model.summary()"
   ]
  },
  {
   "cell_type": "code",
   "execution_count": 29,
   "metadata": {
    "execution": {
     "iopub.execute_input": "2024-07-10T12:25:00.475119Z",
     "iopub.status.busy": "2024-07-10T12:25:00.474083Z",
     "iopub.status.idle": "2024-07-10T12:25:00.481460Z",
     "shell.execute_reply": "2024-07-10T12:25:00.479859Z",
     "shell.execute_reply.started": "2024-07-10T12:25:00.475061Z"
    }
   },
   "outputs": [],
   "source": [
    "[layer1, layer2, layer3, layer4] = model.layers"
   ]
  },
  {
   "cell_type": "code",
   "execution_count": 30,
   "metadata": {
    "execution": {
     "iopub.execute_input": "2024-07-10T12:25:01.032095Z",
     "iopub.status.busy": "2024-07-10T12:25:01.031572Z",
     "iopub.status.idle": "2024-07-10T12:25:01.044822Z",
     "shell.execute_reply": "2024-07-10T12:25:01.043070Z",
     "shell.execute_reply.started": "2024-07-10T12:25:01.032057Z"
    }
   },
   "outputs": [
    {
     "name": "stdout",
     "output_type": "stream",
     "text": [
      "W1 shape = (12, 35), b1 shape = (35,)\n",
      "W2 shape = (35, 25), b2 shape = (25,)\n",
      "W3 shape = (25, 15), b3 shape = (15,)\n",
      "W4 shape = (15, 1), b4 shape = (1,)\n"
     ]
    }
   ],
   "source": [
    "#### Examine Weights shapes\n",
    "W1,b1 = layer1.get_weights()\n",
    "W2,b2 = layer2.get_weights()\n",
    "W3,b3 = layer3.get_weights()\n",
    "W4,b4 = layer4.get_weights()\n",
    "print(f\"W1 shape = {W1.shape}, b1 shape = {b1.shape}\")\n",
    "print(f\"W2 shape = {W2.shape}, b2 shape = {b2.shape}\")\n",
    "print(f\"W3 shape = {W3.shape}, b3 shape = {b3.shape}\")\n",
    "print(f\"W4 shape = {W4.shape}, b4 shape = {b4.shape}\")"
   ]
  },
  {
   "cell_type": "code",
   "execution_count": 31,
   "metadata": {
    "execution": {
     "iopub.execute_input": "2024-07-10T12:27:47.252030Z",
     "iopub.status.busy": "2024-07-10T12:27:47.251592Z"
    }
   },
   "outputs": [
    {
     "name": "stdout",
     "output_type": "stream",
     "text": [
      "Epoch 1/50\n",
      "147143/147143 [==============================] - 352s 2ms/step - loss: 0.3697 - Accuracy: 0.8123 - val_loss: 0.3659 - val_Accuracy: 0.8146\n",
      "Epoch 2/50\n",
      "147143/147143 [==============================] - 338s 2ms/step - loss: 0.3655 - Accuracy: 0.8149 - val_loss: 0.3646 - val_Accuracy: 0.8153\n",
      "Epoch 3/50\n",
      "147143/147143 [==============================] - 325s 2ms/step - loss: 0.3644 - Accuracy: 0.8155 - val_loss: 0.3635 - val_Accuracy: 0.8159\n",
      "Epoch 4/50\n",
      "147143/147143 [==============================] - 323s 2ms/step - loss: 0.3632 - Accuracy: 0.8162 - val_loss: 0.3623 - val_Accuracy: 0.8165\n",
      "Epoch 5/50\n",
      "147143/147143 [==============================] - 418s 3ms/step - loss: 0.3620 - Accuracy: 0.8169 - val_loss: 0.3612 - val_Accuracy: 0.8174\n",
      "Epoch 6/50\n",
      "147143/147143 [==============================] - 375s 3ms/step - loss: 0.3611 - Accuracy: 0.8174 - val_loss: 0.3607 - val_Accuracy: 0.8177\n",
      "Epoch 7/50\n",
      "147143/147143 [==============================] - 383s 3ms/step - loss: 0.3603 - Accuracy: 0.8179 - val_loss: 0.3596 - val_Accuracy: 0.8183\n",
      "Epoch 8/50\n",
      "147143/147143 [==============================] - 379s 3ms/step - loss: 0.3596 - Accuracy: 0.8185 - val_loss: 0.3590 - val_Accuracy: 0.8190\n",
      "Epoch 9/50\n",
      "147143/147143 [==============================] - 367s 2ms/step - loss: 0.3588 - Accuracy: 0.8192 - val_loss: 0.3579 - val_Accuracy: 0.8199\n",
      "Epoch 10/50\n",
      "147143/147143 [==============================] - 321s 2ms/step - loss: 0.3579 - Accuracy: 0.8201 - val_loss: 0.3572 - val_Accuracy: 0.8208\n",
      "Epoch 11/50\n",
      "147143/147143 [==============================] - 401s 3ms/step - loss: 0.3570 - Accuracy: 0.8209 - val_loss: 0.3565 - val_Accuracy: 0.8209\n",
      "Epoch 12/50\n",
      "147143/147143 [==============================] - 327s 2ms/step - loss: 0.3563 - Accuracy: 0.8215 - val_loss: 0.3554 - val_Accuracy: 0.8221\n",
      "Epoch 13/50\n",
      "147143/147143 [==============================] - 339s 2ms/step - loss: 0.3557 - Accuracy: 0.8219 - val_loss: 0.3554 - val_Accuracy: 0.8222\n",
      "Epoch 14/50\n",
      "147143/147143 [==============================] - 364s 2ms/step - loss: 0.3550 - Accuracy: 0.8223 - val_loss: 0.3552 - val_Accuracy: 0.8221\n",
      "Epoch 15/50\n",
      "147143/147143 [==============================] - 370s 3ms/step - loss: 0.3542 - Accuracy: 0.8229 - val_loss: 0.3533 - val_Accuracy: 0.8234\n",
      "Epoch 16/50\n",
      "147143/147143 [==============================] - 399s 3ms/step - loss: 0.3535 - Accuracy: 0.8233 - val_loss: 0.3534 - val_Accuracy: 0.8233\n",
      "Epoch 17/50\n",
      "147143/147143 [==============================] - 1105s 8ms/step - loss: 0.3528 - Accuracy: 0.8237 - val_loss: 0.3523 - val_Accuracy: 0.8240\n",
      "Epoch 18/50\n",
      "147143/147143 [==============================] - 1194s 8ms/step - loss: 0.3524 - Accuracy: 0.8240 - val_loss: 0.3522 - val_Accuracy: 0.8241\n",
      "Epoch 19/50\n",
      "147143/147143 [==============================] - 317s 2ms/step - loss: 0.3520 - Accuracy: 0.8242 - val_loss: 0.3521 - val_Accuracy: 0.8240\n",
      "Epoch 20/50\n",
      "147143/147143 [==============================] - 316s 2ms/step - loss: 0.3516 - Accuracy: 0.8244 - val_loss: 0.3512 - val_Accuracy: 0.8246\n",
      "Epoch 21/50\n",
      "147143/147143 [==============================] - 316s 2ms/step - loss: 0.3512 - Accuracy: 0.8245 - val_loss: 0.3506 - val_Accuracy: 0.8248\n",
      "Epoch 22/50\n",
      "147143/147143 [==============================] - 368s 2ms/step - loss: 0.3508 - Accuracy: 0.8247 - val_loss: 0.3509 - val_Accuracy: 0.8245\n",
      "Epoch 23/50\n",
      "147143/147143 [==============================] - 342s 2ms/step - loss: 0.3503 - Accuracy: 0.8248 - val_loss: 0.3501 - val_Accuracy: 0.8249\n",
      "Epoch 24/50\n",
      "147143/147143 [==============================] - 312s 2ms/step - loss: 0.3495 - Accuracy: 0.8250 - val_loss: 0.3492 - val_Accuracy: 0.8249\n",
      "Epoch 25/50\n",
      "147143/147143 [==============================] - 340s 2ms/step - loss: 0.3488 - Accuracy: 0.8251 - val_loss: 0.3483 - val_Accuracy: 0.8254\n",
      "Epoch 26/50\n",
      "147143/147143 [==============================] - 346s 2ms/step - loss: 0.3481 - Accuracy: 0.8253 - val_loss: 0.3474 - val_Accuracy: 0.8253\n",
      "Epoch 27/50\n",
      "147143/147143 [==============================] - 393s 3ms/step - loss: 0.3474 - Accuracy: 0.8255 - val_loss: 0.3473 - val_Accuracy: 0.8258\n",
      "Epoch 28/50\n",
      "147143/147143 [==============================] - 358s 2ms/step - loss: 0.3469 - Accuracy: 0.8258 - val_loss: 0.3463 - val_Accuracy: 0.8260\n",
      "Epoch 29/50\n",
      "147143/147143 [==============================] - 1031s 7ms/step - loss: 0.3464 - Accuracy: 0.8260 - val_loss: 0.3462 - val_Accuracy: 0.8260\n",
      "Epoch 30/50\n",
      "147143/147143 [==============================] - 345s 2ms/step - loss: 0.3460 - Accuracy: 0.8262 - val_loss: 0.3452 - val_Accuracy: 0.8265\n",
      "Epoch 31/50\n",
      "147143/147143 [==============================] - 346s 2ms/step - loss: 0.3454 - Accuracy: 0.8264 - val_loss: 0.3448 - val_Accuracy: 0.8267\n",
      "Epoch 32/50\n",
      "147143/147143 [==============================] - 347s 2ms/step - loss: 0.3449 - Accuracy: 0.8267 - val_loss: 0.3446 - val_Accuracy: 0.8269\n",
      "Epoch 33/50\n",
      "147143/147143 [==============================] - 347s 2ms/step - loss: 0.3445 - Accuracy: 0.8269 - val_loss: 0.3454 - val_Accuracy: 0.8262\n",
      "Epoch 34/50\n",
      "147143/147143 [==============================] - 348s 2ms/step - loss: 0.3440 - Accuracy: 0.8272 - val_loss: 0.3435 - val_Accuracy: 0.8273\n",
      "Epoch 35/50\n",
      "147143/147143 [==============================] - 352s 2ms/step - loss: 0.3435 - Accuracy: 0.8273 - val_loss: 0.3427 - val_Accuracy: 0.8278\n",
      "Epoch 36/50\n",
      "147143/147143 [==============================] - 352s 2ms/step - loss: 0.3430 - Accuracy: 0.8275 - val_loss: 0.3429 - val_Accuracy: 0.8274\n",
      "Epoch 37/50\n",
      "147143/147143 [==============================] - 354s 2ms/step - loss: 0.3425 - Accuracy: 0.8277 - val_loss: 0.3420 - val_Accuracy: 0.8279\n",
      "Epoch 38/50\n",
      "147143/147143 [==============================] - 363s 2ms/step - loss: 0.3421 - Accuracy: 0.8278 - val_loss: 0.3417 - val_Accuracy: 0.8282\n",
      "Epoch 39/50\n",
      "147143/147143 [==============================] - 355s 2ms/step - loss: 0.3417 - Accuracy: 0.8279 - val_loss: 0.3411 - val_Accuracy: 0.8284\n",
      "Epoch 40/50\n",
      "147143/147143 [==============================] - 367s 2ms/step - loss: 0.3413 - Accuracy: 0.8281 - val_loss: 0.3411 - val_Accuracy: 0.8280\n",
      "Epoch 41/50\n",
      "147143/147143 [==============================] - 357s 2ms/step - loss: 0.3409 - Accuracy: 0.8283 - val_loss: 0.3408 - val_Accuracy: 0.8284\n",
      "Epoch 42/50\n",
      "147143/147143 [==============================] - 343s 2ms/step - loss: 0.3406 - Accuracy: 0.8285 - val_loss: 0.3403 - val_Accuracy: 0.8287\n",
      "Epoch 43/50\n",
      "147143/147143 [==============================] - 340s 2ms/step - loss: 0.3402 - Accuracy: 0.8286 - val_loss: 0.3399 - val_Accuracy: 0.8288\n",
      "Epoch 44/50\n",
      "147143/147143 [==============================] - 350s 2ms/step - loss: 0.3399 - Accuracy: 0.8288 - val_loss: 0.3400 - val_Accuracy: 0.8286\n",
      "Epoch 45/50\n",
      "147143/147143 [==============================] - 312s 2ms/step - loss: 0.3396 - Accuracy: 0.8289 - val_loss: 0.3444 - val_Accuracy: 0.8274\n",
      "Epoch 46/50\n",
      "147143/147143 [==============================] - 295s 2ms/step - loss: 0.3394 - Accuracy: 0.8290 - val_loss: 0.3386 - val_Accuracy: 0.8293\n",
      "Epoch 47/50\n",
      "147143/147143 [==============================] - 380s 3ms/step - loss: 0.3392 - Accuracy: 0.8291 - val_loss: 0.3385 - val_Accuracy: 0.8294\n",
      "Epoch 48/50\n",
      "147143/147143 [==============================] - 417s 3ms/step - loss: 0.3390 - Accuracy: 0.8292 - val_loss: 0.3399 - val_Accuracy: 0.8290\n",
      "Epoch 49/50\n",
      "147143/147143 [==============================] - 362s 2ms/step - loss: 0.3388 - Accuracy: 0.8293 - val_loss: 0.3387 - val_Accuracy: 0.8290\n",
      "Epoch 50/50\n",
      "147143/147143 [==============================] - 382s 3ms/step - loss: 0.3386 - Accuracy: 0.8294 - val_loss: 0.3385 - val_Accuracy: 0.8292\n"
     ]
    }
   ],
   "source": [
    "model.compile(\n",
    "    loss=tf.keras.losses.BinaryCrossentropy(),\n",
    "    optimizer=tf.keras.optimizers.Adam(0.001),\n",
    "    metrics=['Accuracy'],\n",
    ")\n",
    "\n",
    "history = model.fit(\n",
    "    X_train,\n",
    "    y_train,\n",
    "    batch_size=96,\n",
    "    epochs=50,\n",
    "    validation_data=(X_test, y_test),\n",
    "    \n",
    ")"
   ]
  },
  {
   "cell_type": "code",
   "execution_count": 33,
   "metadata": {},
   "outputs": [
    {
     "data": {
      "image/png": "[encoded data removed]",
      "text/plain": [
       "<Figure size 800x800 with 2 Axes>"
      ]
     },
     "metadata": {},
     "output_type": "display_data"
    }
   ],
   "source": [
    "acc = history.history['Accuracy']\n",
    "val_acc = history.history['val_Accuracy']\n",
    "\n",
    "loss = history.history['loss']\n",
    "val_loss = history.history['val_loss']\n",
    "\n",
    "epochs_range = range(50)\n",
    "\n",
    "plt.figure(figsize=(8, 8))\n",
    "plt.subplot(1, 2, 1)\n",
    "plt.plot(epochs_range, acc, label='Training Accuracy')\n",
    "plt.plot(epochs_range, val_acc, label='Validation Accuracy')\n",
    "plt.legend(loc='lower right')\n",
    "plt.title('Training and Validation Accuracy')\n",
    "\n",
    "plt.subplot(1, 2, 2)\n",
    "plt.plot(epochs_range, loss, label='Training Loss')\n",
    "plt.plot(epochs_range, val_loss, label='Validation Loss')\n",
    "plt.legend(loc='upper right')\n",
    "plt.title('Training and Validation Loss')\n",
    "plt.show()"
   ]
  },
  {
   "cell_type": "code",
   "execution_count": 38,
   "metadata": {},
   "outputs": [],
   "source": [
    "X_test = insurance_data_test[['Age', 'Driving_License', \n",
    "                              'Region_Code', 'Previously_Insured',\n",
    "                              'Annual_Premium', \n",
    "                              'Policy_Sales_Channel', 'Vintage', \n",
    "                              'Vehicle_Damages',\n",
    "                              'Vehicle_Age_1-2 Year',\n",
    "                              'Vehicle_Age_< 1 Year',\n",
    "                              'Vehicle_Age_> 2 Years', \n",
    "                              'Gender_Male']]"
   ]
  },
  {
   "cell_type": "code",
   "execution_count": 41,
   "metadata": {},
   "outputs": [],
   "source": [
    "X_test_scaled = scaler.fit_transform(X_test)"
   ]
  },
  {
   "cell_type": "code",
   "execution_count": 43,
   "metadata": {},
   "outputs": [
    {
     "data": {
      "text/plain": [
       "(7669866, 12)"
      ]
     },
     "execution_count": 43,
     "metadata": {},
     "output_type": "execute_result"
    }
   ],
   "source": [
    "X_test_scaled.shape"
   ]
  },
  {
   "cell_type": "code",
   "execution_count": 44,
   "metadata": {},
   "outputs": [
    {
     "name": "stdout",
     "output_type": "stream",
     "text": [
      "239684/239684 [==============================] - 341s 1ms/step\n"
     ]
    }
   ],
   "source": [
    "prediction = model.predict(X_test_scaled)"
   ]
  },
  {
   "cell_type": "code",
   "execution_count": 45,
   "metadata": {},
   "outputs": [
    {
     "data": {
      "text/plain": [
       "array([[0.55979526],\n",
       "       [0.9999997 ],\n",
       "       [0.63005084],\n",
       "       ...,\n",
       "       [0.00383412],\n",
       "       [0.4300397 ],\n",
       "       [0.03629122]], dtype=float32)"
      ]
     },
     "execution_count": 45,
     "metadata": {},
     "output_type": "execute_result"
    }
   ],
   "source": [
    "prediction"
   ]
  },
  {
   "cell_type": "code",
   "execution_count": 53,
   "metadata": {},
   "outputs": [],
   "source": [
    "submit = pd.read_csv('./kaggle/sample_submission/sample_submission.csv')\n",
    "submit.Response = prediction\n",
    "submit[['id', 'Response']].to_csv('./kaggle/working/neural_network.csv', index=False)"
   ]
  },
  {
   "cell_type": "code",
   "execution_count": 52,
   "metadata": {},
   "outputs": [
    {
     "data": {
      "text/plain": [
       "'def my_tf_round(X, decimals = 3):\\n    multiplier = tf.constant(10**decimals, dtype=X.dtype)\\n    return tf.math.round(X * multiplier) / multiplier'"
      ]
     },
     "execution_count": 52,
     "metadata": {},
     "output_type": "execute_result"
    }
   ],
   "source": [
    "\"\"\"def my_tf_round(X, decimals = 3):\n",
    "    multiplier = tf.constant(10**decimals, dtype=X.dtype)\n",
    "    return tf.math.round(X * multiplier) / multiplier\"\"\""
   ]
  },
  {
   "cell_type": "code",
   "execution_count": null,
   "metadata": {},
   "outputs": [],
   "source": []
  }
 ],
 "metadata": {
  "kaggle": {
   "accelerator": "none",
   "dataSources": [
    {
     "databundleVersionId": 8930475,
     "sourceId": 73291,
     "sourceType": "competition"
    }
   ],
   "dockerImageVersionId": 30732,
   "isGpuEnabled": false,
   "isInternetEnabled": true,
   "language": "python",
   "sourceType": "notebook"
  },
  "kernelspec": {
   "display_name": "Python 3 (ipykernel)",
   "language": "python",
   "name": "python3"
  },
  "language_info": {
   "codemirror_mode": {
    "name": "ipython",
    "version": 3
   },
   "file_extension": ".py",
   "mimetype": "text/x-python",
   "name": "python",
   "nbconvert_exporter": "python",
   "pygments_lexer": "ipython3",
   "version": "3.9.13"
  }
 },
 "nbformat": 4,
 "nbformat_minor": 4
}
