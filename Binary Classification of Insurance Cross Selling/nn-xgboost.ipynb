{
 "cells": [
  {
   "cell_type": "markdown",
   "metadata": {
    "_cell_guid": "b1076dfc-b9ad-4769-8c92-a6c4dae69d19",
    "_uuid": "8f2839f25d086af736a60e9eeb907d3b93b6e0e5"
   },
   "source": [
    "# Import Libraries"
   ]
  },
  {
   "cell_type": "code",
   "execution_count": 1,
   "metadata": {
    "execution": {
     "iopub.execute_input": "2024-07-16T13:55:10.866510Z",
     "iopub.status.busy": "2024-07-16T13:55:10.865451Z",
     "iopub.status.idle": "2024-07-16T13:55:13.389526Z",
     "shell.execute_reply": "2024-07-16T13:55:13.388408Z",
     "shell.execute_reply.started": "2024-07-16T13:55:10.866466Z"
    }
   },
   "outputs": [
    {
     "name": "stdout",
     "output_type": "stream",
     "text": [
      "Setup Complete\n"
     ]
    }
   ],
   "source": [
    "import pandas as pd\n",
    "import numpy as np\n",
    "pd.plotting.register_matplotlib_converters()\n",
    "import matplotlib.pyplot as plt\n",
    "%matplotlib inline\n",
    "import seaborn as sns\n",
    "print(\"Setup Complete\")"
   ]
  },
  {
   "cell_type": "markdown",
   "metadata": {},
   "source": [
    "### First thing we should do is to see our dataset and answer some questions "
   ]
  },
  {
   "cell_type": "code",
   "execution_count": 2,
   "metadata": {
    "execution": {
     "iopub.execute_input": "2024-07-16T13:55:13.391927Z",
     "iopub.status.busy": "2024-07-16T13:55:13.391432Z",
     "iopub.status.idle": "2024-07-16T13:55:36.823576Z",
     "shell.execute_reply": "2024-07-16T13:55:36.822635Z",
     "shell.execute_reply.started": "2024-07-16T13:55:13.391895Z"
    }
   },
   "outputs": [],
   "source": [
    "insurance_train_filepath = \"./kaggle/train/train.csv\"\n",
    "\n",
    "# Read the file into a variable insurance_data_train\n",
    "insurance_data_train = pd.read_csv(insurance_train_filepath, index_col=\"id\")"
   ]
  },
  {
   "cell_type": "code",
   "execution_count": 3,
   "metadata": {
    "execution": {
     "iopub.execute_input": "2024-07-16T13:55:36.825388Z",
     "iopub.status.busy": "2024-07-16T13:55:36.824991Z",
     "iopub.status.idle": "2024-07-16T13:55:51.366588Z",
     "shell.execute_reply": "2024-07-16T13:55:51.365303Z",
     "shell.execute_reply.started": "2024-07-16T13:55:36.825351Z"
    }
   },
   "outputs": [],
   "source": [
    "insurance_test_filepath = \"./kaggle/test/test.csv\"\n",
    "\n",
    "# Read the file into a variable insurance_data_train\n",
    "insurance_data_test = pd.read_csv(insurance_test_filepath)"
   ]
  },
  {
   "cell_type": "markdown",
   "metadata": {},
   "source": [
    "### The best start you need to do on your project is to see your dataset and the shape of it "
   ]
  },
  {
   "cell_type": "code",
   "execution_count": 4,
   "metadata": {
    "execution": {
     "iopub.execute_input": "2024-07-10T21:51:41.677647Z",
     "iopub.status.busy": "2024-07-10T21:51:41.677250Z",
     "iopub.status.idle": "2024-07-10T21:51:41.702508Z",
     "shell.execute_reply": "2024-07-10T21:51:41.701359Z",
     "shell.execute_reply.started": "2024-07-10T21:51:41.677616Z"
    }
   },
   "outputs": [
    {
     "data": {
      "text/html": [
       "<div>\n",
       "<style scoped>\n",
       "    .dataframe tbody tr th:only-of-type {\n",
       "        vertical-align: middle;\n",
       "    }\n",
       "\n",
       "    .dataframe tbody tr th {\n",
       "        vertical-align: top;\n",
       "    }\n",
       "\n",
       "    .dataframe thead th {\n",
       "        text-align: right;\n",
       "    }\n",
       "</style>\n",
       "<table border=\"1\" class=\"dataframe\">\n",
       "  <thead>\n",
       "    <tr style=\"text-align: right;\">\n",
       "      <th></th>\n",
       "      <th>Gender</th>\n",
       "      <th>Age</th>\n",
       "      <th>Driving_License</th>\n",
       "      <th>Region_Code</th>\n",
       "      <th>Previously_Insured</th>\n",
       "      <th>Vehicle_Age</th>\n",
       "      <th>Vehicle_Damage</th>\n",
       "      <th>Annual_Premium</th>\n",
       "      <th>Policy_Sales_Channel</th>\n",
       "      <th>Vintage</th>\n",
       "      <th>Response</th>\n",
       "    </tr>\n",
       "    <tr>\n",
       "      <th>id</th>\n",
       "      <th></th>\n",
       "      <th></th>\n",
       "      <th></th>\n",
       "      <th></th>\n",
       "      <th></th>\n",
       "      <th></th>\n",
       "      <th></th>\n",
       "      <th></th>\n",
       "      <th></th>\n",
       "      <th></th>\n",
       "      <th></th>\n",
       "    </tr>\n",
       "  </thead>\n",
       "  <tbody>\n",
       "    <tr>\n",
       "      <th>0</th>\n",
       "      <td>Male</td>\n",
       "      <td>21</td>\n",
       "      <td>1</td>\n",
       "      <td>35.0</td>\n",
       "      <td>0</td>\n",
       "      <td>1-2 Year</td>\n",
       "      <td>Yes</td>\n",
       "      <td>65101.0</td>\n",
       "      <td>124.0</td>\n",
       "      <td>187</td>\n",
       "      <td>0</td>\n",
       "    </tr>\n",
       "    <tr>\n",
       "      <th>1</th>\n",
       "      <td>Male</td>\n",
       "      <td>43</td>\n",
       "      <td>1</td>\n",
       "      <td>28.0</td>\n",
       "      <td>0</td>\n",
       "      <td>&gt; 2 Years</td>\n",
       "      <td>Yes</td>\n",
       "      <td>58911.0</td>\n",
       "      <td>26.0</td>\n",
       "      <td>288</td>\n",
       "      <td>1</td>\n",
       "    </tr>\n",
       "    <tr>\n",
       "      <th>2</th>\n",
       "      <td>Female</td>\n",
       "      <td>25</td>\n",
       "      <td>1</td>\n",
       "      <td>14.0</td>\n",
       "      <td>1</td>\n",
       "      <td>&lt; 1 Year</td>\n",
       "      <td>No</td>\n",
       "      <td>38043.0</td>\n",
       "      <td>152.0</td>\n",
       "      <td>254</td>\n",
       "      <td>0</td>\n",
       "    </tr>\n",
       "    <tr>\n",
       "      <th>3</th>\n",
       "      <td>Female</td>\n",
       "      <td>35</td>\n",
       "      <td>1</td>\n",
       "      <td>1.0</td>\n",
       "      <td>0</td>\n",
       "      <td>1-2 Year</td>\n",
       "      <td>Yes</td>\n",
       "      <td>2630.0</td>\n",
       "      <td>156.0</td>\n",
       "      <td>76</td>\n",
       "      <td>0</td>\n",
       "    </tr>\n",
       "    <tr>\n",
       "      <th>4</th>\n",
       "      <td>Female</td>\n",
       "      <td>36</td>\n",
       "      <td>1</td>\n",
       "      <td>15.0</td>\n",
       "      <td>1</td>\n",
       "      <td>1-2 Year</td>\n",
       "      <td>No</td>\n",
       "      <td>31951.0</td>\n",
       "      <td>152.0</td>\n",
       "      <td>294</td>\n",
       "      <td>0</td>\n",
       "    </tr>\n",
       "  </tbody>\n",
       "</table>\n",
       "</div>"
      ],
      "text/plain": [
       "    Gender  Age  Driving_License  Region_Code  Previously_Insured Vehicle_Age  \\\n",
       "id                                                                              \n",
       "0     Male   21                1         35.0                   0    1-2 Year   \n",
       "1     Male   43                1         28.0                   0   > 2 Years   \n",
       "2   Female   25                1         14.0                   1    < 1 Year   \n",
       "3   Female   35                1          1.0                   0    1-2 Year   \n",
       "4   Female   36                1         15.0                   1    1-2 Year   \n",
       "\n",
       "   Vehicle_Damage  Annual_Premium  Policy_Sales_Channel  Vintage  Response  \n",
       "id                                                                          \n",
       "0             Yes         65101.0                 124.0      187         0  \n",
       "1             Yes         58911.0                  26.0      288         1  \n",
       "2              No         38043.0                 152.0      254         0  \n",
       "3             Yes          2630.0                 156.0       76         0  \n",
       "4              No         31951.0                 152.0      294         0  "
      ]
     },
     "execution_count": 4,
     "metadata": {},
     "output_type": "execute_result"
    }
   ],
   "source": [
    "insurance_data_train.head()"
   ]
  },
  {
   "cell_type": "code",
   "execution_count": 5,
   "metadata": {
    "execution": {
     "iopub.execute_input": "2024-07-10T21:51:44.540482Z",
     "iopub.status.busy": "2024-07-10T21:51:44.540042Z",
     "iopub.status.idle": "2024-07-10T21:51:44.547572Z",
     "shell.execute_reply": "2024-07-10T21:51:44.546454Z",
     "shell.execute_reply.started": "2024-07-10T21:51:44.540444Z"
    }
   },
   "outputs": [
    {
     "data": {
      "text/plain": [
       "(11504798, 11)"
      ]
     },
     "execution_count": 5,
     "metadata": {},
     "output_type": "execute_result"
    }
   ],
   "source": [
    "insurance_data_train.shape"
   ]
  },
  {
   "cell_type": "code",
   "execution_count": 6,
   "metadata": {
    "execution": {
     "iopub.execute_input": "2024-07-10T21:51:44.750123Z",
     "iopub.status.busy": "2024-07-10T21:51:44.749722Z",
     "iopub.status.idle": "2024-07-10T21:51:44.773213Z",
     "shell.execute_reply": "2024-07-10T21:51:44.771814Z",
     "shell.execute_reply.started": "2024-07-10T21:51:44.750072Z"
    }
   },
   "outputs": [
    {
     "name": "stdout",
     "output_type": "stream",
     "text": [
      "<class 'pandas.core.frame.DataFrame'>\n",
      "Int64Index: 11504798 entries, 0 to 11504797\n",
      "Data columns (total 11 columns):\n",
      " #   Column                Dtype  \n",
      "---  ------                -----  \n",
      " 0   Gender                object \n",
      " 1   Age                   int64  \n",
      " 2   Driving_License       int64  \n",
      " 3   Region_Code           float64\n",
      " 4   Previously_Insured    int64  \n",
      " 5   Vehicle_Age           object \n",
      " 6   Vehicle_Damage        object \n",
      " 7   Annual_Premium        float64\n",
      " 8   Policy_Sales_Channel  float64\n",
      " 9   Vintage               int64  \n",
      " 10  Response              int64  \n",
      "dtypes: float64(3), int64(5), object(3)\n",
      "memory usage: 1.0+ GB\n"
     ]
    }
   ],
   "source": [
    "insurance_data_train.info()"
   ]
  },
  {
   "cell_type": "markdown",
   "metadata": {},
   "source": [
    "### It seems that there are some features which are categorical"
   ]
  },
  {
   "cell_type": "markdown",
   "metadata": {},
   "source": [
    "### Checking the missing values in this dataset "
   ]
  },
  {
   "cell_type": "code",
   "execution_count": 7,
   "metadata": {
    "execution": {
     "iopub.execute_input": "2024-07-10T21:51:48.136717Z",
     "iopub.status.busy": "2024-07-10T21:51:48.136295Z",
     "iopub.status.idle": "2024-07-10T21:51:49.818246Z",
     "shell.execute_reply": "2024-07-10T21:51:49.816983Z",
     "shell.execute_reply.started": "2024-07-10T21:51:48.136682Z"
    }
   },
   "outputs": [
    {
     "data": {
      "text/plain": [
       "Gender                  0\n",
       "Age                     0\n",
       "Driving_License         0\n",
       "Region_Code             0\n",
       "Previously_Insured      0\n",
       "Vehicle_Age             0\n",
       "Vehicle_Damage          0\n",
       "Annual_Premium          0\n",
       "Policy_Sales_Channel    0\n",
       "Vintage                 0\n",
       "Response                0\n",
       "dtype: int64"
      ]
     },
     "execution_count": 7,
     "metadata": {},
     "output_type": "execute_result"
    }
   ],
   "source": [
    "missing_values = insurance_data_train.isnull().sum()\n",
    "missing_values"
   ]
  },
  {
   "cell_type": "markdown",
   "metadata": {},
   "source": [
    "### Good! There are no missing values"
   ]
  },
  {
   "cell_type": "markdown",
   "metadata": {},
   "source": [
    "# Exploratory Data Analysis(EDA)"
   ]
  },
  {
   "cell_type": "code",
   "execution_count": 8,
   "metadata": {
    "execution": {
     "iopub.execute_input": "2024-07-10T21:51:50.957435Z",
     "iopub.status.busy": "2024-07-10T21:51:50.957011Z",
     "iopub.status.idle": "2024-07-10T21:51:50.964879Z",
     "shell.execute_reply": "2024-07-10T21:51:50.963778Z",
     "shell.execute_reply.started": "2024-07-10T21:51:50.957401Z"
    }
   },
   "outputs": [
    {
     "data": {
      "text/plain": [
       "Index(['Gender', 'Age', 'Driving_License', 'Region_Code', 'Previously_Insured',\n",
       "       'Vehicle_Age', 'Vehicle_Damage', 'Annual_Premium',\n",
       "       'Policy_Sales_Channel', 'Vintage', 'Response'],\n",
       "      dtype='object')"
      ]
     },
     "execution_count": 8,
     "metadata": {},
     "output_type": "execute_result"
    }
   ],
   "source": [
    "insurance_data_train.columns"
   ]
  },
  {
   "cell_type": "code",
   "execution_count": 9,
   "metadata": {
    "execution": {
     "iopub.execute_input": "2024-07-09T16:00:52.626403Z",
     "iopub.status.busy": "2024-07-09T16:00:52.625633Z",
     "iopub.status.idle": "2024-07-09T16:00:58.497019Z",
     "shell.execute_reply": "2024-07-09T16:00:58.495544Z",
     "shell.execute_reply.started": "2024-07-09T16:00:52.626188Z"
    }
   },
   "outputs": [
    {
     "data": {
      "image/png": "[encoded data removed]",
      "text/plain": [
       "<Figure size 700x400 with 1 Axes>"
      ]
     },
     "metadata": {},
     "output_type": "display_data"
    }
   ],
   "source": [
    "plt.figure(figsize=(7, 4))\n",
    "sns.boxplot(x=insurance_data_train['Annual_Premium'])\n",
    "plt.title('Distribution of Annual_Premium')\n",
    "plt.xlabel('Annual_Premium')\n",
    "plt.ylabel('Frequency')\n",
    "plt.show()"
   ]
  },
  {
   "cell_type": "code",
   "execution_count": 10,
   "metadata": {
    "execution": {
     "iopub.execute_input": "2024-07-07T12:14:10.490371Z",
     "iopub.status.busy": "2024-07-07T12:14:10.489993Z",
     "iopub.status.idle": "2024-07-07T12:14:19.159967Z",
     "shell.execute_reply": "2024-07-07T12:14:19.158803Z",
     "shell.execute_reply.started": "2024-07-07T12:14:10.490341Z"
    }
   },
   "outputs": [
    {
     "data": {
      "image/png": "[encoded data removed]",
      "text/plain": [
       "<Figure size 1000x600 with 1 Axes>"
      ]
     },
     "metadata": {},
     "output_type": "display_data"
    }
   ],
   "source": [
    "plt.figure(figsize=(10, 6))\n",
    "sns.histplot(insurance_data_train['Age'], kde=False, bins=10)\n",
    "plt.title('Distribution of Age')\n",
    "plt.xlabel('Age')\n",
    "plt.ylabel('Frequency')\n",
    "plt.show()"
   ]
  },
  {
   "cell_type": "code",
   "execution_count": 11,
   "metadata": {
    "execution": {
     "iopub.execute_input": "2024-07-07T12:14:30.053155Z",
     "iopub.status.busy": "2024-07-07T12:14:30.052770Z",
     "iopub.status.idle": "2024-07-07T12:14:39.084568Z",
     "shell.execute_reply": "2024-07-07T12:14:39.083439Z",
     "shell.execute_reply.started": "2024-07-07T12:14:30.053125Z"
    }
   },
   "outputs": [
    {
     "data": {
      "image/png": "[encoded data removed]",
      "text/plain": [
       "<Figure size 1000x600 with 1 Axes>"
      ]
     },
     "metadata": {},
     "output_type": "display_data"
    }
   ],
   "source": [
    "plt.figure(figsize=(10, 6))\n",
    "sns.histplot(insurance_data_train['Region_Code'], kde=False, bins=12)\n",
    "plt.title('Distribution of Region_Code')\n",
    "plt.xlabel('Region_Code')\n",
    "plt.ylabel('Frequency')\n",
    "plt.show()"
   ]
  },
  {
   "cell_type": "code",
   "execution_count": 12,
   "metadata": {
    "execution": {
     "iopub.execute_input": "2024-07-07T12:14:44.516993Z",
     "iopub.status.busy": "2024-07-07T12:14:44.516052Z",
     "iopub.status.idle": "2024-07-07T12:15:02.510609Z",
     "shell.execute_reply": "2024-07-07T12:15:02.509384Z",
     "shell.execute_reply.started": "2024-07-07T12:14:44.516957Z"
    }
   },
   "outputs": [
    {
     "data": {
      "image/png": "[encoded data removed]",
      "text/plain": [
       "<Figure size 1000x600 with 1 Axes>"
      ]
     },
     "metadata": {},
     "output_type": "display_data"
    }
   ],
   "source": [
    "plt.figure(figsize=(10, 6))\n",
    "sns.histplot(insurance_data_train['Vehicle_Age'], kde=False, bins=10)\n",
    "plt.title('Distribution of Vehicle_Age')\n",
    "plt.xlabel('Vehicle_Age')\n",
    "plt.ylabel('Frequency')\n",
    "plt.show()"
   ]
  },
  {
   "cell_type": "code",
   "execution_count": 13,
   "metadata": {
    "execution": {
     "iopub.execute_input": "2024-07-07T12:15:19.993395Z",
     "iopub.status.busy": "2024-07-07T12:15:19.993030Z",
     "iopub.status.idle": "2024-07-07T12:15:20.253417Z",
     "shell.execute_reply": "2024-07-07T12:15:20.251986Z",
     "shell.execute_reply.started": "2024-07-07T12:15:19.993368Z"
    }
   },
   "outputs": [
    {
     "data": {
      "text/plain": [
       "Text(0.5, 1.0, 'Checking Imbalance in Training Data Or Response')"
      ]
     },
     "execution_count": 13,
     "metadata": {},
     "output_type": "execute_result"
    },
    {
     "data": {
      "text/plain": [
       "<Figure size 600x600 with 0 Axes>"
      ]
     },
     "metadata": {},
     "output_type": "display_data"
    },
    {
     "data": {
      "image/png": "[encoded data removed]",
      "text/plain": [
       "<Figure size 640x480 with 1 Axes>"
      ]
     },
     "metadata": {},
     "output_type": "display_data"
    }
   ],
   "source": [
    "response_data = insurance_data_train['Response'].value_counts()\n",
    "plt.figure(figsize=(6,6))\n",
    "fig, ax = plt.subplots()\n",
    "ax.pie(response_data, labels = [0,1])\n",
    "ax.set_title('Checking Imbalance in Training Data Or Response')"
   ]
  },
  {
   "cell_type": "markdown",
   "metadata": {},
   "source": [
    "### It seems that the data is imbalanced "
   ]
  },
  {
   "cell_type": "markdown",
   "metadata": {},
   "source": [
    "# Feature Engineering"
   ]
  },
  {
   "cell_type": "markdown",
   "metadata": {},
   "source": [
    "### Handle Categorical Data"
   ]
  },
  {
   "cell_type": "markdown",
   "metadata": {},
   "source": [
    "### For Training"
   ]
  },
  {
   "cell_type": "code",
   "execution_count": 9,
   "metadata": {
    "execution": {
     "iopub.execute_input": "2024-07-16T13:56:04.355630Z",
     "iopub.status.busy": "2024-07-16T13:56:04.355178Z",
     "iopub.status.idle": "2024-07-16T13:56:07.990669Z",
     "shell.execute_reply": "2024-07-16T13:56:07.989516Z",
     "shell.execute_reply.started": "2024-07-16T13:56:04.355580Z"
    }
   },
   "outputs": [],
   "source": [
    "insurance_data_train['Vehicle_Age'] = insurance_data_train['Vehicle_Age'].astype('category')\n",
    "insurance_data_train = pd.get_dummies(insurance_data_train, columns=['Vehicle_Age'])\n",
    "#insurance_data_train.head()"
   ]
  },
  {
   "cell_type": "markdown",
   "metadata": {},
   "source": [
    "### For Testing "
   ]
  },
  {
   "cell_type": "code",
   "execution_count": 10,
   "metadata": {
    "execution": {
     "iopub.execute_input": "2024-07-16T13:56:09.089677Z",
     "iopub.status.busy": "2024-07-16T13:56:09.088893Z",
     "iopub.status.idle": "2024-07-16T13:56:11.474461Z",
     "shell.execute_reply": "2024-07-16T13:56:11.473232Z",
     "shell.execute_reply.started": "2024-07-16T13:56:09.089638Z"
    }
   },
   "outputs": [],
   "source": [
    "insurance_data_test['Vehicle_Age'] = insurance_data_test['Vehicle_Age'].astype('category')\n",
    "insurance_data_test = pd.get_dummies(insurance_data_test, columns=['Vehicle_Age'])\n",
    "#insurance_data_test.head()"
   ]
  },
  {
   "cell_type": "code",
   "execution_count": 11,
   "metadata": {
    "execution": {
     "iopub.execute_input": "2024-07-16T13:56:12.126384Z",
     "iopub.status.busy": "2024-07-16T13:56:12.125986Z",
     "iopub.status.idle": "2024-07-16T13:56:12.131904Z",
     "shell.execute_reply": "2024-07-16T13:56:12.130634Z",
     "shell.execute_reply.started": "2024-07-16T13:56:12.126356Z"
    }
   },
   "outputs": [],
   "source": [
    "def vehicle_damage(Vehicle_Damage):\n",
    "    if Vehicle_Damage == 'Yes':\n",
    "        return 1\n",
    "    return 0"
   ]
  },
  {
   "cell_type": "code",
   "execution_count": 12,
   "metadata": {
    "execution": {
     "iopub.execute_input": "2024-07-16T13:56:12.601771Z",
     "iopub.status.busy": "2024-07-16T13:56:12.600966Z",
     "iopub.status.idle": "2024-07-16T13:56:21.979374Z",
     "shell.execute_reply": "2024-07-16T13:56:21.978449Z",
     "shell.execute_reply.started": "2024-07-16T13:56:12.601736Z"
    }
   },
   "outputs": [],
   "source": [
    "insurance_data_train['Vehicle_Damages'] = insurance_data_train['Vehicle_Damage'].apply(vehicle_damage)\n",
    "insurance_data_train.drop(['Vehicle_Damage'],axis=1, inplace=True)"
   ]
  },
  {
   "cell_type": "code",
   "execution_count": 13,
   "metadata": {
    "execution": {
     "iopub.execute_input": "2024-07-16T13:56:43.482991Z",
     "iopub.status.busy": "2024-07-16T13:56:43.481803Z",
     "iopub.status.idle": "2024-07-16T13:56:49.599753Z",
     "shell.execute_reply": "2024-07-16T13:56:49.598778Z",
     "shell.execute_reply.started": "2024-07-16T13:56:43.482951Z"
    }
   },
   "outputs": [],
   "source": [
    "insurance_data_test['Vehicle_Damages'] = insurance_data_test['Vehicle_Damage'].apply(vehicle_damage)\n",
    "insurance_data_test.drop(['Vehicle_Damage'],axis=1, inplace=True)"
   ]
  },
  {
   "cell_type": "code",
   "execution_count": 14,
   "metadata": {
    "execution": {
     "iopub.execute_input": "2024-07-16T13:56:52.475532Z",
     "iopub.status.busy": "2024-07-16T13:56:52.475107Z",
     "iopub.status.idle": "2024-07-16T13:56:56.711126Z",
     "shell.execute_reply": "2024-07-16T13:56:56.709877Z",
     "shell.execute_reply.started": "2024-07-16T13:56:52.475499Z"
    }
   },
   "outputs": [],
   "source": [
    "insurance_data_test['Gender'] = insurance_data_test['Gender'].astype('category')\n",
    "insurance_data_test = pd.get_dummies(insurance_data_test, columns=['Gender'],drop_first=True)\n",
    "\n",
    "insurance_data_train['Gender'] = insurance_data_train['Gender'].astype('category')\n",
    "insurance_data_train = pd.get_dummies(insurance_data_train, columns=['Gender'],drop_first=True)"
   ]
  },
  {
   "cell_type": "code",
   "execution_count": 15,
   "metadata": {},
   "outputs": [
    {
     "data": {
      "text/plain": [
       "Index(['Age', 'Driving_License', 'Region_Code', 'Previously_Insured',\n",
       "       'Annual_Premium', 'Policy_Sales_Channel', 'Vintage', 'Response',\n",
       "       'Vehicle_Age_1-2 Year', 'Vehicle_Age_< 1 Year', 'Vehicle_Age_> 2 Years',\n",
       "       'Vehicle_Damages', 'Gender_Male'],\n",
       "      dtype='object')"
      ]
     },
     "execution_count": 15,
     "metadata": {},
     "output_type": "execute_result"
    }
   ],
   "source": [
    "insurance_data_train.columns"
   ]
  },
  {
   "cell_type": "code",
   "execution_count": 16,
   "metadata": {},
   "outputs": [
    {
     "data": {
      "text/plain": [
       "(11504798, 13)"
      ]
     },
     "execution_count": 16,
     "metadata": {},
     "output_type": "execute_result"
    }
   ],
   "source": [
    "insurance_data_train.shape"
   ]
  },
  {
   "cell_type": "code",
   "execution_count": 17,
   "metadata": {},
   "outputs": [],
   "source": [
    "feature_names = ['Age', 'Driving_License', 'Region_Code', 'Previously_Insured',\n",
    "       'Annual_Premium', 'Policy_Sales_Channel', 'Vintage', \n",
    "       'Vehicle_Age_1-2 Year', 'Vehicle_Age_insurance_data_train< 1 Year', 'Vehicle_Age_> 2 Years',\n",
    "       'Vehicle_Damages', 'Gender_Male']"
   ]
  },
  {
   "cell_type": "code",
   "execution_count": 18,
   "metadata": {},
   "outputs": [
    {
     "name": "stdout",
     "output_type": "stream",
     "text": [
      "('Age', 293271.28812428145)\n",
      "('Driving_License', 4025.178506460645)\n",
      "('Region_Code', 0.12830152590658395)\n",
      "('Previously_Insured', 88996.60370746309)\n",
      "('Annual_Premium', 1305.4628934207526)\n",
      "('Policy_Sales_Channel', 157079.7014033858)\n",
      "('Vintage', 1046.1763298323272)\n",
      "('Vehicle_Age_1-2 Year', 35178.44077157056)\n",
      "('Vehicle_Age_insurance_data_train< 1 Year', 279320.9511783299)\n",
      "('Vehicle_Age_> 2 Years', 356087.42933259165)\n",
      "('Vehicle_Damages', 23752.45521588172)\n",
      "('Gender_Male', 109251.04244236628)\n"
     ]
    }
   ],
   "source": [
    "from sklearn.feature_selection import f_classif\n",
    "f_value = f_classif(insurance_data_train.iloc[:, 0:-1], insurance_data_train.iloc[:,-1])\n",
    "\n",
    "# Print the name and F-value of each feature\n",
    "for feature in zip(feature_names, f_value[0]):\n",
    "    print(feature)\n"
   ]
  },
  {
   "cell_type": "code",
   "execution_count": 19,
   "metadata": {},
   "outputs": [
    {
     "data": {
      "image/png": "[encoded data removed]",
      "text/plain": [
       "<Figure size 400x400 with 1 Axes>"
      ]
     },
     "metadata": {},
     "output_type": "display_data"
    }
   ],
   "source": [
    "plt.figure(figsize=(4,4))\n",
    "plt.bar(x=feature_names, height=f_value[0], color='tomato')\n",
    "plt.xticks(rotation='vertical')\n",
    "plt.ylabel('F-value')\n",
    "plt.title('F-value Comparison')\n",
    "plt.show()"
   ]
  },
  {
   "cell_type": "markdown",
   "metadata": {},
   "source": [
    "### It seems that the ONLY features that correlated to the target are [Age,Previously_Insured, Policy_Sales_Channel,Vehicle_Age_insurance_data_train< 1 Year , Vehicle_Age_> 2 Years,  Gender_Male]"
   ]
  },
  {
   "cell_type": "markdown",
   "metadata": {},
   "source": [
    "### Split the dataset"
   ]
  },
  {
   "cell_type": "code",
   "execution_count": 17,
   "metadata": {},
   "outputs": [
    {
     "data": {
      "text/html": [
       "<div>\n",
       "<style scoped>\n",
       "    .dataframe tbody tr th:only-of-type {\n",
       "        vertical-align: middle;\n",
       "    }\n",
       "\n",
       "    .dataframe tbody tr th {\n",
       "        vertical-align: top;\n",
       "    }\n",
       "\n",
       "    .dataframe thead th {\n",
       "        text-align: right;\n",
       "    }\n",
       "</style>\n",
       "<table border=\"1\" class=\"dataframe\">\n",
       "  <thead>\n",
       "    <tr style=\"text-align: right;\">\n",
       "      <th></th>\n",
       "      <th>Age</th>\n",
       "      <th>Driving_License</th>\n",
       "      <th>Region_Code</th>\n",
       "      <th>Previously_Insured</th>\n",
       "      <th>Annual_Premium</th>\n",
       "      <th>Policy_Sales_Channel</th>\n",
       "      <th>Vintage</th>\n",
       "      <th>Response</th>\n",
       "      <th>Vehicle_Age_1-2 Year</th>\n",
       "      <th>Vehicle_Age_&lt; 1 Year</th>\n",
       "      <th>Vehicle_Age_&gt; 2 Years</th>\n",
       "      <th>Vehicle_Damages</th>\n",
       "      <th>Gender_Male</th>\n",
       "    </tr>\n",
       "    <tr>\n",
       "      <th>id</th>\n",
       "      <th></th>\n",
       "      <th></th>\n",
       "      <th></th>\n",
       "      <th></th>\n",
       "      <th></th>\n",
       "      <th></th>\n",
       "      <th></th>\n",
       "      <th></th>\n",
       "      <th></th>\n",
       "      <th></th>\n",
       "      <th></th>\n",
       "      <th></th>\n",
       "      <th></th>\n",
       "    </tr>\n",
       "  </thead>\n",
       "  <tbody>\n",
       "    <tr>\n",
       "      <th>0</th>\n",
       "      <td>21</td>\n",
       "      <td>1</td>\n",
       "      <td>35.0</td>\n",
       "      <td>0</td>\n",
       "      <td>65101.0</td>\n",
       "      <td>124.0</td>\n",
       "      <td>187</td>\n",
       "      <td>0</td>\n",
       "      <td>1</td>\n",
       "      <td>0</td>\n",
       "      <td>0</td>\n",
       "      <td>1</td>\n",
       "      <td>1</td>\n",
       "    </tr>\n",
       "    <tr>\n",
       "      <th>1</th>\n",
       "      <td>43</td>\n",
       "      <td>1</td>\n",
       "      <td>28.0</td>\n",
       "      <td>0</td>\n",
       "      <td>58911.0</td>\n",
       "      <td>26.0</td>\n",
       "      <td>288</td>\n",
       "      <td>1</td>\n",
       "      <td>0</td>\n",
       "      <td>0</td>\n",
       "      <td>1</td>\n",
       "      <td>1</td>\n",
       "      <td>1</td>\n",
       "    </tr>\n",
       "    <tr>\n",
       "      <th>2</th>\n",
       "      <td>25</td>\n",
       "      <td>1</td>\n",
       "      <td>14.0</td>\n",
       "      <td>1</td>\n",
       "      <td>38043.0</td>\n",
       "      <td>152.0</td>\n",
       "      <td>254</td>\n",
       "      <td>0</td>\n",
       "      <td>0</td>\n",
       "      <td>1</td>\n",
       "      <td>0</td>\n",
       "      <td>0</td>\n",
       "      <td>0</td>\n",
       "    </tr>\n",
       "    <tr>\n",
       "      <th>3</th>\n",
       "      <td>35</td>\n",
       "      <td>1</td>\n",
       "      <td>1.0</td>\n",
       "      <td>0</td>\n",
       "      <td>2630.0</td>\n",
       "      <td>156.0</td>\n",
       "      <td>76</td>\n",
       "      <td>0</td>\n",
       "      <td>1</td>\n",
       "      <td>0</td>\n",
       "      <td>0</td>\n",
       "      <td>1</td>\n",
       "      <td>0</td>\n",
       "    </tr>\n",
       "    <tr>\n",
       "      <th>4</th>\n",
       "      <td>36</td>\n",
       "      <td>1</td>\n",
       "      <td>15.0</td>\n",
       "      <td>1</td>\n",
       "      <td>31951.0</td>\n",
       "      <td>152.0</td>\n",
       "      <td>294</td>\n",
       "      <td>0</td>\n",
       "      <td>1</td>\n",
       "      <td>0</td>\n",
       "      <td>0</td>\n",
       "      <td>0</td>\n",
       "      <td>0</td>\n",
       "    </tr>\n",
       "  </tbody>\n",
       "</table>\n",
       "</div>"
      ],
      "text/plain": [
       "    Age  Driving_License  Region_Code  Previously_Insured  Annual_Premium  \\\n",
       "id                                                                          \n",
       "0    21                1         35.0                   0         65101.0   \n",
       "1    43                1         28.0                   0         58911.0   \n",
       "2    25                1         14.0                   1         38043.0   \n",
       "3    35                1          1.0                   0          2630.0   \n",
       "4    36                1         15.0                   1         31951.0   \n",
       "\n",
       "    Policy_Sales_Channel  Vintage  Response  Vehicle_Age_1-2 Year  \\\n",
       "id                                                                  \n",
       "0                  124.0      187         0                     1   \n",
       "1                   26.0      288         1                     0   \n",
       "2                  152.0      254         0                     0   \n",
       "3                  156.0       76         0                     1   \n",
       "4                  152.0      294         0                     1   \n",
       "\n",
       "    Vehicle_Age_< 1 Year  Vehicle_Age_> 2 Years  Vehicle_Damages  Gender_Male  \n",
       "id                                                                             \n",
       "0                      0                      0                1            1  \n",
       "1                      0                      1                1            1  \n",
       "2                      1                      0                0            0  \n",
       "3                      0                      0                1            0  \n",
       "4                      0                      0                0            0  "
      ]
     },
     "execution_count": 17,
     "metadata": {},
     "output_type": "execute_result"
    }
   ],
   "source": [
    "insurance_data_train.head()"
   ]
  },
  {
   "cell_type": "code",
   "execution_count": 18,
   "metadata": {},
   "outputs": [],
   "source": [
    "y_train = insurance_data_train['Response']"
   ]
  },
  {
   "cell_type": "code",
   "execution_count": 19,
   "metadata": {},
   "outputs": [],
   "source": [
    "insurance_data_train.drop(['Response'], axis=1, inplace=True)"
   ]
  },
  {
   "cell_type": "code",
   "execution_count": 20,
   "metadata": {},
   "outputs": [
    {
     "data": {
      "text/plain": [
       "(11504798, 12)"
      ]
     },
     "execution_count": 20,
     "metadata": {},
     "output_type": "execute_result"
    }
   ],
   "source": [
    "insurance_data_train.shape"
   ]
  },
  {
   "cell_type": "code",
   "execution_count": 21,
   "metadata": {
    "execution": {
     "iopub.execute_input": "2024-07-16T13:56:58.965223Z",
     "iopub.status.busy": "2024-07-16T13:56:58.964812Z",
     "iopub.status.idle": "2024-07-16T13:56:59.464753Z",
     "shell.execute_reply": "2024-07-16T13:56:59.463680Z",
     "shell.execute_reply.started": "2024-07-16T13:56:58.965189Z"
    }
   },
   "outputs": [],
   "source": [
    "X_train = insurance_data_train.iloc[::]\n",
    "\n",
    "\n",
    "#X_test = insurance_data_test[::]"
   ]
  },
  {
   "cell_type": "markdown",
   "metadata": {},
   "source": [
    "### Using Smote To Handle Imbalanced Data"
   ]
  },
  {
   "cell_type": "code",
   "execution_count": 22,
   "metadata": {
    "execution": {
     "iopub.execute_input": "2024-07-16T13:57:02.981361Z",
     "iopub.status.busy": "2024-07-16T13:57:02.980875Z",
     "iopub.status.idle": "2024-07-16T13:58:36.845933Z",
     "shell.execute_reply": "2024-07-16T13:58:36.844874Z",
     "shell.execute_reply.started": "2024-07-16T13:57:02.981325Z"
    }
   },
   "outputs": [],
   "source": [
    "import imblearn\n",
    "from imblearn.over_sampling import SMOTE\n",
    "smote = SMOTE()\n",
    "X_train_smote, y_train_smote = smote.fit_resample(X_train, y_train)\n",
    "#print(y_train.value_counts())\n",
    "#print()\n",
    "#print(y_train_smote.value_counts())"
   ]
  },
  {
   "cell_type": "markdown",
   "metadata": {},
   "source": [
    "### Scaling the dataset"
   ]
  },
  {
   "cell_type": "code",
   "execution_count": 23,
   "metadata": {
    "execution": {
     "iopub.execute_input": "2024-07-16T14:00:21.944022Z",
     "iopub.status.busy": "2024-07-16T14:00:21.942559Z",
     "iopub.status.idle": "2024-07-16T14:00:21.948968Z",
     "shell.execute_reply": "2024-07-16T14:00:21.947920Z",
     "shell.execute_reply.started": "2024-07-16T14:00:21.943982Z"
    }
   },
   "outputs": [],
   "source": [
    "from sklearn.preprocessing import StandardScaler, MinMaxScaler\n",
    "scaler = StandardScaler()"
   ]
  },
  {
   "cell_type": "code",
   "execution_count": 24,
   "metadata": {
    "execution": {
     "iopub.execute_input": "2024-07-16T14:00:22.159711Z",
     "iopub.status.busy": "2024-07-16T14:00:22.158944Z",
     "iopub.status.idle": "2024-07-16T14:00:40.672981Z",
     "shell.execute_reply": "2024-07-16T14:00:40.671732Z",
     "shell.execute_reply.started": "2024-07-16T14:00:22.159676Z"
    }
   },
   "outputs": [],
   "source": [
    "X_train_scaled = scaler.fit_transform(X_train_smote)\n",
    "#data_scaled = scaler.fit_transform(insurance_data_train)"
   ]
  },
  {
   "cell_type": "code",
   "execution_count": 26,
   "metadata": {
    "execution": {
     "iopub.execute_input": "2024-07-16T11:49:11.318376Z",
     "iopub.status.busy": "2024-07-16T11:49:11.317999Z",
     "iopub.status.idle": "2024-07-16T11:49:18.783509Z",
     "shell.execute_reply": "2024-07-16T11:49:18.782647Z",
     "shell.execute_reply.started": "2024-07-16T11:49:11.318348Z"
    }
   },
   "outputs": [],
   "source": [
    "#test_dataset = scaler.fit_transform(insurance_data_test)"
   ]
  },
  {
   "cell_type": "markdown",
   "metadata": {},
   "source": [
    "# Apply  neural network model"
   ]
  },
  {
   "cell_type": "markdown",
   "metadata": {},
   "source": [
    "### Split the dataset"
   ]
  },
  {
   "cell_type": "code",
   "execution_count": 25,
   "metadata": {
    "execution": {
     "iopub.execute_input": "2024-07-10T12:20:47.542424Z",
     "iopub.status.busy": "2024-07-10T12:20:47.542041Z",
     "iopub.status.idle": "2024-07-10T12:20:53.504981Z",
     "shell.execute_reply": "2024-07-10T12:20:53.503586Z",
     "shell.execute_reply.started": "2024-07-10T12:20:47.542388Z"
    }
   },
   "outputs": [],
   "source": [
    "from sklearn.model_selection import train_test_split\n",
    "X_train, X_test, y_train, y_test = train_test_split(X_train_scaled, y_train_smote, \n",
    "                                                    test_size=0.2, random_state=42)"
   ]
  },
  {
   "cell_type": "code",
   "execution_count": 26,
   "metadata": {},
   "outputs": [
    {
     "data": {
      "text/plain": [
       "array([[-1.34959015,  0.04249797, -2.03670812, ..., -0.18699634,\n",
       "        -1.53889657,  1.04631212],\n",
       "       [-1.42359079,  0.04249797, -0.71255896, ..., -0.18699634,\n",
       "        -1.53889657, -0.95573776],\n",
       "       [-1.34959015,  0.04249797, -1.47551688, ..., -0.18699634,\n",
       "         0.64981625, -0.95573776],\n",
       "       ...,\n",
       "       [-0.46158248,  0.04249797,  0.69434951, ..., -0.18699634,\n",
       "         0.64981625,  1.04631212],\n",
       "       [-0.90558631,  0.04249797,  0.11503426, ..., -0.18699634,\n",
       "         0.64981625, -0.95573776],\n",
       "       [ 0.87042903,  0.04249797,  0.11503426, ..., -0.18699634,\n",
       "         0.64981625,  1.04631212]])"
      ]
     },
     "execution_count": 26,
     "metadata": {},
     "output_type": "execute_result"
    }
   ],
   "source": [
    "X_train"
   ]
  },
  {
   "cell_type": "code",
   "execution_count": 27,
   "metadata": {
    "execution": {
     "iopub.execute_input": "2024-07-10T12:20:53.507753Z",
     "iopub.status.busy": "2024-07-10T12:20:53.507342Z",
     "iopub.status.idle": "2024-07-10T12:20:53.514716Z",
     "shell.execute_reply": "2024-07-10T12:20:53.513327Z",
     "shell.execute_reply.started": "2024-07-10T12:20:53.507718Z"
    }
   },
   "outputs": [
    {
     "name": "stdout",
     "output_type": "stream",
     "text": [
      "(16143582, 12) (16143582,) (4035896, 12) (4035896,)\n"
     ]
    }
   ],
   "source": [
    "print(X_train.shape, y_train.shape, X_test.shape, y_test.shape)\n"
   ]
  },
  {
   "cell_type": "code",
   "execution_count": 28,
   "metadata": {
    "execution": {
     "iopub.execute_input": "2024-07-10T12:20:53.517511Z",
     "iopub.status.busy": "2024-07-10T12:20:53.516958Z",
     "iopub.status.idle": "2024-07-10T12:21:11.010084Z",
     "shell.execute_reply": "2024-07-10T12:21:11.008623Z",
     "shell.execute_reply.started": "2024-07-10T12:20:53.517464Z"
    }
   },
   "outputs": [
    {
     "name": "stdout",
     "output_type": "stream",
     "text": [
      "Setup Completed!\n"
     ]
    }
   ],
   "source": [
    "from sklearn import metrics\n",
    "from sklearn.metrics import *\n",
    "from sklearn.metrics import accuracy_score\n",
    "from sklearn.metrics import precision_score\n",
    "from sklearn.metrics import recall_score\n",
    "from sklearn.metrics import f1_score\n",
    "from sklearn.metrics import confusion_matrix\n",
    "from sklearn.metrics import classification_report\n",
    "from sklearn.preprocessing import StandardScaler,OneHotEncoder,OrdinalEncoder\n",
    "import tensorflow as tf\n",
    "from tensorflow.keras.models import Sequential\n",
    "from sklearn.compose import ColumnTransformer\n",
    "from sklearn.pipeline import Pipeline\n",
    "from tensorflow.keras.layers import Dense\n",
    "from tensorflow.keras.activations import linear, relu, sigmoid\n",
    "from tensorflow.keras import regularizers\n",
    "import logging\n",
    "logging.getLogger(\"tensorflow\").setLevel(logging.ERROR)\n",
    "tf.autograph.set_verbosity(0)\n",
    "import warnings \n",
    "warnings.filterwarnings(\"ignore\")\n",
    "print(\"Setup Completed!\")"
   ]
  },
  {
   "cell_type": "code",
   "execution_count": 29,
   "metadata": {
    "execution": {
     "iopub.execute_input": "2024-07-10T12:24:51.252540Z",
     "iopub.status.busy": "2024-07-10T12:24:51.252106Z",
     "iopub.status.idle": "2024-07-10T12:24:51.305684Z",
     "shell.execute_reply": "2024-07-10T12:24:51.303909Z",
     "shell.execute_reply.started": "2024-07-10T12:24:51.252501Z"
    }
   },
   "outputs": [
    {
     "data": {
      "text/plain": [
       "'model = Sequential(\\n    [               \\n        tf.keras.Input(shape=(6,)),    #specify input size\\n        ### START CODE HERE ### \\n        Dense(units = 256, activation=\\'leaky_relu\\'),#layer-1\\n        Dense(units = 128, activation=\\'leaky_relu\\'),#layer-2\\n        Dense(units = 64, activation=\\'leaky_relu\\'),#layer-3\\n        Dense(units = 32, activation=\\'leaky_relu\\'), #layer-4\\n        Dense(units = 1, activation=\\'sigmoid\\')#output layer\\n        \\n        ### END CODE HERE ### \\n    ], name = \"nn_model\" \\n)                            \\n'"
      ]
     },
     "execution_count": 29,
     "metadata": {},
     "output_type": "execute_result"
    }
   ],
   "source": [
    "model = tf.keras.models.Sequential()\n",
    "\n",
    "# Neurons, dropouts\n",
    "model.add(tf.keras.layers.Dense(units=256, input_dim=X_train.shape[1] ))\n",
    "#model.add(keras.layers.BatchNormalization())\n",
    "model.add(tf.keras.layers.Dense(units=128, activation='leaky_relu'))\n",
    "model.add(tf.keras.layers.Dropout(0.7))\n",
    "model.add(tf.keras.layers.Dense(units=64,  activation='leaky_relu'))\n",
    "model.add(tf.keras.layers.Dropout(0.65))\n",
    "model.add(tf.keras.layers.Dense(units=32, activation='leaky_relu'))\n",
    "model.add(tf.keras.layers.Dropout(0.6))\n",
    "model.add(tf.keras.layers.Dense(units=16, activation='leaky_relu'))\n",
    "model.add(tf.keras.layers.Dropout(0.55))\n",
    "model.add(tf.keras.layers.Dense(units=1, activation='sigmoid')) # output unit must be 1\n",
    "\n",
    "\n",
    "\"\"\"model = Sequential(\n",
    "    [               \n",
    "        tf.keras.Input(shape=(6,)),    #specify input size\n",
    "        ### START CODE HERE ### \n",
    "        Dense(units = 256, activation='leaky_relu'),#layer-1\n",
    "        Dense(units = 128, activation='leaky_relu'),#layer-2\n",
    "        Dense(units = 64, activation='leaky_relu'),#layer-3\n",
    "        Dense(units = 32, activation='leaky_relu'), #layer-4\n",
    "        Dense(units = 1, activation='sigmoid')#output layer\n",
    "        \n",
    "        ### END CODE HERE ### \n",
    "    ], name = \"nn_model\" \n",
    ")                            \n",
    "\"\"\""
   ]
  },
  {
   "cell_type": "code",
   "execution_count": 30,
   "metadata": {
    "execution": {
     "iopub.execute_input": "2024-07-10T12:25:00.161886Z",
     "iopub.status.busy": "2024-07-10T12:25:00.161378Z",
     "iopub.status.idle": "2024-07-10T12:25:00.190682Z",
     "shell.execute_reply": "2024-07-10T12:25:00.189245Z",
     "shell.execute_reply.started": "2024-07-10T12:25:00.161847Z"
    }
   },
   "outputs": [
    {
     "name": "stdout",
     "output_type": "stream",
     "text": [
      "Model: \"sequential\"\n",
      "_________________________________________________________________\n",
      " Layer (type)                Output Shape              Param #   \n",
      "=================================================================\n",
      " dense (Dense)               (None, 256)               3328      \n",
      "                                                                 \n",
      " dense_1 (Dense)             (None, 128)               32896     \n",
      "                                                                 \n",
      " dropout (Dropout)           (None, 128)               0         \n",
      "                                                                 \n",
      " dense_2 (Dense)             (None, 64)                8256      \n",
      "                                                                 \n",
      " dropout_1 (Dropout)         (None, 64)                0         \n",
      "                                                                 \n",
      " dense_3 (Dense)             (None, 32)                2080      \n",
      "                                                                 \n",
      " dropout_2 (Dropout)         (None, 32)                0         \n",
      "                                                                 \n",
      " dense_4 (Dense)             (None, 16)                528       \n",
      "                                                                 \n",
      " dropout_3 (Dropout)         (None, 16)                0         \n",
      "                                                                 \n",
      " dense_5 (Dense)             (None, 1)                 17        \n",
      "                                                                 \n",
      "=================================================================\n",
      "Total params: 47105 (184.00 KB)\n",
      "Trainable params: 47105 (184.00 KB)\n",
      "Non-trainable params: 0 (0.00 Byte)\n",
      "_________________________________________________________________\n"
     ]
    }
   ],
   "source": [
    "model.summary()"
   ]
  },
  {
   "cell_type": "code",
   "execution_count": 31,
   "metadata": {
    "execution": {
     "iopub.execute_input": "2024-07-10T12:27:47.252030Z",
     "iopub.status.busy": "2024-07-10T12:27:47.251592Z"
    }
   },
   "outputs": [
    {
     "name": "stdout",
     "output_type": "stream",
     "text": [
      "Epoch 1/5\n",
      "5382/5382 [==============================] - 229s 42ms/step - loss: 0.3908 - accuracy: 0.7980 - val_loss: 0.3731 - val_accuracy: 0.8108\n",
      "Epoch 2/5\n",
      "5382/5382 [==============================] - 219s 41ms/step - loss: 0.3813 - accuracy: 0.8042 - val_loss: 0.3727 - val_accuracy: 0.8111\n",
      "Epoch 3/5\n",
      "5382/5382 [==============================] - 202s 38ms/step - loss: 0.3804 - accuracy: 0.8054 - val_loss: 0.3716 - val_accuracy: 0.8116\n",
      "Epoch 4/5\n",
      "5382/5382 [==============================] - 186s 35ms/step - loss: 0.3800 - accuracy: 0.8059 - val_loss: 0.3717 - val_accuracy: 0.8118\n",
      "Epoch 5/5\n",
      "5382/5382 [==============================] - 184s 34ms/step - loss: 0.3799 - accuracy: 0.8060 - val_loss: 0.3716 - val_accuracy: 0.8120\n"
     ]
    }
   ],
   "source": [
    "model.compile(\n",
    "    loss=tf.keras.losses.BinaryCrossentropy(),\n",
    "    optimizer=tf.keras.optimizers.Adam(0.0005),\n",
    "    metrics=['accuracy'],\n",
    ")\n",
    "\n",
    "history = model.fit(\n",
    "    X_train,\n",
    "    y_train,\n",
    "    batch_size=3000,\n",
    "    epochs=5,\n",
    "    validation_data=(X_test, y_test),\n",
    "    \n",
    ")"
   ]
  },
  {
   "cell_type": "code",
   "execution_count": 33,
   "metadata": {},
   "outputs": [
    {
     "data": {
      "image/png": "[encoded data removed]",
      "text/plain": [
       "<Figure size 800x800 with 2 Axes>"
      ]
     },
     "metadata": {},
     "output_type": "display_data"
    }
   ],
   "source": [
    "acc = history.history['accuracy']\n",
    "val_acc = history.history['val_accuracy']\n",
    "\n",
    "loss = history.history['loss']\n",
    "val_loss = history.history['val_loss']\n",
    "\n",
    "epochs_range = range(5)\n",
    "\n",
    "plt.figure(figsize=(8, 8))\n",
    "plt.subplot(1, 2, 1)\n",
    "plt.plot(epochs_range, acc, label='Training Accuracy')\n",
    "plt.plot(epochs_range, val_acc, label='Validation Accuracy')\n",
    "plt.legend(loc='lower right')\n",
    "plt.title('Training and Validation Accuracy')\n",
    "\n",
    "plt.subplot(1, 2, 2)\n",
    "plt.plot(epochs_range, loss, label='Training Loss')\n",
    "plt.plot(epochs_range, val_loss, label='Validation Loss')\n",
    "plt.legend(loc='upper right')\n",
    "plt.title('Training and Validation Loss')\n",
    "plt.show()"
   ]
  },
  {
   "cell_type": "code",
   "execution_count": 35,
   "metadata": {},
   "outputs": [],
   "source": [
    "insurance_data_test.drop(['id'], axis=1, inplace=True)"
   ]
  },
  {
   "cell_type": "code",
   "execution_count": 36,
   "metadata": {},
   "outputs": [],
   "source": [
    "X_test = insurance_data_test.iloc[::]"
   ]
  },
  {
   "cell_type": "code",
   "execution_count": 37,
   "metadata": {},
   "outputs": [],
   "source": [
    "X_test_scaled = scaler.fit_transform(X_test)"
   ]
  },
  {
   "cell_type": "code",
   "execution_count": 38,
   "metadata": {},
   "outputs": [
    {
     "data": {
      "text/plain": [
       "array([[-1.22613164,  0.044532  ,  1.58325928, ..., -0.20843176,\n",
       "        -1.00510569, -1.08622761],\n",
       "       [ 0.57392768,  0.044532  ,  0.12108258, ..., -0.20843176,\n",
       "         0.99492024,  0.92061736],\n",
       "       [ 0.57392768,  0.044532  ,  1.27543261, ..., -0.20843176,\n",
       "         0.99492024,  0.92061736],\n",
       "       ...,\n",
       "       [ 0.57392768,  0.044532  ,  0.50586592, ..., -0.20843176,\n",
       "        -1.00510569,  0.92061736],\n",
       "       [-0.55944301,  0.044532  ,  0.12108258, ..., -0.20843176,\n",
       "         0.99492024,  0.92061736],\n",
       "       [-1.02612505,  0.044532  ,  1.50630261, ..., -0.20843176,\n",
       "        -1.00510569,  0.92061736]])"
      ]
     },
     "execution_count": 38,
     "metadata": {},
     "output_type": "execute_result"
    }
   ],
   "source": [
    "X_test_scaled"
   ]
  },
  {
   "cell_type": "code",
   "execution_count": 39,
   "metadata": {},
   "outputs": [
    {
     "name": "stdout",
     "output_type": "stream",
     "text": [
      "239684/239684 [==============================] - 344s 1ms/step\n"
     ]
    }
   ],
   "source": [
    "prediction = model.predict(X_test_scaled)"
   ]
  },
  {
   "cell_type": "code",
   "execution_count": 40,
   "metadata": {},
   "outputs": [
    {
     "data": {
      "text/plain": [
       "array([[7.2629344e-01],\n",
       "       [9.9294388e-01],\n",
       "       [9.9370462e-01],\n",
       "       ...,\n",
       "       [7.5223407e-04],\n",
       "       [9.8696852e-01],\n",
       "       [1.4776841e-04]], dtype=float32)"
      ]
     },
     "execution_count": 40,
     "metadata": {},
     "output_type": "execute_result"
    }
   ],
   "source": [
    "prediction"
   ]
  },
  {
   "cell_type": "code",
   "execution_count": 41,
   "metadata": {},
   "outputs": [],
   "source": [
    "submit = pd.read_csv('./kaggle/sample_submission/sample_submission.csv')\n",
    "submit.Response = prediction\n",
    "submit[['id', 'Response']].to_csv('./kaggle/working/neural_network.csv', index=False)"
   ]
  },
  {
   "cell_type": "code",
   "execution_count": null,
   "metadata": {},
   "outputs": [],
   "source": []
  }
 ],
 "metadata": {
  "kaggle": {
   "accelerator": "gpu",
   "dataSources": [
    {
     "databundleVersionId": 8930475,
     "sourceId": 73291,
     "sourceType": "competition"
    }
   ],
   "dockerImageVersionId": 30732,
   "isGpuEnabled": true,
   "isInternetEnabled": true,
   "language": "python",
   "sourceType": "notebook"
  },
  "kernelspec": {
   "display_name": "Python 3 (ipykernel)",
   "language": "python",
   "name": "python3"
  },
  "language_info": {
   "codemirror_mode": {
    "name": "ipython",
    "version": 3
   },
   "file_extension": ".py",
   "mimetype": "text/x-python",
   "name": "python",
   "nbconvert_exporter": "python",
   "pygments_lexer": "ipython3",
   "version": "3.9.13"
  }
 },
 "nbformat": 4,
 "nbformat_minor": 4
}
