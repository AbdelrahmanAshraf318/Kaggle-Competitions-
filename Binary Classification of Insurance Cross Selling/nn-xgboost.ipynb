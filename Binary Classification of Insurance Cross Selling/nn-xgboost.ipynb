{
 "cells": [
  {
   "cell_type": "markdown",
   "metadata": {
    "_cell_guid": "b1076dfc-b9ad-4769-8c92-a6c4dae69d19",
    "_uuid": "8f2839f25d086af736a60e9eeb907d3b93b6e0e5"
   },
   "source": [
    "# Import Libraries"
   ]
  },
  {
   "cell_type": "code",
   "execution_count": 1,
   "metadata": {
    "execution": {
     "iopub.execute_input": "2024-07-16T13:55:10.866510Z",
     "iopub.status.busy": "2024-07-16T13:55:10.865451Z",
     "iopub.status.idle": "2024-07-16T13:55:13.389526Z",
     "shell.execute_reply": "2024-07-16T13:55:13.388408Z",
     "shell.execute_reply.started": "2024-07-16T13:55:10.866466Z"
    }
   },
   "outputs": [
    {
     "name": "stdout",
     "output_type": "stream",
     "text": [
      "Setup Complete\n"
     ]
    }
   ],
   "source": [
    "import pandas as pd\n",
    "import numpy as np\n",
    "pd.plotting.register_matplotlib_converters()\n",
    "import matplotlib.pyplot as plt\n",
    "%matplotlib inline\n",
    "import seaborn as sns\n",
    "from sklearn.feature_selection import f_classif\n",
    "import imblearn\n",
    "from imblearn.over_sampling import SMOTE\n",
    "from sklearn.preprocessing import StandardScaler, MinMaxScaler\n",
    "from sklearn.model_selection import train_test_split\n",
    "from sklearn import metrics\n",
    "from sklearn.metrics import *\n",
    "from sklearn.metrics import accuracy_score\n",
    "from sklearn.metrics import precision_score\n",
    "from sklearn.metrics import recall_score\n",
    "from sklearn.metrics import f1_score\n",
    "from sklearn.metrics import confusion_matrix\n",
    "from sklearn.metrics import classification_report\n",
    "from sklearn.preprocessing import StandardScaler,OneHotEncoder,OrdinalEncoder\n",
    "import xgboost as xgb\n",
    "import tensorflow as tf\n",
    "from tensorflow.keras.models import Sequential\n",
    "from sklearn.compose import ColumnTransformer\n",
    "from sklearn.pipeline import Pipeline\n",
    "from tensorflow.keras.layers import Dense\n",
    "from tensorflow.keras.activations import linear, relu, sigmoid\n",
    "from tensorflow.keras import regularizers\n",
    "import logging\n",
    "logging.getLogger(\"tensorflow\").setLevel(logging.ERROR)\n",
    "tf.autograph.set_verbosity(0)\n",
    "import warnings \n",
    "warnings.filterwarnings(\"ignore\")\n",
    "print(\"Setup Complete\")"
   ]
  },
  {
   "cell_type": "markdown",
   "metadata": {},
   "source": [
    "### First thing we should do is to see our dataset and answer some questions "
   ]
  },
  {
   "cell_type": "code",
   "execution_count": 2,
   "metadata": {
    "execution": {
     "iopub.execute_input": "2024-07-16T13:55:13.391927Z",
     "iopub.status.busy": "2024-07-16T13:55:13.391432Z",
     "iopub.status.idle": "2024-07-16T13:55:36.823576Z",
     "shell.execute_reply": "2024-07-16T13:55:36.822635Z",
     "shell.execute_reply.started": "2024-07-16T13:55:13.391895Z"
    }
   },
   "outputs": [],
   "source": [
    "insurance_train_filepath = \"./kaggle/train/train.csv\"\n",
    "\n",
    "# Read the file into a variable insurance_data_train\n",
    "insurance_data_train = pd.read_csv(insurance_train_filepath, index_col=\"id\")"
   ]
  },
  {
   "cell_type": "code",
   "execution_count": 3,
   "metadata": {
    "execution": {
     "iopub.execute_input": "2024-07-16T13:55:36.825388Z",
     "iopub.status.busy": "2024-07-16T13:55:36.824991Z",
     "iopub.status.idle": "2024-07-16T13:55:51.366588Z",
     "shell.execute_reply": "2024-07-16T13:55:51.365303Z",
     "shell.execute_reply.started": "2024-07-16T13:55:36.825351Z"
    }
   },
   "outputs": [],
   "source": [
    "insurance_test_filepath = \"./kaggle/test/test.csv\"\n",
    "\n",
    "# Read the file into a variable insurance_data_train\n",
    "insurance_data_test = pd.read_csv(insurance_test_filepath)"
   ]
  },
  {
   "cell_type": "markdown",
   "metadata": {},
   "source": [
    "### The best start you need to do on your project is to see your dataset and the shape of it "
   ]
  },
  {
   "cell_type": "code",
   "execution_count": 4,
   "metadata": {
    "execution": {
     "iopub.execute_input": "2024-07-10T21:51:41.677647Z",
     "iopub.status.busy": "2024-07-10T21:51:41.677250Z",
     "iopub.status.idle": "2024-07-10T21:51:41.702508Z",
     "shell.execute_reply": "2024-07-10T21:51:41.701359Z",
     "shell.execute_reply.started": "2024-07-10T21:51:41.677616Z"
    }
   },
   "outputs": [
    {
     "data": {
      "text/html": [
       "<div>\n",
       "<style scoped>\n",
       "    .dataframe tbody tr th:only-of-type {\n",
       "        vertical-align: middle;\n",
       "    }\n",
       "\n",
       "    .dataframe tbody tr th {\n",
       "        vertical-align: top;\n",
       "    }\n",
       "\n",
       "    .dataframe thead th {\n",
       "        text-align: right;\n",
       "    }\n",
       "</style>\n",
       "<table border=\"1\" class=\"dataframe\">\n",
       "  <thead>\n",
       "    <tr style=\"text-align: right;\">\n",
       "      <th></th>\n",
       "      <th>Gender</th>\n",
       "      <th>Age</th>\n",
       "      <th>Driving_License</th>\n",
       "      <th>Region_Code</th>\n",
       "      <th>Previously_Insured</th>\n",
       "      <th>Vehicle_Age</th>\n",
       "      <th>Vehicle_Damage</th>\n",
       "      <th>Annual_Premium</th>\n",
       "      <th>Policy_Sales_Channel</th>\n",
       "      <th>Vintage</th>\n",
       "      <th>Response</th>\n",
       "    </tr>\n",
       "    <tr>\n",
       "      <th>id</th>\n",
       "      <th></th>\n",
       "      <th></th>\n",
       "      <th></th>\n",
       "      <th></th>\n",
       "      <th></th>\n",
       "      <th></th>\n",
       "      <th></th>\n",
       "      <th></th>\n",
       "      <th></th>\n",
       "      <th></th>\n",
       "      <th></th>\n",
       "    </tr>\n",
       "  </thead>\n",
       "  <tbody>\n",
       "    <tr>\n",
       "      <th>0</th>\n",
       "      <td>Male</td>\n",
       "      <td>21</td>\n",
       "      <td>1</td>\n",
       "      <td>35.0</td>\n",
       "      <td>0</td>\n",
       "      <td>1-2 Year</td>\n",
       "      <td>Yes</td>\n",
       "      <td>65101.0</td>\n",
       "      <td>124.0</td>\n",
       "      <td>187</td>\n",
       "      <td>0</td>\n",
       "    </tr>\n",
       "    <tr>\n",
       "      <th>1</th>\n",
       "      <td>Male</td>\n",
       "      <td>43</td>\n",
       "      <td>1</td>\n",
       "      <td>28.0</td>\n",
       "      <td>0</td>\n",
       "      <td>&gt; 2 Years</td>\n",
       "      <td>Yes</td>\n",
       "      <td>58911.0</td>\n",
       "      <td>26.0</td>\n",
       "      <td>288</td>\n",
       "      <td>1</td>\n",
       "    </tr>\n",
       "    <tr>\n",
       "      <th>2</th>\n",
       "      <td>Female</td>\n",
       "      <td>25</td>\n",
       "      <td>1</td>\n",
       "      <td>14.0</td>\n",
       "      <td>1</td>\n",
       "      <td>&lt; 1 Year</td>\n",
       "      <td>No</td>\n",
       "      <td>38043.0</td>\n",
       "      <td>152.0</td>\n",
       "      <td>254</td>\n",
       "      <td>0</td>\n",
       "    </tr>\n",
       "    <tr>\n",
       "      <th>3</th>\n",
       "      <td>Female</td>\n",
       "      <td>35</td>\n",
       "      <td>1</td>\n",
       "      <td>1.0</td>\n",
       "      <td>0</td>\n",
       "      <td>1-2 Year</td>\n",
       "      <td>Yes</td>\n",
       "      <td>2630.0</td>\n",
       "      <td>156.0</td>\n",
       "      <td>76</td>\n",
       "      <td>0</td>\n",
       "    </tr>\n",
       "    <tr>\n",
       "      <th>4</th>\n",
       "      <td>Female</td>\n",
       "      <td>36</td>\n",
       "      <td>1</td>\n",
       "      <td>15.0</td>\n",
       "      <td>1</td>\n",
       "      <td>1-2 Year</td>\n",
       "      <td>No</td>\n",
       "      <td>31951.0</td>\n",
       "      <td>152.0</td>\n",
       "      <td>294</td>\n",
       "      <td>0</td>\n",
       "    </tr>\n",
       "  </tbody>\n",
       "</table>\n",
       "</div>"
      ],
      "text/plain": [
       "    Gender  Age  Driving_License  Region_Code  Previously_Insured Vehicle_Age  \\\n",
       "id                                                                              \n",
       "0     Male   21                1         35.0                   0    1-2 Year   \n",
       "1     Male   43                1         28.0                   0   > 2 Years   \n",
       "2   Female   25                1         14.0                   1    < 1 Year   \n",
       "3   Female   35                1          1.0                   0    1-2 Year   \n",
       "4   Female   36                1         15.0                   1    1-2 Year   \n",
       "\n",
       "   Vehicle_Damage  Annual_Premium  Policy_Sales_Channel  Vintage  Response  \n",
       "id                                                                          \n",
       "0             Yes         65101.0                 124.0      187         0  \n",
       "1             Yes         58911.0                  26.0      288         1  \n",
       "2              No         38043.0                 152.0      254         0  \n",
       "3             Yes          2630.0                 156.0       76         0  \n",
       "4              No         31951.0                 152.0      294         0  "
      ]
     },
     "execution_count": 4,
     "metadata": {},
     "output_type": "execute_result"
    }
   ],
   "source": [
    "insurance_data_train.head()"
   ]
  },
  {
   "cell_type": "code",
   "execution_count": 5,
   "metadata": {
    "execution": {
     "iopub.execute_input": "2024-07-10T21:51:44.540482Z",
     "iopub.status.busy": "2024-07-10T21:51:44.540042Z",
     "iopub.status.idle": "2024-07-10T21:51:44.547572Z",
     "shell.execute_reply": "2024-07-10T21:51:44.546454Z",
     "shell.execute_reply.started": "2024-07-10T21:51:44.540444Z"
    }
   },
   "outputs": [
    {
     "data": {
      "text/plain": [
       "(11504798, 11)"
      ]
     },
     "execution_count": 5,
     "metadata": {},
     "output_type": "execute_result"
    }
   ],
   "source": [
    "insurance_data_train.shape"
   ]
  },
  {
   "cell_type": "code",
   "execution_count": 6,
   "metadata": {
    "execution": {
     "iopub.execute_input": "2024-07-10T21:51:44.750123Z",
     "iopub.status.busy": "2024-07-10T21:51:44.749722Z",
     "iopub.status.idle": "2024-07-10T21:51:44.773213Z",
     "shell.execute_reply": "2024-07-10T21:51:44.771814Z",
     "shell.execute_reply.started": "2024-07-10T21:51:44.750072Z"
    }
   },
   "outputs": [
    {
     "name": "stdout",
     "output_type": "stream",
     "text": [
      "<class 'pandas.core.frame.DataFrame'>\n",
      "Int64Index: 11504798 entries, 0 to 11504797\n",
      "Data columns (total 11 columns):\n",
      " #   Column                Dtype  \n",
      "---  ------                -----  \n",
      " 0   Gender                object \n",
      " 1   Age                   int64  \n",
      " 2   Driving_License       int64  \n",
      " 3   Region_Code           float64\n",
      " 4   Previously_Insured    int64  \n",
      " 5   Vehicle_Age           object \n",
      " 6   Vehicle_Damage        object \n",
      " 7   Annual_Premium        float64\n",
      " 8   Policy_Sales_Channel  float64\n",
      " 9   Vintage               int64  \n",
      " 10  Response              int64  \n",
      "dtypes: float64(3), int64(5), object(3)\n",
      "memory usage: 1.0+ GB\n"
     ]
    }
   ],
   "source": [
    "insurance_data_train.info()"
   ]
  },
  {
   "cell_type": "markdown",
   "metadata": {},
   "source": [
    "### It seems that there are some features which are categorical"
   ]
  },
  {
   "cell_type": "markdown",
   "metadata": {},
   "source": [
    "### Checking the missing values in this dataset "
   ]
  },
  {
   "cell_type": "code",
   "execution_count": 7,
   "metadata": {
    "execution": {
     "iopub.execute_input": "2024-07-10T21:51:48.136717Z",
     "iopub.status.busy": "2024-07-10T21:51:48.136295Z",
     "iopub.status.idle": "2024-07-10T21:51:49.818246Z",
     "shell.execute_reply": "2024-07-10T21:51:49.816983Z",
     "shell.execute_reply.started": "2024-07-10T21:51:48.136682Z"
    }
   },
   "outputs": [
    {
     "data": {
      "text/plain": [
       "Gender                  0\n",
       "Age                     0\n",
       "Driving_License         0\n",
       "Region_Code             0\n",
       "Previously_Insured      0\n",
       "Vehicle_Age             0\n",
       "Vehicle_Damage          0\n",
       "Annual_Premium          0\n",
       "Policy_Sales_Channel    0\n",
       "Vintage                 0\n",
       "Response                0\n",
       "dtype: int64"
      ]
     },
     "execution_count": 7,
     "metadata": {},
     "output_type": "execute_result"
    }
   ],
   "source": [
    "missing_values = insurance_data_train.isnull().sum()\n",
    "missing_values"
   ]
  },
  {
   "cell_type": "markdown",
   "metadata": {},
   "source": [
    "### Good! There are no missing values"
   ]
  },
  {
   "cell_type": "markdown",
   "metadata": {},
   "source": [
    "# Exploratory Data Analysis(EDA)"
   ]
  },
  {
   "cell_type": "code",
   "execution_count": 8,
   "metadata": {
    "execution": {
     "iopub.execute_input": "2024-07-10T21:51:50.957435Z",
     "iopub.status.busy": "2024-07-10T21:51:50.957011Z",
     "iopub.status.idle": "2024-07-10T21:51:50.964879Z",
     "shell.execute_reply": "2024-07-10T21:51:50.963778Z",
     "shell.execute_reply.started": "2024-07-10T21:51:50.957401Z"
    }
   },
   "outputs": [
    {
     "data": {
      "text/plain": [
       "Index(['Gender', 'Age', 'Driving_License', 'Region_Code', 'Previously_Insured',\n",
       "       'Vehicle_Age', 'Vehicle_Damage', 'Annual_Premium',\n",
       "       'Policy_Sales_Channel', 'Vintage', 'Response'],\n",
       "      dtype='object')"
      ]
     },
     "execution_count": 8,
     "metadata": {},
     "output_type": "execute_result"
    }
   ],
   "source": [
    "insurance_data_train.columns"
   ]
  },
  {
   "cell_type": "code",
   "execution_count": 9,
   "metadata": {
    "execution": {
     "iopub.execute_input": "2024-07-09T16:00:52.626403Z",
     "iopub.status.busy": "2024-07-09T16:00:52.625633Z",
     "iopub.status.idle": "2024-07-09T16:00:58.497019Z",
     "shell.execute_reply": "2024-07-09T16:00:58.495544Z",
     "shell.execute_reply.started": "2024-07-09T16:00:52.626188Z"
    }
   },
   "outputs": [
    {
     "data": {
      "image/png": "[encoded data removed]",
      "text/plain": [
       "<Figure size 700x400 with 1 Axes>"
      ]
     },
     "metadata": {},
     "output_type": "display_data"
    }
   ],
   "source": [
    "plt.figure(figsize=(7, 4))\n",
    "sns.boxplot(x=insurance_data_train['Annual_Premium'])\n",
    "plt.title('Distribution of Annual_Premium')\n",
    "plt.xlabel('Annual_Premium')\n",
    "plt.ylabel('Frequency')\n",
    "plt.show()"
   ]
  },
  {
   "cell_type": "code",
   "execution_count": 10,
   "metadata": {
    "execution": {
     "iopub.execute_input": "2024-07-07T12:14:10.490371Z",
     "iopub.status.busy": "2024-07-07T12:14:10.489993Z",
     "iopub.status.idle": "2024-07-07T12:14:19.159967Z",
     "shell.execute_reply": "2024-07-07T12:14:19.158803Z",
     "shell.execute_reply.started": "2024-07-07T12:14:10.490341Z"
    }
   },
   "outputs": [
    {
     "data": {
      "image/png": "[encoded data removed]",
      "text/plain": [
       "<Figure size 1000x600 with 1 Axes>"
      ]
     },
     "metadata": {},
     "output_type": "display_data"
    }
   ],
   "source": [
    "plt.figure(figsize=(10, 6))\n",
    "sns.histplot(insurance_data_train['Age'], kde=False, bins=10)\n",
    "plt.title('Distribution of Age')\n",
    "plt.xlabel('Age')\n",
    "plt.ylabel('Frequency')\n",
    "plt.show()"
   ]
  },
  {
   "cell_type": "code",
   "execution_count": 11,
   "metadata": {
    "execution": {
     "iopub.execute_input": "2024-07-07T12:14:30.053155Z",
     "iopub.status.busy": "2024-07-07T12:14:30.052770Z",
     "iopub.status.idle": "2024-07-07T12:14:39.084568Z",
     "shell.execute_reply": "2024-07-07T12:14:39.083439Z",
     "shell.execute_reply.started": "2024-07-07T12:14:30.053125Z"
    }
   },
   "outputs": [
    {
     "data": {
      "image/png": "[encoded data removed]",
      "text/plain": [
       "<Figure size 1000x600 with 1 Axes>"
      ]
     },
     "metadata": {},
     "output_type": "display_data"
    }
   ],
   "source": [
    "plt.figure(figsize=(10, 6))\n",
    "sns.histplot(insurance_data_train['Region_Code'], kde=False, bins=12)\n",
    "plt.title('Distribution of Region_Code')\n",
    "plt.xlabel('Region_Code')\n",
    "plt.ylabel('Frequency')\n",
    "plt.show()"
   ]
  },
  {
   "cell_type": "code",
   "execution_count": 12,
   "metadata": {
    "execution": {
     "iopub.execute_input": "2024-07-07T12:14:44.516993Z",
     "iopub.status.busy": "2024-07-07T12:14:44.516052Z",
     "iopub.status.idle": "2024-07-07T12:15:02.510609Z",
     "shell.execute_reply": "2024-07-07T12:15:02.509384Z",
     "shell.execute_reply.started": "2024-07-07T12:14:44.516957Z"
    }
   },
   "outputs": [
    {
     "data": {
      "image/png": "[encoded data removed]",
      "text/plain": [
       "<Figure size 1000x600 with 1 Axes>"
      ]
     },
     "metadata": {},
     "output_type": "display_data"
    }
   ],
   "source": [
    "plt.figure(figsize=(10, 6))\n",
    "sns.histplot(insurance_data_train['Vehicle_Age'], kde=False, bins=10)\n",
    "plt.title('Distribution of Vehicle_Age')\n",
    "plt.xlabel('Vehicle_Age')\n",
    "plt.ylabel('Frequency')\n",
    "plt.show()"
   ]
  },
  {
   "cell_type": "code",
   "execution_count": 13,
   "metadata": {
    "execution": {
     "iopub.execute_input": "2024-07-07T12:15:19.993395Z",
     "iopub.status.busy": "2024-07-07T12:15:19.993030Z",
     "iopub.status.idle": "2024-07-07T12:15:20.253417Z",
     "shell.execute_reply": "2024-07-07T12:15:20.251986Z",
     "shell.execute_reply.started": "2024-07-07T12:15:19.993368Z"
    }
   },
   "outputs": [
    {
     "data": {
      "text/plain": [
       "Text(0.5, 1.0, 'Checking Imbalance in Training Data Or Response')"
      ]
     },
     "execution_count": 13,
     "metadata": {},
     "output_type": "execute_result"
    },
    {
     "data": {
      "text/plain": [
       "<Figure size 600x600 with 0 Axes>"
      ]
     },
     "metadata": {},
     "output_type": "display_data"
    },
    {
     "data": {
      "image/png": "[encoded data removed]",
      "text/plain": [
       "<Figure size 640x480 with 1 Axes>"
      ]
     },
     "metadata": {},
     "output_type": "display_data"
    }
   ],
   "source": [
    "response_data = insurance_data_train['Response'].value_counts()\n",
    "plt.figure(figsize=(6,6))\n",
    "fig, ax = plt.subplots()\n",
    "ax.pie(response_data, labels = [0,1])\n",
    "ax.set_title('Checking Imbalance in Training Data Or Response')"
   ]
  },
  {
   "cell_type": "markdown",
   "metadata": {},
   "source": [
    "### It seems that the data is imbalanced "
   ]
  },
  {
   "cell_type": "markdown",
   "metadata": {},
   "source": [
    "# Feature Engineering"
   ]
  },
  {
   "cell_type": "markdown",
   "metadata": {},
   "source": [
    "### Handle Categorical Data"
   ]
  },
  {
   "cell_type": "code",
   "execution_count": 10,
   "metadata": {},
   "outputs": [],
   "source": [
    "insurance_data_train['Vehicle_Damage']=insurance_data_train['Vehicle_Damage'].map({'Yes':1,'No':0})\n",
    "insurance_data_train['Gender']=insurance_data_train['Gender'].map({'Male':1,'Female':0})\n",
    "insurance_data_train['Vehicle_Age'] = insurance_data_train['Vehicle_Age'].map({'< 1 Year':1, '1-2 Year':2,'> 2 Years':3})"
   ]
  },
  {
   "cell_type": "code",
   "execution_count": 11,
   "metadata": {},
   "outputs": [],
   "source": [
    "insurance_data_test['Vehicle_Damage']=insurance_data_test['Vehicle_Damage'].map({'Yes':1,'No':0})\n",
    "insurance_data_test['Gender']=insurance_data_test['Gender'].map({'Male':1,'Female':0})\n",
    "insurance_data_test['Vehicle_Age'] = insurance_data_test['Vehicle_Age'].map({'< 1 Year':1, '1-2 Year':2,'> 2 Years':3})"
   ]
  },
  {
   "cell_type": "markdown",
   "metadata": {},
   "source": [
    "## Create new features from the existing ones"
   ]
  },
  {
   "cell_type": "code",
   "execution_count": 12,
   "metadata": {},
   "outputs": [],
   "source": [
    "insurance_data_train['Age_Vehicle_Age'] = insurance_data_train['Age'] * insurance_data_train['Vehicle_Age']\n",
    "insurance_data_train['Age_Annual_Premium'] = insurance_data_train['Age'] * insurance_data_train['Annual_Premium']\n",
    "insurance_data_train['Vehicle_Damage_Annual_Premium'] = insurance_data_train['Vehicle_Damage'] * insurance_data_train['Annual_Premium']"
   ]
  },
  {
   "cell_type": "code",
   "execution_count": 13,
   "metadata": {},
   "outputs": [],
   "source": [
    "insurance_data_test['Age_Vehicle_Age'] = insurance_data_test['Age'] * insurance_data_test['Vehicle_Age']\n",
    "insurance_data_test['Age_Annual_Premium'] = insurance_data_test['Age'] * insurance_data_test['Annual_Premium']\n",
    "insurance_data_test['Vehicle_Damage_Annual_Premium'] = insurance_data_test['Vehicle_Damage'] * insurance_data_test['Annual_Premium']"
   ]
  },
  {
   "cell_type": "markdown",
   "metadata": {},
   "source": [
    "## Check For the correlation"
   ]
  },
  {
   "cell_type": "code",
   "execution_count": 14,
   "metadata": {},
   "outputs": [
    {
     "data": {
      "text/plain": [
       "Gender                           0.055212\n",
       "Age                              0.122134\n",
       "Driving_License                  0.009197\n",
       "Region_Code                      0.012816\n",
       "Previously_Insured              -0.345930\n",
       "Vehicle_Age                      0.231029\n",
       "Vehicle_Damage                        NaN\n",
       "Annual_Premium                   0.032261\n",
       "Policy_Sales_Channel            -0.152733\n",
       "Vintage                         -0.015177\n",
       "Response                         1.000000\n",
       "Age_Vehicle_Age                  0.166647\n",
       "Age_Annual_Premium               0.095020\n",
       "Vehicle_Damage_Annual_Premium         NaN\n",
       "Name: Response, dtype: float64"
      ]
     },
     "execution_count": 14,
     "metadata": {},
     "output_type": "execute_result"
    }
   ],
   "source": [
    "insurance_data_train.corr()['Response']"
   ]
  },
  {
   "cell_type": "markdown",
   "metadata": {},
   "source": [
    "## Split the dataset"
   ]
  },
  {
   "cell_type": "code",
   "execution_count": 15,
   "metadata": {},
   "outputs": [
    {
     "data": {
      "text/html": [
       "<div>\n",
       "<style scoped>\n",
       "    .dataframe tbody tr th:only-of-type {\n",
       "        vertical-align: middle;\n",
       "    }\n",
       "\n",
       "    .dataframe tbody tr th {\n",
       "        vertical-align: top;\n",
       "    }\n",
       "\n",
       "    .dataframe thead th {\n",
       "        text-align: right;\n",
       "    }\n",
       "</style>\n",
       "<table border=\"1\" class=\"dataframe\">\n",
       "  <thead>\n",
       "    <tr style=\"text-align: right;\">\n",
       "      <th></th>\n",
       "      <th>Gender</th>\n",
       "      <th>Age</th>\n",
       "      <th>Driving_License</th>\n",
       "      <th>Region_Code</th>\n",
       "      <th>Previously_Insured</th>\n",
       "      <th>Vehicle_Age</th>\n",
       "      <th>Vehicle_Damage</th>\n",
       "      <th>Annual_Premium</th>\n",
       "      <th>Policy_Sales_Channel</th>\n",
       "      <th>Vintage</th>\n",
       "      <th>Response</th>\n",
       "      <th>Age_Vehicle_Age</th>\n",
       "      <th>Age_Annual_Premium</th>\n",
       "      <th>Vehicle_Damage_Annual_Premium</th>\n",
       "    </tr>\n",
       "    <tr>\n",
       "      <th>id</th>\n",
       "      <th></th>\n",
       "      <th></th>\n",
       "      <th></th>\n",
       "      <th></th>\n",
       "      <th></th>\n",
       "      <th></th>\n",
       "      <th></th>\n",
       "      <th></th>\n",
       "      <th></th>\n",
       "      <th></th>\n",
       "      <th></th>\n",
       "      <th></th>\n",
       "      <th></th>\n",
       "      <th></th>\n",
       "    </tr>\n",
       "  </thead>\n",
       "  <tbody>\n",
       "    <tr>\n",
       "      <th>0</th>\n",
       "      <td>1</td>\n",
       "      <td>21</td>\n",
       "      <td>1</td>\n",
       "      <td>35.0</td>\n",
       "      <td>0</td>\n",
       "      <td>2</td>\n",
       "      <td>NaN</td>\n",
       "      <td>65101.0</td>\n",
       "      <td>124.0</td>\n",
       "      <td>187</td>\n",
       "      <td>0</td>\n",
       "      <td>42</td>\n",
       "      <td>1367121.0</td>\n",
       "      <td>NaN</td>\n",
       "    </tr>\n",
       "    <tr>\n",
       "      <th>1</th>\n",
       "      <td>1</td>\n",
       "      <td>43</td>\n",
       "      <td>1</td>\n",
       "      <td>28.0</td>\n",
       "      <td>0</td>\n",
       "      <td>3</td>\n",
       "      <td>NaN</td>\n",
       "      <td>58911.0</td>\n",
       "      <td>26.0</td>\n",
       "      <td>288</td>\n",
       "      <td>1</td>\n",
       "      <td>129</td>\n",
       "      <td>2533173.0</td>\n",
       "      <td>NaN</td>\n",
       "    </tr>\n",
       "    <tr>\n",
       "      <th>2</th>\n",
       "      <td>0</td>\n",
       "      <td>25</td>\n",
       "      <td>1</td>\n",
       "      <td>14.0</td>\n",
       "      <td>1</td>\n",
       "      <td>1</td>\n",
       "      <td>NaN</td>\n",
       "      <td>38043.0</td>\n",
       "      <td>152.0</td>\n",
       "      <td>254</td>\n",
       "      <td>0</td>\n",
       "      <td>25</td>\n",
       "      <td>951075.0</td>\n",
       "      <td>NaN</td>\n",
       "    </tr>\n",
       "    <tr>\n",
       "      <th>3</th>\n",
       "      <td>0</td>\n",
       "      <td>35</td>\n",
       "      <td>1</td>\n",
       "      <td>1.0</td>\n",
       "      <td>0</td>\n",
       "      <td>2</td>\n",
       "      <td>NaN</td>\n",
       "      <td>2630.0</td>\n",
       "      <td>156.0</td>\n",
       "      <td>76</td>\n",
       "      <td>0</td>\n",
       "      <td>70</td>\n",
       "      <td>92050.0</td>\n",
       "      <td>NaN</td>\n",
       "    </tr>\n",
       "    <tr>\n",
       "      <th>4</th>\n",
       "      <td>0</td>\n",
       "      <td>36</td>\n",
       "      <td>1</td>\n",
       "      <td>15.0</td>\n",
       "      <td>1</td>\n",
       "      <td>2</td>\n",
       "      <td>NaN</td>\n",
       "      <td>31951.0</td>\n",
       "      <td>152.0</td>\n",
       "      <td>294</td>\n",
       "      <td>0</td>\n",
       "      <td>72</td>\n",
       "      <td>1150236.0</td>\n",
       "      <td>NaN</td>\n",
       "    </tr>\n",
       "  </tbody>\n",
       "</table>\n",
       "</div>"
      ],
      "text/plain": [
       "    Gender  Age  Driving_License  Region_Code  Previously_Insured  \\\n",
       "id                                                                  \n",
       "0        1   21                1         35.0                   0   \n",
       "1        1   43                1         28.0                   0   \n",
       "2        0   25                1         14.0                   1   \n",
       "3        0   35                1          1.0                   0   \n",
       "4        0   36                1         15.0                   1   \n",
       "\n",
       "    Vehicle_Age  Vehicle_Damage  Annual_Premium  Policy_Sales_Channel  \\\n",
       "id                                                                      \n",
       "0             2             NaN         65101.0                 124.0   \n",
       "1             3             NaN         58911.0                  26.0   \n",
       "2             1             NaN         38043.0                 152.0   \n",
       "3             2             NaN          2630.0                 156.0   \n",
       "4             2             NaN         31951.0                 152.0   \n",
       "\n",
       "    Vintage  Response  Age_Vehicle_Age  Age_Annual_Premium  \\\n",
       "id                                                           \n",
       "0       187         0               42           1367121.0   \n",
       "1       288         1              129           2533173.0   \n",
       "2       254         0               25            951075.0   \n",
       "3        76         0               70             92050.0   \n",
       "4       294         0               72           1150236.0   \n",
       "\n",
       "    Vehicle_Damage_Annual_Premium  \n",
       "id                                 \n",
       "0                             NaN  \n",
       "1                             NaN  \n",
       "2                             NaN  \n",
       "3                             NaN  \n",
       "4                             NaN  "
      ]
     },
     "execution_count": 15,
     "metadata": {},
     "output_type": "execute_result"
    }
   ],
   "source": [
    "insurance_data_train.head()"
   ]
  },
  {
   "cell_type": "code",
   "execution_count": 16,
   "metadata": {},
   "outputs": [],
   "source": [
    "y = insurance_data_train['Response']"
   ]
  },
  {
   "cell_type": "code",
   "execution_count": 17,
   "metadata": {},
   "outputs": [],
   "source": [
    "insurance_data_train.drop(['Response'], axis=1, inplace=True)"
   ]
  },
  {
   "cell_type": "code",
   "execution_count": 18,
   "metadata": {},
   "outputs": [
    {
     "data": {
      "text/plain": [
       "(11504798, 13)"
      ]
     },
     "execution_count": 18,
     "metadata": {},
     "output_type": "execute_result"
    }
   ],
   "source": [
    "insurance_data_train.shape"
   ]
  },
  {
   "cell_type": "code",
   "execution_count": 19,
   "metadata": {},
   "outputs": [],
   "source": [
    "insurance_data_train.drop(['Driving_License', 'Gender'], axis=1, inplace=True)\n",
    "insurance_data_test.drop(['Driving_License', 'Gender'], axis=1, inplace=True)"
   ]
  },
  {
   "cell_type": "code",
   "execution_count": 21,
   "metadata": {},
   "outputs": [],
   "source": [
    "insurance_data_test.drop(['id'], axis=1, inplace=True)"
   ]
  },
  {
   "cell_type": "code",
   "execution_count": 22,
   "metadata": {},
   "outputs": [
    {
     "data": {
      "text/plain": [
       "((11504798, 11), (7669866, 11))"
      ]
     },
     "execution_count": 22,
     "metadata": {},
     "output_type": "execute_result"
    }
   ],
   "source": [
    "insurance_data_train.shape, insurance_data_test.shape"
   ]
  },
  {
   "cell_type": "code",
   "execution_count": 23,
   "metadata": {
    "execution": {
     "iopub.execute_input": "2024-07-16T13:56:58.965223Z",
     "iopub.status.busy": "2024-07-16T13:56:58.964812Z",
     "iopub.status.idle": "2024-07-16T13:56:59.464753Z",
     "shell.execute_reply": "2024-07-16T13:56:59.463680Z",
     "shell.execute_reply.started": "2024-07-16T13:56:58.965189Z"
    }
   },
   "outputs": [],
   "source": [
    "X = insurance_data_train.iloc[::]\n",
    "\n",
    "\n",
    "#X_test = insurance_data_test[::]"
   ]
  },
  {
   "cell_type": "code",
   "execution_count": 24,
   "metadata": {},
   "outputs": [
    {
     "data": {
      "text/plain": [
       "(11504798, 11)"
      ]
     },
     "execution_count": 24,
     "metadata": {},
     "output_type": "execute_result"
    }
   ],
   "source": [
    "X.shape"
   ]
  },
  {
   "cell_type": "code",
   "execution_count": 32,
   "metadata": {},
   "outputs": [],
   "source": [
    "X_train, X_test, y_train, y_test = train_test_split(X, y, \n",
    "                                                    test_size=0.11, stratify=y, random_state=42)"
   ]
  },
  {
   "cell_type": "markdown",
   "metadata": {},
   "source": [
    "# Apply  neural network model"
   ]
  },
  {
   "cell_type": "code",
   "execution_count": 23,
   "metadata": {},
   "outputs": [
    {
     "data": {
      "text/html": [
       "<div>\n",
       "<style scoped>\n",
       "    .dataframe tbody tr th:only-of-type {\n",
       "        vertical-align: middle;\n",
       "    }\n",
       "\n",
       "    .dataframe tbody tr th {\n",
       "        vertical-align: top;\n",
       "    }\n",
       "\n",
       "    .dataframe thead th {\n",
       "        text-align: right;\n",
       "    }\n",
       "</style>\n",
       "<table border=\"1\" class=\"dataframe\">\n",
       "  <thead>\n",
       "    <tr style=\"text-align: right;\">\n",
       "      <th></th>\n",
       "      <th>Gender</th>\n",
       "      <th>Age</th>\n",
       "      <th>Driving_License</th>\n",
       "      <th>Region_Code</th>\n",
       "      <th>Previously_Insured</th>\n",
       "      <th>Vehicle_Age</th>\n",
       "      <th>Vehicle_Damage</th>\n",
       "      <th>Annual_Premium</th>\n",
       "      <th>Policy_Sales_Channel</th>\n",
       "      <th>Vintage</th>\n",
       "      <th>Age*Annual_Premium</th>\n",
       "      <th>Region_Code*Policy_Sales_Channel</th>\n",
       "      <th>Age*Vehicle_Damage</th>\n",
       "      <th>Annual_Premium*Vehicle_Age</th>\n",
       "      <th>Annual_Premium_binned</th>\n",
       "      <th>Region_Code_freq</th>\n",
       "    </tr>\n",
       "    <tr>\n",
       "      <th>id</th>\n",
       "      <th></th>\n",
       "      <th></th>\n",
       "      <th></th>\n",
       "      <th></th>\n",
       "      <th></th>\n",
       "      <th></th>\n",
       "      <th></th>\n",
       "      <th></th>\n",
       "      <th></th>\n",
       "      <th></th>\n",
       "      <th></th>\n",
       "      <th></th>\n",
       "      <th></th>\n",
       "      <th></th>\n",
       "      <th></th>\n",
       "      <th></th>\n",
       "    </tr>\n",
       "  </thead>\n",
       "  <tbody>\n",
       "    <tr>\n",
       "      <th>1129106</th>\n",
       "      <td>0</td>\n",
       "      <td>25</td>\n",
       "      <td>1</td>\n",
       "      <td>28.0</td>\n",
       "      <td>0</td>\n",
       "      <td>0</td>\n",
       "      <td>1</td>\n",
       "      <td>30775.0</td>\n",
       "      <td>152.0</td>\n",
       "      <td>256</td>\n",
       "      <td>769375.0</td>\n",
       "      <td>4256.0</td>\n",
       "      <td>25</td>\n",
       "      <td>0.0</td>\n",
       "      <td>2</td>\n",
       "      <td>0.299967</td>\n",
       "    </tr>\n",
       "    <tr>\n",
       "      <th>9554468</th>\n",
       "      <td>1</td>\n",
       "      <td>48</td>\n",
       "      <td>1</td>\n",
       "      <td>28.0</td>\n",
       "      <td>0</td>\n",
       "      <td>1</td>\n",
       "      <td>1</td>\n",
       "      <td>35693.0</td>\n",
       "      <td>124.0</td>\n",
       "      <td>11</td>\n",
       "      <td>1713264.0</td>\n",
       "      <td>3472.0</td>\n",
       "      <td>48</td>\n",
       "      <td>35693.0</td>\n",
       "      <td>2</td>\n",
       "      <td>0.299967</td>\n",
       "    </tr>\n",
       "    <tr>\n",
       "      <th>5397130</th>\n",
       "      <td>1</td>\n",
       "      <td>42</td>\n",
       "      <td>1</td>\n",
       "      <td>45.0</td>\n",
       "      <td>0</td>\n",
       "      <td>1</td>\n",
       "      <td>1</td>\n",
       "      <td>27863.0</td>\n",
       "      <td>124.0</td>\n",
       "      <td>172</td>\n",
       "      <td>1170246.0</td>\n",
       "      <td>5580.0</td>\n",
       "      <td>42</td>\n",
       "      <td>27863.0</td>\n",
       "      <td>1</td>\n",
       "      <td>0.013846</td>\n",
       "    </tr>\n",
       "    <tr>\n",
       "      <th>1915003</th>\n",
       "      <td>0</td>\n",
       "      <td>23</td>\n",
       "      <td>1</td>\n",
       "      <td>46.0</td>\n",
       "      <td>1</td>\n",
       "      <td>0</td>\n",
       "      <td>0</td>\n",
       "      <td>22345.0</td>\n",
       "      <td>152.0</td>\n",
       "      <td>130</td>\n",
       "      <td>513935.0</td>\n",
       "      <td>6992.0</td>\n",
       "      <td>0</td>\n",
       "      <td>0.0</td>\n",
       "      <td>1</td>\n",
       "      <td>0.050258</td>\n",
       "    </tr>\n",
       "    <tr>\n",
       "      <th>2508839</th>\n",
       "      <td>0</td>\n",
       "      <td>42</td>\n",
       "      <td>1</td>\n",
       "      <td>28.0</td>\n",
       "      <td>0</td>\n",
       "      <td>2</td>\n",
       "      <td>1</td>\n",
       "      <td>34367.0</td>\n",
       "      <td>26.0</td>\n",
       "      <td>169</td>\n",
       "      <td>1443414.0</td>\n",
       "      <td>728.0</td>\n",
       "      <td>42</td>\n",
       "      <td>68734.0</td>\n",
       "      <td>2</td>\n",
       "      <td>0.299967</td>\n",
       "    </tr>\n",
       "    <tr>\n",
       "      <th>...</th>\n",
       "      <td>...</td>\n",
       "      <td>...</td>\n",
       "      <td>...</td>\n",
       "      <td>...</td>\n",
       "      <td>...</td>\n",
       "      <td>...</td>\n",
       "      <td>...</td>\n",
       "      <td>...</td>\n",
       "      <td>...</td>\n",
       "      <td>...</td>\n",
       "      <td>...</td>\n",
       "      <td>...</td>\n",
       "      <td>...</td>\n",
       "      <td>...</td>\n",
       "      <td>...</td>\n",
       "      <td>...</td>\n",
       "    </tr>\n",
       "    <tr>\n",
       "      <th>1837680</th>\n",
       "      <td>1</td>\n",
       "      <td>25</td>\n",
       "      <td>1</td>\n",
       "      <td>46.0</td>\n",
       "      <td>0</td>\n",
       "      <td>0</td>\n",
       "      <td>1</td>\n",
       "      <td>49355.0</td>\n",
       "      <td>152.0</td>\n",
       "      <td>242</td>\n",
       "      <td>1233875.0</td>\n",
       "      <td>6992.0</td>\n",
       "      <td>25</td>\n",
       "      <td>0.0</td>\n",
       "      <td>2</td>\n",
       "      <td>0.050258</td>\n",
       "    </tr>\n",
       "    <tr>\n",
       "      <th>5518931</th>\n",
       "      <td>0</td>\n",
       "      <td>48</td>\n",
       "      <td>1</td>\n",
       "      <td>28.0</td>\n",
       "      <td>0</td>\n",
       "      <td>1</td>\n",
       "      <td>1</td>\n",
       "      <td>41405.0</td>\n",
       "      <td>122.0</td>\n",
       "      <td>207</td>\n",
       "      <td>1987440.0</td>\n",
       "      <td>3416.0</td>\n",
       "      <td>48</td>\n",
       "      <td>41405.0</td>\n",
       "      <td>2</td>\n",
       "      <td>0.299967</td>\n",
       "    </tr>\n",
       "    <tr>\n",
       "      <th>1196686</th>\n",
       "      <td>1</td>\n",
       "      <td>51</td>\n",
       "      <td>1</td>\n",
       "      <td>21.0</td>\n",
       "      <td>0</td>\n",
       "      <td>1</td>\n",
       "      <td>1</td>\n",
       "      <td>28280.0</td>\n",
       "      <td>26.0</td>\n",
       "      <td>106</td>\n",
       "      <td>1442280.0</td>\n",
       "      <td>546.0</td>\n",
       "      <td>51</td>\n",
       "      <td>28280.0</td>\n",
       "      <td>1</td>\n",
       "      <td>0.011021</td>\n",
       "    </tr>\n",
       "    <tr>\n",
       "      <th>2912478</th>\n",
       "      <td>0</td>\n",
       "      <td>23</td>\n",
       "      <td>1</td>\n",
       "      <td>15.0</td>\n",
       "      <td>0</td>\n",
       "      <td>0</td>\n",
       "      <td>1</td>\n",
       "      <td>29929.0</td>\n",
       "      <td>152.0</td>\n",
       "      <td>158</td>\n",
       "      <td>688367.0</td>\n",
       "      <td>2280.0</td>\n",
       "      <td>23</td>\n",
       "      <td>0.0</td>\n",
       "      <td>1</td>\n",
       "      <td>0.035114</td>\n",
       "    </tr>\n",
       "    <tr>\n",
       "      <th>6241578</th>\n",
       "      <td>1</td>\n",
       "      <td>69</td>\n",
       "      <td>1</td>\n",
       "      <td>23.0</td>\n",
       "      <td>0</td>\n",
       "      <td>1</td>\n",
       "      <td>1</td>\n",
       "      <td>29057.0</td>\n",
       "      <td>154.0</td>\n",
       "      <td>272</td>\n",
       "      <td>2004933.0</td>\n",
       "      <td>3542.0</td>\n",
       "      <td>69</td>\n",
       "      <td>29057.0</td>\n",
       "      <td>1</td>\n",
       "      <td>0.004739</td>\n",
       "    </tr>\n",
       "  </tbody>\n",
       "</table>\n",
       "<p>9203838 rows × 16 columns</p>\n",
       "</div>"
      ],
      "text/plain": [
       "         Gender  Age  Driving_License  Region_Code  Previously_Insured  \\\n",
       "id                                                                       \n",
       "1129106       0   25                1         28.0                   0   \n",
       "9554468       1   48                1         28.0                   0   \n",
       "5397130       1   42                1         45.0                   0   \n",
       "1915003       0   23                1         46.0                   1   \n",
       "2508839       0   42                1         28.0                   0   \n",
       "...         ...  ...              ...          ...                 ...   \n",
       "1837680       1   25                1         46.0                   0   \n",
       "5518931       0   48                1         28.0                   0   \n",
       "1196686       1   51                1         21.0                   0   \n",
       "2912478       0   23                1         15.0                   0   \n",
       "6241578       1   69                1         23.0                   0   \n",
       "\n",
       "         Vehicle_Age  Vehicle_Damage  Annual_Premium  Policy_Sales_Channel  \\\n",
       "id                                                                           \n",
       "1129106            0               1         30775.0                 152.0   \n",
       "9554468            1               1         35693.0                 124.0   \n",
       "5397130            1               1         27863.0                 124.0   \n",
       "1915003            0               0         22345.0                 152.0   \n",
       "2508839            2               1         34367.0                  26.0   \n",
       "...              ...             ...             ...                   ...   \n",
       "1837680            0               1         49355.0                 152.0   \n",
       "5518931            1               1         41405.0                 122.0   \n",
       "1196686            1               1         28280.0                  26.0   \n",
       "2912478            0               1         29929.0                 152.0   \n",
       "6241578            1               1         29057.0                 154.0   \n",
       "\n",
       "         Vintage  Age*Annual_Premium  Region_Code*Policy_Sales_Channel  \\\n",
       "id                                                                       \n",
       "1129106      256            769375.0                            4256.0   \n",
       "9554468       11           1713264.0                            3472.0   \n",
       "5397130      172           1170246.0                            5580.0   \n",
       "1915003      130            513935.0                            6992.0   \n",
       "2508839      169           1443414.0                             728.0   \n",
       "...          ...                 ...                               ...   \n",
       "1837680      242           1233875.0                            6992.0   \n",
       "5518931      207           1987440.0                            3416.0   \n",
       "1196686      106           1442280.0                             546.0   \n",
       "2912478      158            688367.0                            2280.0   \n",
       "6241578      272           2004933.0                            3542.0   \n",
       "\n",
       "         Age*Vehicle_Damage  Annual_Premium*Vehicle_Age  \\\n",
       "id                                                        \n",
       "1129106                  25                         0.0   \n",
       "9554468                  48                     35693.0   \n",
       "5397130                  42                     27863.0   \n",
       "1915003                   0                         0.0   \n",
       "2508839                  42                     68734.0   \n",
       "...                     ...                         ...   \n",
       "1837680                  25                         0.0   \n",
       "5518931                  48                     41405.0   \n",
       "1196686                  51                     28280.0   \n",
       "2912478                  23                         0.0   \n",
       "6241578                  69                     29057.0   \n",
       "\n",
       "         Annual_Premium_binned  Region_Code_freq  \n",
       "id                                                \n",
       "1129106                      2          0.299967  \n",
       "9554468                      2          0.299967  \n",
       "5397130                      1          0.013846  \n",
       "1915003                      1          0.050258  \n",
       "2508839                      2          0.299967  \n",
       "...                        ...               ...  \n",
       "1837680                      2          0.050258  \n",
       "5518931                      2          0.299967  \n",
       "1196686                      1          0.011021  \n",
       "2912478                      1          0.035114  \n",
       "6241578                      1          0.004739  \n",
       "\n",
       "[9203838 rows x 16 columns]"
      ]
     },
     "execution_count": 23,
     "metadata": {},
     "output_type": "execute_result"
    }
   ],
   "source": [
    "X_train"
   ]
  },
  {
   "cell_type": "code",
   "execution_count": 33,
   "metadata": {
    "execution": {
     "iopub.execute_input": "2024-07-10T12:20:53.507753Z",
     "iopub.status.busy": "2024-07-10T12:20:53.507342Z",
     "iopub.status.idle": "2024-07-10T12:20:53.514716Z",
     "shell.execute_reply": "2024-07-10T12:20:53.513327Z",
     "shell.execute_reply.started": "2024-07-10T12:20:53.507718Z"
    }
   },
   "outputs": [
    {
     "name": "stdout",
     "output_type": "stream",
     "text": [
      "(10239270, 11) (10239270,) (1265528, 11) (1265528,)\n"
     ]
    }
   ],
   "source": [
    "print(X_train.shape, y_train.shape, X_test.shape, y_test.shape)\n"
   ]
  },
  {
   "cell_type": "code",
   "execution_count": 34,
   "metadata": {},
   "outputs": [],
   "source": [
    "# Try to sacle the training for only neural network\n",
    "scaler = StandardScaler()\n",
    "X_train_scaled = scaler.fit_transform(X_train)\n",
    "X_test_scaled = scaler.fit_transform(X_test)"
   ]
  },
  {
   "cell_type": "code",
   "execution_count": 35,
   "metadata": {
    "execution": {
     "iopub.execute_input": "2024-07-10T12:24:51.252540Z",
     "iopub.status.busy": "2024-07-10T12:24:51.252106Z",
     "iopub.status.idle": "2024-07-10T12:24:51.305684Z",
     "shell.execute_reply": "2024-07-10T12:24:51.303909Z",
     "shell.execute_reply.started": "2024-07-10T12:24:51.252501Z"
    }
   },
   "outputs": [
    {
     "data": {
      "text/plain": [
       "'model = Sequential(\\n    [               \\n        tf.keras.Input(shape=(6,)),    #specify input size\\n        ### START CODE HERE ### \\n        Dense(units = 256, activation=\\'leaky_relu\\'),#layer-1\\n        Dense(units = 128, activation=\\'leaky_relu\\'),#layer-2\\n        Dense(units = 64, activation=\\'leaky_relu\\'),#layer-3\\n        Dense(units = 32, activation=\\'leaky_relu\\'), #layer-4\\n        Dense(units = 1, activation=\\'sigmoid\\')#output layer\\n        \\n        ### END CODE HERE ### \\n    ], name = \"nn_model\" \\n)                            \\n'"
      ]
     },
     "execution_count": 35,
     "metadata": {},
     "output_type": "execute_result"
    }
   ],
   "source": [
    "model = tf.keras.models.Sequential()\n",
    "\n",
    "# Neurons, dropouts\n",
    "model.add(tf.keras.layers.Dense(units=256, input_dim=X_train.shape[1] ))\n",
    "#model.add(keras.layers.BatchNormalization())\n",
    "model.add(tf.keras.layers.Dense(units=128, activation='relu'))\n",
    "model.add(tf.keras.layers.Dropout(0.001))\n",
    "model.add(tf.keras.layers.Dense(units=64,  activation='relu'))\n",
    "model.add(tf.keras.layers.Dropout(0.002))\n",
    "model.add(tf.keras.layers.Dense(units=32, activation='relu'))\n",
    "model.add(tf.keras.layers.Dropout(0.003))\n",
    "model.add(tf.keras.layers.Dense(units=16, activation='relu'))\n",
    "model.add(tf.keras.layers.Dropout(0.004))\n",
    "#model.add(tf.keras.layers.Dense(units=32, activation='leaky_relu'))\n",
    "#model.add(tf.keras.layers.Dropout(0.01))\n",
    "#model.add(tf.keras.layers.Dense(units=16, activation='leaky_relu'))\n",
    "#model.add(tf.keras.layers.Dropout(0.01))\n",
    "model.add(tf.keras.layers.Dense(units=1, activation='sigmoid')) # output unit must be 1\n",
    "\n",
    "\n",
    "\"\"\"model = Sequential(\n",
    "    [               \n",
    "        tf.keras.Input(shape=(6,)),    #specify input size\n",
    "        ### START CODE HERE ### \n",
    "        Dense(units = 256, activation='leaky_relu'),#layer-1\n",
    "        Dense(units = 128, activation='leaky_relu'),#layer-2\n",
    "        Dense(units = 64, activation='leaky_relu'),#layer-3\n",
    "        Dense(units = 32, activation='leaky_relu'), #layer-4\n",
    "        Dense(units = 1, activation='sigmoid')#output layer\n",
    "        \n",
    "        ### END CODE HERE ### \n",
    "    ], name = \"nn_model\" \n",
    ")                            \n",
    "\"\"\""
   ]
  },
  {
   "cell_type": "code",
   "execution_count": 36,
   "metadata": {
    "execution": {
     "iopub.execute_input": "2024-07-10T12:25:00.161886Z",
     "iopub.status.busy": "2024-07-10T12:25:00.161378Z",
     "iopub.status.idle": "2024-07-10T12:25:00.190682Z",
     "shell.execute_reply": "2024-07-10T12:25:00.189245Z",
     "shell.execute_reply.started": "2024-07-10T12:25:00.161847Z"
    }
   },
   "outputs": [
    {
     "name": "stdout",
     "output_type": "stream",
     "text": [
      "Model: \"sequential\"\n",
      "_________________________________________________________________\n",
      " Layer (type)                Output Shape              Param #   \n",
      "=================================================================\n",
      " dense (Dense)               (None, 256)               3072      \n",
      "                                                                 \n",
      " dense_1 (Dense)             (None, 128)               32896     \n",
      "                                                                 \n",
      " dropout (Dropout)           (None, 128)               0         \n",
      "                                                                 \n",
      " dense_2 (Dense)             (None, 64)                8256      \n",
      "                                                                 \n",
      " dropout_1 (Dropout)         (None, 64)                0         \n",
      "                                                                 \n",
      " dense_3 (Dense)             (None, 32)                2080      \n",
      "                                                                 \n",
      " dropout_2 (Dropout)         (None, 32)                0         \n",
      "                                                                 \n",
      " dense_4 (Dense)             (None, 16)                528       \n",
      "                                                                 \n",
      " dropout_3 (Dropout)         (None, 16)                0         \n",
      "                                                                 \n",
      " dense_5 (Dense)             (None, 1)                 17        \n",
      "                                                                 \n",
      "=================================================================\n",
      "Total params: 46849 (183.00 KB)\n",
      "Trainable params: 46849 (183.00 KB)\n",
      "Non-trainable params: 0 (0.00 Byte)\n",
      "_________________________________________________________________\n"
     ]
    }
   ],
   "source": [
    "model.summary()"
   ]
  },
  {
   "cell_type": "code",
   "execution_count": 37,
   "metadata": {
    "execution": {
     "iopub.execute_input": "2024-07-10T12:27:47.252030Z",
     "iopub.status.busy": "2024-07-10T12:27:47.251592Z"
    }
   },
   "outputs": [
    {
     "name": "stdout",
     "output_type": "stream",
     "text": [
      "Epoch 1/6\n",
      "3414/3414 [==============================] - 119s 34ms/step - loss: nan - accuracy: 0.8770 - val_loss: nan - val_accuracy: 0.8770\n",
      "Epoch 2/6\n",
      "3414/3414 [==============================] - 110s 32ms/step - loss: nan - accuracy: 0.8770 - val_loss: nan - val_accuracy: 0.8770\n",
      "Epoch 3/6\n",
      "3414/3414 [==============================] - 163s 48ms/step - loss: nan - accuracy: 0.8770 - val_loss: nan - val_accuracy: 0.8770\n",
      "Epoch 4/6\n",
      "3414/3414 [==============================] - 141s 41ms/step - loss: nan - accuracy: 0.8770 - val_loss: nan - val_accuracy: 0.8770\n",
      "Epoch 5/6\n",
      "3414/3414 [==============================] - 147s 43ms/step - loss: nan - accuracy: 0.8770 - val_loss: nan - val_accuracy: 0.8770\n",
      "Epoch 6/6\n",
      "3414/3414 [==============================] - 130s 38ms/step - loss: nan - accuracy: 0.8770 - val_loss: nan - val_accuracy: 0.8770\n"
     ]
    }
   ],
   "source": [
    "model.compile(\n",
    "    loss=tf.keras.losses.BinaryCrossentropy(),\n",
    "    optimizer=tf.keras.optimizers.Adam(0.0025),\n",
    "    metrics=['accuracy'],\n",
    ")\n",
    "\n",
    "history = model.fit(\n",
    "    X_train_scaled,\n",
    "    y_train,\n",
    "    batch_size=3000,\n",
    "    epochs=6,\n",
    "    validation_data=(X_test_scaled, y_test),\n",
    "    \n",
    ")"
   ]
  },
  {
   "cell_type": "code",
   "execution_count": 38,
   "metadata": {},
   "outputs": [
    {
     "data": {
      "image/png": "[encoded data removed]",
      "text/plain": [
       "<Figure size 800x800 with 2 Axes>"
      ]
     },
     "metadata": {},
     "output_type": "display_data"
    }
   ],
   "source": [
    "acc = history.history['accuracy']\n",
    "val_acc = history.history['val_accuracy']\n",
    "\n",
    "loss = history.history['loss']\n",
    "val_loss = history.history['val_loss']\n",
    "\n",
    "epochs_range = range(6)\n",
    "\n",
    "plt.figure(figsize=(8, 8))\n",
    "plt.subplot(1, 2, 1)\n",
    "plt.plot(epochs_range, acc, label='Training Accuracy')\n",
    "plt.plot(epochs_range, val_acc, label='Validation Accuracy')\n",
    "plt.legend(loc='lower right')\n",
    "plt.title('Training and Validation Accuracy')\n",
    "\n",
    "plt.subplot(1, 2, 2)\n",
    "plt.plot(epochs_range, loss, label='Training Loss')\n",
    "plt.plot(epochs_range, val_loss, label='Validation Loss')\n",
    "plt.legend(loc='upper right')\n",
    "plt.title('Training and Validation Loss')\n",
    "plt.show()"
   ]
  },
  {
   "cell_type": "code",
   "execution_count": 42,
   "metadata": {},
   "outputs": [],
   "source": [
    "X_test = insurance_data_test.iloc[::]"
   ]
  },
  {
   "cell_type": "code",
   "execution_count": 43,
   "metadata": {},
   "outputs": [
    {
     "data": {
      "text/plain": [
       "(7669866, 16)"
      ]
     },
     "execution_count": 43,
     "metadata": {},
     "output_type": "execute_result"
    }
   ],
   "source": [
    "X_test.shape"
   ]
  },
  {
   "cell_type": "code",
   "execution_count": 44,
   "metadata": {},
   "outputs": [],
   "source": [
    "X_test_scaled = scaler.fit_transform(X_test)"
   ]
  },
  {
   "cell_type": "code",
   "execution_count": 45,
   "metadata": {},
   "outputs": [
    {
     "data": {
      "text/plain": [
       "array([[-1.08622761, -1.22613164,  0.044532  , ..., -0.7829764 ,\n",
       "        -1.66162109, -0.73195356],\n",
       "       [ 0.92061736,  0.57392768,  0.044532  , ...,  0.79090489,\n",
       "         0.59089251,  1.5046813 ],\n",
       "       [ 0.92061736,  0.57392768,  0.044532  , ..., -0.67254479,\n",
       "        -1.66162109, -0.83804544],\n",
       "       ...,\n",
       "       [ 0.92061736,  0.57392768,  0.044532  , ..., -0.67254479,\n",
       "        -1.66162109, -0.72889894],\n",
       "       [ 0.92061736, -0.55944301,  0.044532  , ..., -0.7829764 ,\n",
       "         0.59089251,  1.5046813 ],\n",
       "       [ 0.92061736, -1.02612505,  0.044532  , ..., -0.7829764 ,\n",
       "        -0.53536429, -0.48885061]])"
      ]
     },
     "execution_count": 45,
     "metadata": {},
     "output_type": "execute_result"
    }
   ],
   "source": [
    "X_test_scaled"
   ]
  },
  {
   "cell_type": "code",
   "execution_count": 46,
   "metadata": {},
   "outputs": [
    {
     "name": "stdout",
     "output_type": "stream",
     "text": [
      "239684/239684 [==============================] - 388s 2ms/step\n"
     ]
    }
   ],
   "source": [
    "prediction = model.predict(X_test_scaled)"
   ]
  },
  {
   "cell_type": "code",
   "execution_count": 47,
   "metadata": {},
   "outputs": [
    {
     "data": {
      "text/plain": [
       "array([[3.3490535e-02],\n",
       "       [2.9017422e-01],\n",
       "       [2.2494279e-01],\n",
       "       ...,\n",
       "       [2.0514375e-03],\n",
       "       [5.5435228e-01],\n",
       "       [3.7062928e-04]], dtype=float32)"
      ]
     },
     "execution_count": 47,
     "metadata": {},
     "output_type": "execute_result"
    }
   ],
   "source": [
    "prediction"
   ]
  },
  {
   "cell_type": "code",
   "execution_count": 48,
   "metadata": {},
   "outputs": [],
   "source": [
    "submit = pd.read_csv('./kaggle/sample_submission/sample_submission.csv')\n",
    "submit.Response = prediction\n",
    "submit[['id', 'Response']].to_csv('./kaggle/working/neural_network.csv', index=False)"
   ]
  },
  {
   "cell_type": "code",
   "execution_count": 49,
   "metadata": {},
   "outputs": [
    {
     "data": {
      "text/html": [
       "<div>\n",
       "<style scoped>\n",
       "    .dataframe tbody tr th:only-of-type {\n",
       "        vertical-align: middle;\n",
       "    }\n",
       "\n",
       "    .dataframe tbody tr th {\n",
       "        vertical-align: top;\n",
       "    }\n",
       "\n",
       "    .dataframe thead th {\n",
       "        text-align: right;\n",
       "    }\n",
       "</style>\n",
       "<table border=\"1\" class=\"dataframe\">\n",
       "  <thead>\n",
       "    <tr style=\"text-align: right;\">\n",
       "      <th></th>\n",
       "      <th>id</th>\n",
       "      <th>Response</th>\n",
       "    </tr>\n",
       "  </thead>\n",
       "  <tbody>\n",
       "    <tr>\n",
       "      <th>0</th>\n",
       "      <td>11504798</td>\n",
       "      <td>0.033491</td>\n",
       "    </tr>\n",
       "    <tr>\n",
       "      <th>1</th>\n",
       "      <td>11504799</td>\n",
       "      <td>0.290174</td>\n",
       "    </tr>\n",
       "    <tr>\n",
       "      <th>2</th>\n",
       "      <td>11504800</td>\n",
       "      <td>0.224943</td>\n",
       "    </tr>\n",
       "    <tr>\n",
       "      <th>3</th>\n",
       "      <td>11504801</td>\n",
       "      <td>0.000383</td>\n",
       "    </tr>\n",
       "    <tr>\n",
       "      <th>4</th>\n",
       "      <td>11504802</td>\n",
       "      <td>0.037532</td>\n",
       "    </tr>\n",
       "  </tbody>\n",
       "</table>\n",
       "</div>"
      ],
      "text/plain": [
       "         id  Response\n",
       "0  11504798  0.033491\n",
       "1  11504799  0.290174\n",
       "2  11504800  0.224943\n",
       "3  11504801  0.000383\n",
       "4  11504802  0.037532"
      ]
     },
     "execution_count": 49,
     "metadata": {},
     "output_type": "execute_result"
    }
   ],
   "source": [
    "submit.head()"
   ]
  },
  {
   "cell_type": "markdown",
   "metadata": {},
   "source": [
    "# Applying LightGBM "
   ]
  },
  {
   "cell_type": "code",
   "execution_count": 39,
   "metadata": {},
   "outputs": [],
   "source": [
    "X_train, X_test, y_train, y_test = train_test_split(X, y, test_size=0.11, random_state=42)"
   ]
  },
  {
   "cell_type": "code",
   "execution_count": 51,
   "metadata": {},
   "outputs": [
    {
     "name": "stdout",
     "output_type": "stream",
     "text": [
      "Collecting lightgbm\n",
      "  Downloading lightgbm-4.5.0-py3-none-win_amd64.whl (1.4 MB)\n",
      "     ---------------------------------------- 1.4/1.4 MB 2.8 MB/s eta 0:00:00\n",
      "Requirement already satisfied: scipy in c:\\users\\ashraf\\anaconda3\\lib\\site-packages (from lightgbm) (1.9.1)\n",
      "Requirement already satisfied: numpy>=1.17.0 in c:\\users\\ashraf\\anaconda3\\lib\\site-packages (from lightgbm) (1.24.3)\n",
      "Installing collected packages: lightgbm\n",
      "Successfully installed lightgbm-4.5.0\n"
     ]
    }
   ],
   "source": [
    "!pip install lightgbm"
   ]
  },
  {
   "cell_type": "code",
   "execution_count": 40,
   "metadata": {},
   "outputs": [],
   "source": [
    "import lightgbm as lgb"
   ]
  },
  {
   "cell_type": "code",
   "execution_count": 41,
   "metadata": {},
   "outputs": [],
   "source": [
    "train_data = lgb.Dataset(X_train, label=y_train)\n",
    "test_data = lgb.Dataset(X_test, label=y_test, reference=train_data)"
   ]
  },
  {
   "cell_type": "code",
   "execution_count": 42,
   "metadata": {},
   "outputs": [
    {
     "name": "stdout",
     "output_type": "stream",
     "text": [
      "[LightGBM] [Info] Number of positive: 1259246, number of negative: 8980024\n",
      "[LightGBM] [Info] Auto-choosing col-wise multi-threading, the overhead of testing was 0.737890 seconds.\n",
      "You can set `force_col_wise=true` to remove the overhead.\n",
      "[LightGBM] [Info] Total Bins 1129\n",
      "[LightGBM] [Info] Number of data points in the train set: 10239270, number of used features: 11\n",
      "[LightGBM] [Info] [binary:BoostFromScore]: pavg=0.122982 -> initscore=-1.964489\n",
      "[LightGBM] [Info] Start training from score -1.964489\n",
      "Training until validation scores don't improve for 20 rounds\n",
      "[50]\tvalid_0's auc: 0.863573\n",
      "[100]\tvalid_0's auc: 0.867478\n",
      "[150]\tvalid_0's auc: 0.869004\n",
      "[200]\tvalid_0's auc: 0.869797\n",
      "[250]\tvalid_0's auc: 0.870337\n",
      "[300]\tvalid_0's auc: 0.870644\n",
      "[350]\tvalid_0's auc: 0.870836\n",
      "[400]\tvalid_0's auc: 0.871026\n",
      "[450]\tvalid_0's auc: 0.871155\n",
      "[500]\tvalid_0's auc: 0.871273\n",
      "[550]\tvalid_0's auc: 0.871364\n",
      "[600]\tvalid_0's auc: 0.871449\n",
      "[650]\tvalid_0's auc: 0.87151\n",
      "[700]\tvalid_0's auc: 0.871575\n",
      "[750]\tvalid_0's auc: 0.871633\n",
      "[800]\tvalid_0's auc: 0.871683\n",
      "[850]\tvalid_0's auc: 0.871733\n",
      "Early stopping, best iteration is:\n",
      "[853]\tvalid_0's auc: 0.871735\n"
     ]
    }
   ],
   "source": [
    "params = {\n",
    "    'objective': 'binary',\n",
    "    'metric': 'auc',\n",
    "    'boosting_type': 'gbdt',\n",
    "    'num_leaves': 64,\n",
    "    'learning_rate': 0.075,\n",
    "    'feature_fraction': 0.8,\n",
    "    'bagging_fraction': 0.8,\n",
    "    'bagging_freq': 5,\n",
    "    'lambda_l1': 0.1,\n",
    "    'lambda_l2': 0.1,\n",
    "    'max_depth': 10\n",
    "}\n",
    "\n",
    "bst = lgb.train(\n",
    "    params,\n",
    "    train_data,\n",
    "    num_boost_round=1308,             # Increased boost rounds\n",
    "    valid_sets=[test_data],\n",
    "    callbacks=[lgb.early_stopping(stopping_rounds=20), lgb.log_evaluation(50)]\n",
    ")"
   ]
  },
  {
   "cell_type": "code",
   "execution_count": 43,
   "metadata": {},
   "outputs": [
    {
     "name": "stdout",
     "output_type": "stream",
     "text": [
      "ROC AUC Score: 0.8717346472398119\n"
     ]
    }
   ],
   "source": [
    "y_pred_prob = bst.predict(X_test, num_iteration=bst.best_iteration)\n",
    "roc_auc = roc_auc_score(y_test, y_pred_prob)\n",
    "print(f'ROC AUC Score: {roc_auc}')"
   ]
  },
  {
   "cell_type": "code",
   "execution_count": 48,
   "metadata": {},
   "outputs": [
    {
     "data": {
      "text/plain": [
       "array([4.25195654e-01, 1.01775058e-01, 2.93796234e-01, ...,\n",
       "       1.13053897e-04, 5.42336783e-02, 1.95999612e-02])"
      ]
     },
     "execution_count": 48,
     "metadata": {},
     "output_type": "execute_result"
    }
   ],
   "source": [
    "y_pred_prob"
   ]
  },
  {
   "cell_type": "code",
   "execution_count": 44,
   "metadata": {},
   "outputs": [
    {
     "data": {
      "text/plain": [
       "(7669866, 11)"
      ]
     },
     "execution_count": 44,
     "metadata": {},
     "output_type": "execute_result"
    }
   ],
   "source": [
    "insurance_data_test.shape"
   ]
  },
  {
   "cell_type": "code",
   "execution_count": 45,
   "metadata": {},
   "outputs": [],
   "source": [
    "X_test = insurance_data_test.iloc[::]"
   ]
  },
  {
   "cell_type": "code",
   "execution_count": 49,
   "metadata": {},
   "outputs": [],
   "source": [
    "prediction = bst.predict(X_test)"
   ]
  },
  {
   "cell_type": "code",
   "execution_count": 51,
   "metadata": {},
   "outputs": [],
   "source": [
    "submit = pd.read_csv('./kaggle/sample_submission/sample_submission.csv')\n",
    "submit.Response = prediction[::]\n",
    "submit[['id', 'Response']].to_csv('./kaggle/working/lightgbm.csv', index=False)"
   ]
  },
  {
   "cell_type": "code",
   "execution_count": 52,
   "metadata": {},
   "outputs": [
    {
     "data": {
      "text/html": [
       "<div>\n",
       "<style scoped>\n",
       "    .dataframe tbody tr th:only-of-type {\n",
       "        vertical-align: middle;\n",
       "    }\n",
       "\n",
       "    .dataframe tbody tr th {\n",
       "        vertical-align: top;\n",
       "    }\n",
       "\n",
       "    .dataframe thead th {\n",
       "        text-align: right;\n",
       "    }\n",
       "</style>\n",
       "<table border=\"1\" class=\"dataframe\">\n",
       "  <thead>\n",
       "    <tr style=\"text-align: right;\">\n",
       "      <th></th>\n",
       "      <th>id</th>\n",
       "      <th>Response</th>\n",
       "    </tr>\n",
       "  </thead>\n",
       "  <tbody>\n",
       "    <tr>\n",
       "      <th>0</th>\n",
       "      <td>11504798</td>\n",
       "      <td>0.014172</td>\n",
       "    </tr>\n",
       "    <tr>\n",
       "      <th>1</th>\n",
       "      <td>11504799</td>\n",
       "      <td>0.448593</td>\n",
       "    </tr>\n",
       "    <tr>\n",
       "      <th>2</th>\n",
       "      <td>11504800</td>\n",
       "      <td>0.193409</td>\n",
       "    </tr>\n",
       "    <tr>\n",
       "      <th>3</th>\n",
       "      <td>11504801</td>\n",
       "      <td>0.000229</td>\n",
       "    </tr>\n",
       "    <tr>\n",
       "      <th>4</th>\n",
       "      <td>11504802</td>\n",
       "      <td>0.275774</td>\n",
       "    </tr>\n",
       "  </tbody>\n",
       "</table>\n",
       "</div>"
      ],
      "text/plain": [
       "         id  Response\n",
       "0  11504798  0.014172\n",
       "1  11504799  0.448593\n",
       "2  11504800  0.193409\n",
       "3  11504801  0.000229\n",
       "4  11504802  0.275774"
      ]
     },
     "execution_count": 52,
     "metadata": {},
     "output_type": "execute_result"
    }
   ],
   "source": [
    "submit.head()"
   ]
  },
  {
   "cell_type": "markdown",
   "metadata": {},
   "source": [
    "# Applying XGBoost"
   ]
  },
  {
   "cell_type": "code",
   "execution_count": 33,
   "metadata": {},
   "outputs": [],
   "source": [
    "X_train, X_test, y_train, y_test = train_test_split(X, y, \n",
    "                                                    test_size=0.2, random_state=42)"
   ]
  },
  {
   "cell_type": "code",
   "execution_count": 34,
   "metadata": {},
   "outputs": [],
   "source": [
    "# Try to sacle the training for only neural network\n",
    "scaler = StandardScaler()\n",
    "X_train_scaled = scaler.fit_transform(X_train)\n",
    "X_test_scaled = scaler.fit_transform(X_test)"
   ]
  },
  {
   "cell_type": "code",
   "execution_count": 35,
   "metadata": {},
   "outputs": [
    {
     "data": {
      "text/plain": [
       "XGBClassifier(base_score=None, booster=None, callbacks=None,\n",
       "              colsample_bylevel=None, colsample_bynode=None,\n",
       "              colsample_bytree=None, device=None, early_stopping_rounds=None,\n",
       "              enable_categorical=False, eval_metric=None, feature_types=None,\n",
       "              gamma=None, grow_policy=None, importance_type=None,\n",
       "              interaction_constraints=None, learning_rate=None, max_bin=None,\n",
       "              max_cat_threshold=None, max_cat_to_onehot=None,\n",
       "              max_delta_step=None, max_depth=25, max_leaves=None,\n",
       "              min_child_weight=None, missing=nan, monotone_constraints=None,\n",
       "              multi_strategy=None, n_estimators=500, n_jobs=None,\n",
       "              num_parallel_tree=None, random_state=None, ...)"
      ]
     },
     "execution_count": 35,
     "metadata": {},
     "output_type": "execute_result"
    }
   ],
   "source": [
    "model = xgb.XGBClassifier(objective = 'binary:logistic', max_depth = 25 , \n",
    "                         n_estimators = 500)\n",
    "model.fit(X_train_scaled, y_train)"
   ]
  },
  {
   "cell_type": "code",
   "execution_count": 36,
   "metadata": {},
   "outputs": [
    {
     "name": "stdout",
     "output_type": "stream",
     "text": [
      "Accuracy: 0.8521586642097212\n"
     ]
    }
   ],
   "source": [
    "y_pred = model.predict(X_test_scaled)\n",
    "accuracy = accuracy_score(y_test, y_pred)\n",
    "print(f'Accuracy: {accuracy}')"
   ]
  },
  {
   "cell_type": "code",
   "execution_count": 25,
   "metadata": {
    "scrolled": true
   },
   "outputs": [
    {
     "data": {
      "text/plain": [
       "(7669866, 9)"
      ]
     },
     "execution_count": 25,
     "metadata": {},
     "output_type": "execute_result"
    }
   ],
   "source": [
    "insurance_data_test.shape"
   ]
  },
  {
   "cell_type": "code",
   "execution_count": 26,
   "metadata": {},
   "outputs": [],
   "source": [
    "insurance_data_test.drop(['id'], axis=1, inplace=True)"
   ]
  },
  {
   "cell_type": "code",
   "execution_count": 27,
   "metadata": {},
   "outputs": [],
   "source": [
    "X_test = insurance_data_test.iloc[::]"
   ]
  },
  {
   "cell_type": "code",
   "execution_count": 36,
   "metadata": {},
   "outputs": [],
   "source": [
    "X_test_scaled = scaler.fit_transform(X_test)"
   ]
  },
  {
   "cell_type": "code",
   "execution_count": 28,
   "metadata": {},
   "outputs": [],
   "source": [
    "prediction = model.predict_proba(X_test)"
   ]
  },
  {
   "cell_type": "code",
   "execution_count": 31,
   "metadata": {},
   "outputs": [
    {
     "data": {
      "text/plain": [
       "array([3.1119983e-03, 3.8611579e-01, 2.2129618e-01, ..., 1.6017976e-04,\n",
       "       5.8728272e-01, 1.5320422e-05], dtype=float32)"
      ]
     },
     "execution_count": 31,
     "metadata": {},
     "output_type": "execute_result"
    }
   ],
   "source": [
    "prediction[:,1]"
   ]
  },
  {
   "cell_type": "code",
   "execution_count": 32,
   "metadata": {},
   "outputs": [],
   "source": [
    "submit = pd.read_csv('./kaggle/sample_submission/sample_submission.csv')\n",
    "submit.Response = prediction[:,1]\n",
    "submit[['id', 'Response']].to_csv('./kaggle/working/xgboost.csv', index=False)"
   ]
  },
  {
   "cell_type": "code",
   "execution_count": 33,
   "metadata": {},
   "outputs": [
    {
     "data": {
      "text/html": [
       "<div>\n",
       "<style scoped>\n",
       "    .dataframe tbody tr th:only-of-type {\n",
       "        vertical-align: middle;\n",
       "    }\n",
       "\n",
       "    .dataframe tbody tr th {\n",
       "        vertical-align: top;\n",
       "    }\n",
       "\n",
       "    .dataframe thead th {\n",
       "        text-align: right;\n",
       "    }\n",
       "</style>\n",
       "<table border=\"1\" class=\"dataframe\">\n",
       "  <thead>\n",
       "    <tr style=\"text-align: right;\">\n",
       "      <th></th>\n",
       "      <th>id</th>\n",
       "      <th>Response</th>\n",
       "    </tr>\n",
       "  </thead>\n",
       "  <tbody>\n",
       "    <tr>\n",
       "      <th>0</th>\n",
       "      <td>11504798</td>\n",
       "      <td>0.003112</td>\n",
       "    </tr>\n",
       "    <tr>\n",
       "      <th>1</th>\n",
       "      <td>11504799</td>\n",
       "      <td>0.386116</td>\n",
       "    </tr>\n",
       "    <tr>\n",
       "      <th>2</th>\n",
       "      <td>11504800</td>\n",
       "      <td>0.221296</td>\n",
       "    </tr>\n",
       "    <tr>\n",
       "      <th>3</th>\n",
       "      <td>11504801</td>\n",
       "      <td>0.000135</td>\n",
       "    </tr>\n",
       "    <tr>\n",
       "      <th>4</th>\n",
       "      <td>11504802</td>\n",
       "      <td>0.040817</td>\n",
       "    </tr>\n",
       "  </tbody>\n",
       "</table>\n",
       "</div>"
      ],
      "text/plain": [
       "         id  Response\n",
       "0  11504798  0.003112\n",
       "1  11504799  0.386116\n",
       "2  11504800  0.221296\n",
       "3  11504801  0.000135\n",
       "4  11504802  0.040817"
      ]
     },
     "execution_count": 33,
     "metadata": {},
     "output_type": "execute_result"
    }
   ],
   "source": [
    "submit.head()"
   ]
  },
  {
   "cell_type": "code",
   "execution_count": null,
   "metadata": {},
   "outputs": [],
   "source": []
  }
 ],
 "metadata": {
  "kaggle": {
   "accelerator": "gpu",
   "dataSources": [
    {
     "databundleVersionId": 8930475,
     "sourceId": 73291,
     "sourceType": "competition"
    }
   ],
   "dockerImageVersionId": 30732,
   "isGpuEnabled": true,
   "isInternetEnabled": true,
   "language": "python",
   "sourceType": "notebook"
  },
  "kernelspec": {
   "display_name": "Python 3 (ipykernel)",
   "language": "python",
   "name": "python3"
  },
  "language_info": {
   "codemirror_mode": {
    "name": "ipython",
    "version": 3
   },
   "file_extension": ".py",
   "mimetype": "text/x-python",
   "name": "python",
   "nbconvert_exporter": "python",
   "pygments_lexer": "ipython3",
   "version": "3.9.13"
  }
 },
 "nbformat": 4,
 "nbformat_minor": 4
}
